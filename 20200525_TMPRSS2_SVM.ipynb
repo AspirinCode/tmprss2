{
 "cells": [
  {
   "cell_type": "code",
   "execution_count": 2,
   "metadata": {},
   "outputs": [],
   "source": [
    "from sklearn.metrics import mean_squared_error\n",
    "from sklearn.model_selection import train_test_split\n",
    "import random\n",
    "\n",
    "# from data.data_accessors import tmprss2_to_pandas\n",
    "import numpy as np\n",
    "from rdkit import Chem, DataStructs\n",
    "import matplotlib.pyplot as plt\n",
    "import pandas as pd\n",
    "\n",
    "from sklearn.svm import LinearSVC\n",
    "from sklearn.svm import LinearSVR\n",
    "from sklearn.pipeline import make_pipeline\n",
    "from sklearn.preprocessing import StandardScaler\n",
    "from sklearn.metrics import mean_squared_error\n",
    "import pickle\n",
    "\n",
    "random.seed(1)\n",
    "\n",
    "os.chdir('/Users/JacobUmans/tmprss2/notebooks')"
   ]
  },
  {
   "cell_type": "code",
   "execution_count": 3,
   "metadata": {},
   "outputs": [
    {
     "output_type": "execute_result",
     "data": {
      "text/plain": "     acvalue_target activity_target     target  tmprss2_vs_target_spearman_r  \\\n0             0.019          Active    TMPRSS2                      1.000000   \n1             0.019          Active    TMPRSS2                      1.000000   \n2             0.020          Active    TMPRSS2                      1.000000   \n3             0.021          Active    TMPRSS2                      1.000000   \n4             0.044          Active    TMPRSS2                      1.000000   \n..              ...             ...        ...                           ...   \n890           0.168          Active  TMPRSS11D                      0.064941   \n891           0.038          Active  TMPRSS11D                      0.064941   \n892           0.043          Active  TMPRSS11D                      0.064941   \n893           0.183          Active  TMPRSS11D                      0.064941   \n894           0.202          Active  TMPRSS11D                      0.064941   \n\n     acvalue_scaled_to_tmprss2       cid  \\\n0                        0.019  46899577   \n1                        0.019  56677005   \n2                        0.020  49835415   \n3                        0.021  49835557   \n4                        0.044         0   \n..                         ...       ...   \n890                        NaN  49835606   \n891                        NaN  56680339   \n892                        NaN  56683657   \n893                        NaN  56683658   \n894                        NaN  56683659   \n\n                                    morgan_fingerprint  \n0    [0, 1, 0, 0, 0, 1, 0, 0, 0, 0, 0, 0, 0, 0, 0, ...  \n1    [0, 1, 0, 0, 0, 1, 0, 0, 0, 0, 0, 0, 0, 0, 0, ...  \n2    [0, 1, 0, 0, 0, 1, 0, 0, 0, 0, 0, 0, 0, 0, 0, ...  \n3    [0, 1, 0, 0, 0, 1, 0, 0, 0, 0, 0, 0, 0, 0, 0, ...  \n4    [0, 1, 0, 0, 0, 1, 0, 0, 0, 0, 0, 0, 0, 0, 0, ...  \n..                                                 ...  \n890  [0, 1, 0, 0, 0, 1, 0, 0, 0, 0, 0, 0, 0, 0, 0, ...  \n891  [0, 1, 0, 0, 0, 1, 0, 0, 0, 0, 0, 0, 0, 0, 0, ...  \n892  [0, 1, 0, 0, 0, 1, 0, 0, 0, 0, 0, 0, 0, 0, 0, ...  \n893  [0, 1, 0, 0, 0, 1, 0, 0, 0, 0, 0, 1, 0, 0, 0, ...  \n894  [0, 1, 0, 0, 0, 1, 0, 0, 0, 0, 0, 0, 0, 0, 0, ...  \n\n[895 rows x 7 columns]",
      "text/html": "<div>\n<style scoped>\n    .dataframe tbody tr th:only-of-type {\n        vertical-align: middle;\n    }\n\n    .dataframe tbody tr th {\n        vertical-align: top;\n    }\n\n    .dataframe thead th {\n        text-align: right;\n    }\n</style>\n<table border=\"1\" class=\"dataframe\">\n  <thead>\n    <tr style=\"text-align: right;\">\n      <th></th>\n      <th>acvalue_target</th>\n      <th>activity_target</th>\n      <th>target</th>\n      <th>tmprss2_vs_target_spearman_r</th>\n      <th>acvalue_scaled_to_tmprss2</th>\n      <th>cid</th>\n      <th>morgan_fingerprint</th>\n    </tr>\n  </thead>\n  <tbody>\n    <tr>\n      <td>0</td>\n      <td>0.019</td>\n      <td>Active</td>\n      <td>TMPRSS2</td>\n      <td>1.000000</td>\n      <td>0.019</td>\n      <td>46899577</td>\n      <td>[0, 1, 0, 0, 0, 1, 0, 0, 0, 0, 0, 0, 0, 0, 0, ...</td>\n    </tr>\n    <tr>\n      <td>1</td>\n      <td>0.019</td>\n      <td>Active</td>\n      <td>TMPRSS2</td>\n      <td>1.000000</td>\n      <td>0.019</td>\n      <td>56677005</td>\n      <td>[0, 1, 0, 0, 0, 1, 0, 0, 0, 0, 0, 0, 0, 0, 0, ...</td>\n    </tr>\n    <tr>\n      <td>2</td>\n      <td>0.020</td>\n      <td>Active</td>\n      <td>TMPRSS2</td>\n      <td>1.000000</td>\n      <td>0.020</td>\n      <td>49835415</td>\n      <td>[0, 1, 0, 0, 0, 1, 0, 0, 0, 0, 0, 0, 0, 0, 0, ...</td>\n    </tr>\n    <tr>\n      <td>3</td>\n      <td>0.021</td>\n      <td>Active</td>\n      <td>TMPRSS2</td>\n      <td>1.000000</td>\n      <td>0.021</td>\n      <td>49835557</td>\n      <td>[0, 1, 0, 0, 0, 1, 0, 0, 0, 0, 0, 0, 0, 0, 0, ...</td>\n    </tr>\n    <tr>\n      <td>4</td>\n      <td>0.044</td>\n      <td>Active</td>\n      <td>TMPRSS2</td>\n      <td>1.000000</td>\n      <td>0.044</td>\n      <td>0</td>\n      <td>[0, 1, 0, 0, 0, 1, 0, 0, 0, 0, 0, 0, 0, 0, 0, ...</td>\n    </tr>\n    <tr>\n      <td>...</td>\n      <td>...</td>\n      <td>...</td>\n      <td>...</td>\n      <td>...</td>\n      <td>...</td>\n      <td>...</td>\n      <td>...</td>\n    </tr>\n    <tr>\n      <td>890</td>\n      <td>0.168</td>\n      <td>Active</td>\n      <td>TMPRSS11D</td>\n      <td>0.064941</td>\n      <td>NaN</td>\n      <td>49835606</td>\n      <td>[0, 1, 0, 0, 0, 1, 0, 0, 0, 0, 0, 0, 0, 0, 0, ...</td>\n    </tr>\n    <tr>\n      <td>891</td>\n      <td>0.038</td>\n      <td>Active</td>\n      <td>TMPRSS11D</td>\n      <td>0.064941</td>\n      <td>NaN</td>\n      <td>56680339</td>\n      <td>[0, 1, 0, 0, 0, 1, 0, 0, 0, 0, 0, 0, 0, 0, 0, ...</td>\n    </tr>\n    <tr>\n      <td>892</td>\n      <td>0.043</td>\n      <td>Active</td>\n      <td>TMPRSS11D</td>\n      <td>0.064941</td>\n      <td>NaN</td>\n      <td>56683657</td>\n      <td>[0, 1, 0, 0, 0, 1, 0, 0, 0, 0, 0, 0, 0, 0, 0, ...</td>\n    </tr>\n    <tr>\n      <td>893</td>\n      <td>0.183</td>\n      <td>Active</td>\n      <td>TMPRSS11D</td>\n      <td>0.064941</td>\n      <td>NaN</td>\n      <td>56683658</td>\n      <td>[0, 1, 0, 0, 0, 1, 0, 0, 0, 0, 0, 1, 0, 0, 0, ...</td>\n    </tr>\n    <tr>\n      <td>894</td>\n      <td>0.202</td>\n      <td>Active</td>\n      <td>TMPRSS11D</td>\n      <td>0.064941</td>\n      <td>NaN</td>\n      <td>56683659</td>\n      <td>[0, 1, 0, 0, 0, 1, 0, 0, 0, 0, 0, 0, 0, 0, 0, ...</td>\n    </tr>\n  </tbody>\n</table>\n<p>895 rows × 7 columns</p>\n</div>"
     },
     "metadata": {},
     "execution_count": 3
    }
   ],
   "source": [
    "# collect dataset\n",
    "dataset = pd.read_pickle(\"../dumps/combined_dataset.pkl\")\n",
    "dataset"
   ]
  },
  {
   "cell_type": "code",
   "execution_count": 4,
   "metadata": {
    "tags": [
     "outputPrepend"
    ]
   },
   "outputs": [],
   "source": [
    "fingerprints = dataset.morgan_fingerprint\n",
    "X = np.zeros([len(dataset), 2048])\n",
    "for i in range(len(dataset)):\n",
    "    for j in range(2048):\n",
    "        X[i][j] = fingerprints[i][j]\n",
    "\n",
    "y = np.array(dataset.acvalue_scaled_to_tmprss2)\n",
    "\n",
    "X = X[~np.isnan(y)]\n",
    "\n",
    "y = -np.log10(y)\n",
    "y = y[~np.isnan(y)]"
   ]
  },
  {
   "cell_type": "code",
   "execution_count": 5,
   "metadata": {},
   "outputs": [],
   "source": [
    "#split training and testing data for each dataset\n",
    "\n",
    "train_X, test_X, train_y, test_y = train_test_split(X, y, test_size=0.2)"
   ]
  },
  {
   "cell_type": "code",
   "execution_count": 6,
   "metadata": {},
   "outputs": [
    {
     "output_type": "stream",
     "name": "stdout",
     "text": "SVR RMSE:1.0927675717987686\n"
    }
   ],
   "source": [
    "#SVM regression\n",
    "svmReg = make_pipeline(StandardScaler(), LinearSVR(random_state=0, tol=1e-5))\n",
    "svmReg.fit(train_X, train_y)\n",
    "\n",
    "pred = svmReg.predict(test_X)\n",
    "MSE = mean_squared_error(test_y, pred)\n",
    "RMSE = np.sqrt(MSE)\n",
    "print(\"SVR RMSE:{}\".format(RMSE))"
   ]
  },
  {
   "cell_type": "code",
   "execution_count": 7,
   "metadata": {},
   "outputs": [],
   "source": [
    "# collect dataset\n",
    "broad_library = pd.read_csv('../data/broad_repurposing_library.csv')\n",
    "broad_library = broad_library.drop(9603)\n",
    "broad_library = broad_library.drop(9602)\n",
    "broad_library = broad_library.drop(9040)\n",
    "broad_library = broad_library.drop(8416)\n",
    "broad_library = broad_library.drop(7224)\n",
    "broad_library = broad_library.drop(2548)\n",
    "broad_library['fingerprints'] = broad_library.smiles.apply(lambda s: Chem.RDKFingerprint(Chem.MolFromSmiles(s)))\n"
   ]
  },
  {
   "cell_type": "code",
   "execution_count": 8,
   "metadata": {
    "tags": [
     "outputPrepend",
     "outputPrepend",
     "outputPrepend",
     "outputPrepend",
     "outputPrepend",
     "outputPrepend",
     "outputPrepend",
     "outputPrepend",
     "outputPrepend",
     "outputPrepend",
     "outputPrepend",
     "outputPrepend",
     "outputPrepend",
     "outputPrepend",
     "outputPrepend",
     "outputPrepend",
     "outputPrepend",
     "outputPrepend",
     "outputPrepend",
     "outputPrepend",
     "outputPrepend",
     "outputPrepend",
     "outputPrepend",
     "outputPrepend",
     "outputPrepend",
     "outputPrepend",
     "outputPrepend",
     "outputPrepend",
     "outputPrepend",
     "outputPrepend",
     "outputPrepend",
     "outputPrepend",
     "outputPrepend",
     "outputPrepend",
     "outputPrepend",
     "outputPrepend",
     "outputPrepend",
     "outputPrepend",
     "outputPrepend",
     "outputPrepend",
     "outputPrepend",
     "outputPrepend",
     "outputPrepend"
    ]
   },
   "outputs": [],
   "source": [
    "broad_fingerprints = np.zeros([len(broad_library), 2048])\n",
    "for i in range(len(broad_library)):\n",
    "    DataStructs.ConvertToNumpyArray(broad_library.fingerprints.iloc[i], broad_fingerprints[i])"
   ]
  },
  {
   "cell_type": "code",
   "execution_count": 13,
   "metadata": {},
   "outputs": [],
   "source": [
    "svmReg_full = make_pipeline(StandardScaler(), LinearSVR(random_state=0, tol=1e-5))\n",
    "svmReg_full.fit(X, y)\n",
    "predictions = np.zeros([len(broad_fingerprints), 2])\n",
    "pred_values = svmReg_full.predict(broad_fingerprints)"
   ]
  },
  {
   "cell_type": "code",
   "execution_count": 14,
   "metadata": {},
   "outputs": [],
   "source": [
    "argsort = np.argsort(pred_values)\n",
    "compounds_sorted = broad_library.smiles[argsort]\n",
    "pred_values_sorted = pred_values[argsort]\n"
   ]
  },
  {
   "cell_type": "code",
   "execution_count": 16,
   "metadata": {},
   "outputs": [
    {
     "output_type": "stream",
     "name": "stdout",
     "text": "[-30.39500154 -30.39500154 -30.39500154 ...  13.06111162  13.06111162\n  13.06111162]\n8510              COc1ccc(CCCOC(Cn2ccnc2)c2ccc(OC)cc2)cc1\n8508                                     CN(C)CCCCSC(N)=N\n8509                                     CN(C)CCCCSC(N)=N\n8992    CC(=O)Nc1cccc(Nc2ncnc(n2)N2CCC(CC2)OCc2ccc(OC(...\n5419        Nc1nc(SCc2ncc[nH]2)c(C#N)c(-c2ccc(O)cc2)c1C#N\n                              ...                        \n279     CC(C)CCC[C@@H](C)CCC[C@@H](C)CCC[C@@](C)(O)CCC...\n280     CC(C)CCC[C@@H](C)CCC[C@@H](C)CCC[C@@](C)(O)CCC...\n2545    COC1=C(OC)C(=O)C(C\\C=C(/C)CC\\C=C(/C)CC\\C=C(/C)...\n2544    COC1=C(OC)C(=O)C(C\\C=C(/C)CC\\C=C(/C)CC\\C=C(/C)...\n2543    COC1=C(OC)C(=O)C(C\\C=C(/C)CC\\C=C(/C)CC\\C=C(/C)...\nName: smiles, Length: 10141, dtype: object\n"
    }
   ],
   "source": []
  },
  {
   "cell_type": "code",
   "execution_count": 17,
   "metadata": {},
   "outputs": [
    {
     "output_type": "error",
     "ename": "TypeError",
     "evalue": "No registered converter was able to produce a C++ rvalue of type std::__1::basic_string<wchar_t, std::__1::char_traits<wchar_t>, std::__1::allocator<wchar_t> > from this Python object of type numpy.float64",
     "traceback": [
      "\u001b[0;31m---------------------------------------------------------------------------\u001b[0m",
      "\u001b[0;31mTypeError\u001b[0m                                 Traceback (most recent call last)",
      "\u001b[0;32m<ipython-input-17-7f408e71fed3>\u001b[0m in \u001b[0;36m<module>\u001b[0;34m\u001b[0m\n\u001b[0;32m----> 1\u001b[0;31m \u001b[0mChem\u001b[0m\u001b[0;34m.\u001b[0m\u001b[0mMolFromSmiles\u001b[0m\u001b[0;34m(\u001b[0m\u001b[0mpred_values_sorted\u001b[0m\u001b[0;34m[\u001b[0m\u001b[0;36m2543\u001b[0m\u001b[0;34m]\u001b[0m\u001b[0;34m)\u001b[0m\u001b[0;34m\u001b[0m\u001b[0;34m\u001b[0m\u001b[0m\n\u001b[0m\u001b[1;32m      2\u001b[0m \u001b[0mChem\u001b[0m\u001b[0;34m.\u001b[0m\u001b[0mMolFromSmiles\u001b[0m\u001b[0;34m(\u001b[0m\u001b[0mpred_values_sorted\u001b[0m\u001b[0;34m[\u001b[0m\u001b[0;36m2544\u001b[0m\u001b[0;34m]\u001b[0m\u001b[0;34m)\u001b[0m\u001b[0;34m\u001b[0m\u001b[0;34m\u001b[0m\u001b[0m\n\u001b[1;32m      3\u001b[0m \u001b[0mChem\u001b[0m\u001b[0;34m.\u001b[0m\u001b[0mMolFromSmiles\u001b[0m\u001b[0;34m(\u001b[0m\u001b[0mpred_values_sorted\u001b[0m\u001b[0;34m[\u001b[0m\u001b[0;36m2545\u001b[0m\u001b[0;34m]\u001b[0m\u001b[0;34m)\u001b[0m\u001b[0;34m\u001b[0m\u001b[0;34m\u001b[0m\u001b[0m\n",
      "\u001b[0;31mTypeError\u001b[0m: No registered converter was able to produce a C++ rvalue of type std::__1::basic_string<wchar_t, std::__1::char_traits<wchar_t>, std::__1::allocator<wchar_t> > from this Python object of type numpy.float64"
     ]
    }
   ],
   "source": [
    "Chem.MolFromSmiles(compounds_sorted[2543])\n",
    "Chem.MolFromSmiles(compounds_sorted[2544])\n",
    "Chem.MolFromSmiles(compounds_sorted[2545])"
   ]
  },
  {
   "cell_type": "code",
   "execution_count": null,
   "metadata": {},
   "outputs": [],
   "source": []
  }
 ],
 "metadata": {
  "kernelspec": {
   "display_name": "Python 3",
   "language": "python",
   "name": "python3"
  },
  "language_info": {
   "codemirror_mode": {
    "name": "ipython",
    "version": 3
   },
   "file_extension": ".py",
   "mimetype": "text/x-python",
   "name": "python",
   "nbconvert_exporter": "python",
   "pygments_lexer": "ipython3",
   "version": "3.7.7-final"
  }
 },
 "nbformat": 4,
 "nbformat_minor": 4
}