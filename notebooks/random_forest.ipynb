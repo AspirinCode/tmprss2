{
 "cells": [
  {
   "cell_type": "code",
   "execution_count": null,
   "metadata": {},
   "outputs": [],
   "source": [
    "import pandas as pd\n",
    "import itertools\n",
    "from sklearn.ensemble import RandomForestClassifier\n",
    "from sklearn.model_selection import train_test_split\n",
    "from sklearn.inspection import permutation_importance\n",
    "from sklearn.metrics import classification_report, confusion_matrix\n",
    "\n",
    "import matplotlib.pyplot as plt\n",
    "import numpy as np\n",
    "\n",
    "#load data labels and RDkit fingerprints\n",
    "#naively assign data for all proteins to one giant array\n",
    "f1 = pd.read_pickle('../processed_data/TMPRSS11D_processed.pkl')\n",
    "f2 = pd.read_pickle('../processed_data/ST14_processed.pkl')\n",
    "f3 = pd.read_pickle('../processed_data/TMPRSS6_processed.pkl')\n",
    "fp1 = np.load('../dumps/deprecated/TMPRSS11D_morgan_fingerprints.npz')\n",
    "fp2 = np.load('../dumps/deprecated/ST14_morgan_fingerprints.npz')\n",
    "fp3 = np.load('../dumps/deprecated/TMPRSS6_morgan_fingerprints.npz')\n",
    "features=pd.concat([f1, f2, f3])"
   ]
  },
  {
   "cell_type": "code",
   "execution_count": null,
   "metadata": {},
   "outputs": [],
   "source": [
    "features.head(5) #inspect data\n",
    "fps_merged = []\n",
    "ac_merged = []\n",
    "activity=[]\n",
    "#function to merge npz arrays\n",
    "def merge_keys(in_xarray, in_yarray, in_y2array, in_fp, in_data):\n",
    "     for i in range(len(in_fp.keys())):\n",
    "            acval=in_data.loc[in_data['cid']==int(list(in_fp.keys())[i]), 'acvalue'].iloc[0]\n",
    "            active=in_data.loc[in_data['cid']==int(list(in_fp.keys())[i]), 'activity'].iloc[0]\n",
    "            in_yarray.append(acval)\n",
    "            in_xarray.append(in_fp[list(in_fp.keys())[i]])\n",
    "            if active == 'Active':\n",
    "                in_y2array.append(1)\n",
    "            else:\n",
    "                in_y2array.append(0)\n",
    "     return in_xarray, in_yarray, in_y2array\n",
    "            "
   ]
  },
  {
   "cell_type": "code",
   "execution_count": null,
   "metadata": {},
   "outputs": [],
   "source": [
    "fps_merged, ac_merged, activity=merge_keys(fps_merged, ac_merged, activity, fp1, features)\n",
    "fps_merged, ac_merged, activity=merge_keys(fps_merged, ac_merged, activity, fp2, features)\n",
    "fps_merged, ac_merged, activity=merge_keys(fps_merged, ac_merged, activity, fp3, features)"
   ]
  },
  {
   "cell_type": "code",
   "execution_count": null,
   "metadata": {},
   "outputs": [],
   "source": [
    "#UNUSED #NOT RUN \n",
    "def chars_to_ints(char_array):\n",
    "    int_array=[int(s) for s in itertools.islice(char_array,1,len(char_array)-1,2)]\n",
    "    int_array=np.asarray(int_array)\n",
    "    return int_array\n",
    "#NOT RUN"
   ]
  },
  {
   "cell_type": "code",
   "execution_count": null,
   "metadata": {
    "scrolled": true
   },
   "outputs": [],
   "source": [
    "#split training and test set, keep random_state to be an integer for reproducibility\n",
    "#train the forest (this can take a while)\n",
    "#in the example, about 2/3 go to training and 1/3 go to test\n",
    "X_train, X_test, y_train, y_test = train_test_split(fps_merged,activity, test_size=0.33, random_state=39)\n",
    "rf=RandomForestClassifier(verbose=2, n_estimators=50, random_state=111)\n",
    "rf.fit(np.asarray(X_train), np.asarray(y_train))"
   ]
  },
  {
   "cell_type": "code",
   "execution_count": null,
   "metadata": {},
   "outputs": [],
   "source": [
    "y_pred=rf.predict(X_test)\n",
    "#print(y_pred)\n",
    "#show probabilities; print(rf.predict_proba(X_test))\n",
    "print(rf.score(X_test, y_test))"
   ]
  },
  {
   "cell_type": "code",
   "execution_count": null,
   "metadata": {},
   "outputs": [],
   "source": [
    "#get the index of the features (of RDkit fingerprint) that were important\n",
    "importances = rf.feature_importances_\n",
    "featurenums = np.array([str(x).zfill(2) for x in range(len(importances))])\n",
    "indices = np.argsort(importances)[::-1][0:25]#get the 25 most important features\n",
    "plt.title('Feature Importances (train set)')\n",
    "plt.bar(range(len(indices)), importances[indices], align='center')\n",
    "plt.ylabel('Relative Importance')\n",
    "plt.xticks(range(len(indices)), featurenums[indices], rotation=90)\n",
    "plt.show()\n",
    "#output metrics\n",
    "print(classification_report(y_test, y_pred))\n"
   ]
  },
  {
   "cell_type": "code",
   "execution_count": null,
   "metadata": {},
   "outputs": [],
   "source": []
  }
 ],
 "metadata": {
  "kernelspec": {
   "display_name": "Python 3",
   "language": "python",
   "name": "python3"
  },
  "language_info": {
   "codemirror_mode": {
    "name": "ipython",
    "version": 3
   },
   "file_extension": ".py",
   "mimetype": "text/x-python",
   "name": "python",
   "nbconvert_exporter": "python",
   "pygments_lexer": "ipython3",
   "version": "3.6.10"
  },
  "varInspector": {
   "cols": {
    "lenName": 16,
    "lenType": 16,
    "lenVar": 40
   },
   "kernels_config": {
    "python": {
     "delete_cmd_postfix": "",
     "delete_cmd_prefix": "del ",
     "library": "var_list.py",
     "varRefreshCmd": "print(var_dic_list())"
    },
    "r": {
     "delete_cmd_postfix": ") ",
     "delete_cmd_prefix": "rm(",
     "library": "var_list.r",
     "varRefreshCmd": "cat(var_dic_list()) "
    }
   },
   "types_to_exclude": [
    "module",
    "function",
    "builtin_function_or_method",
    "instance",
    "_Feature"
   ],
   "window_display": false
  }
 },
 "nbformat": 4,
 "nbformat_minor": 4
}
