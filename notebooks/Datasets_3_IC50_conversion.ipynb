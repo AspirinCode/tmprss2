{
 "cells": [
  {
   "cell_type": "code",
   "execution_count": 17,
   "metadata": {},
   "outputs": [],
   "source": [
    "import pandas as pd\n",
    "import numpy as np\n",
    "from pubchempy import get_assays"
   ]
  },
  {
   "cell_type": "code",
   "execution_count": 1,
   "metadata": {},
   "outputs": [],
   "source": [
    "AVAILABLE_DATASETS = ['ST14', 'KLKB1', 'TMPRSS11D', 'TMPRSS6']"
   ]
  },
  {
   "cell_type": "code",
   "execution_count": 66,
   "metadata": {},
   "outputs": [],
   "source": [
    "data = []\n",
    "for ds_name in AVAILABLE_DATASETS:\n",
    "    ds_to_dois[ds_name] = []\n",
    "    with open(f'../dumps/{ds_name}_IC50_assays.txt', 'r') as f:\n",
    "        lines = f.readlines()\n",
    "        lines = [int(line.strip()) for line in lines]\n",
    "    if len(lines) == 0:\n",
    "        continue\n",
    "    assays = get_assays(lines)\n",
    "    for x in assays:\n",
    "        for c in x.comments:\n",
    "            if 'DOI:' in c:\n",
    "                data.append((ds_name, x.aid, c))\n",
    "                break"
   ]
  },
  {
   "cell_type": "code",
   "execution_count": 68,
   "metadata": {},
   "outputs": [],
   "source": [
    "df = pd.DataFrame(data)"
   ]
  },
  {
   "cell_type": "code",
   "execution_count": 73,
   "metadata": {},
   "outputs": [],
   "source": [
    "df.columns = ['ds_name', 'assay_id', 'doi']"
   ]
  },
  {
   "cell_type": "code",
   "execution_count": 75,
   "metadata": {},
   "outputs": [],
   "source": [
    "df.to_csv(f'../dumps/combined_IC50.csv', index=False)"
   ]
  }
 ],
 "metadata": {
  "kernelspec": {
   "display_name": "Python [conda env:tmprss2]",
   "language": "python",
   "name": "conda-env-tmprss2-py"
  },
  "language_info": {
   "codemirror_mode": {
    "name": "ipython",
    "version": 3
   },
   "file_extension": ".py",
   "mimetype": "text/x-python",
   "name": "python",
   "nbconvert_exporter": "python",
   "pygments_lexer": "ipython3",
   "version": "3.6.10"
  }
 },
 "nbformat": 4,
 "nbformat_minor": 4
}
