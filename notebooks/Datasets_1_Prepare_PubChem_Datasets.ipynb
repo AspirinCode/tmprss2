{
 "cells": [
  {
   "cell_type": "code",
   "execution_count": 1,
   "metadata": {},
   "outputs": [],
   "source": [
    "import pandas as pd\n",
    "import numpy as np\n",
    "from collections import Counter\n",
    "import pickle\n",
    "from tqdm import tqdm\n",
    "tqdm.pandas()\n",
    "import statistics\n",
    "from pubchempy import Compound\n",
    "from rdkit import Chem, DataStructs\n",
    "from rdkit.Chem import SaltRemover, QED, rdMolDescriptors\n",
    "from molvs import Standardizer\n",
    "import matplotlib.pyplot as plt\n",
    "import seaborn as sns\n",
    "sns.set()"
   ]
  },
  {
   "cell_type": "markdown",
   "metadata": {},
   "source": [
    "# Datasets Task 1: Prepare PubChem Datasets\n",
    "\n",
    "Author: Kaan Donbekci (donbekci@stanford.edu)"
   ]
  },
  {
   "cell_type": "markdown",
   "metadata": {},
   "source": [
    "## Contents\n",
    "* [1.1 Assemble Dataset](#1.1-Assemble-Dataset)\n",
    "* [1.2 Sanitize Molecules](#1.2-Sanitize-Molecules)\n",
    "* [1.3 Remove non-druglike molecules](#1.3-Remove-non-druglike-molecules)\n",
    "* [1.4 Resolve errors](#1.4-Resolve-errors)\n",
    "    * [1.4.1 Calculate pairwise similarities using fingerprints](#1.4.1-Calculate-pairwise-similarities-using-fingerprints)\n",
    "    * [1.4.2 Find and remove duplicates](#1.4.2-Find-and-remove-duplicates) # TODO\n",
    "    * [1.4.3 Find and remove activity cliffs](#1.4.3-Find-and-remove-activity-cliffs) # TODO\n",
    "* [Exports](#Exports)"
   ]
  },
  {
   "cell_type": "code",
   "execution_count": 2,
   "metadata": {},
   "outputs": [],
   "source": [
    "plots = False"
   ]
  },
  {
   "cell_type": "code",
   "execution_count": 3,
   "metadata": {},
   "outputs": [],
   "source": [
    "AVAILABLE_DATASETS = ['ST14', 'KLKB1', 'TMPRSS11D', 'TMPRSS6']"
   ]
  },
  {
   "cell_type": "code",
   "execution_count": 4,
   "metadata": {},
   "outputs": [],
   "source": [
    "ds_name = 'ST14'"
   ]
  },
  {
   "cell_type": "code",
   "execution_count": 5,
   "metadata": {},
   "outputs": [],
   "source": [
    "assert ds_name in AVAILABLE_DATASETS"
   ]
  },
  {
   "cell_type": "code",
   "execution_count": 6,
   "metadata": {},
   "outputs": [],
   "source": [
    "def load_pickle(filename):\n",
    "    with open(f'../dumps/{filename}.pkl', 'rb') as f:\n",
    "        return pickle.load(f)"
   ]
  },
  {
   "cell_type": "code",
   "execution_count": 7,
   "metadata": {},
   "outputs": [],
   "source": [
    "IC50_to_Ki_df = pd.read_csv('../data/combined_IC50.csv')"
   ]
  },
  {
   "cell_type": "code",
   "execution_count": 8,
   "metadata": {},
   "outputs": [],
   "source": [
    "IC50_to_Ki = {}\n",
    "for i, row in IC50_to_Ki_df.iterrows():\n",
    "    if row.IC50 == '1':\n",
    "        IC50_to_Ki[int(row.assay_id)] = float(row.Ki)"
   ]
  },
  {
   "cell_type": "markdown",
   "metadata": {},
   "source": [
    "## 1.1 Assemble Dataset"
   ]
  },
  {
   "cell_type": "markdown",
   "metadata": {},
   "source": [
    "First step is to read the dataset as exported from \n",
    "[pubchempy](https://pubchem.ncbi.nlm.nih.gov/gene/6768#section=Tested-Compounds&fullscreen=true).\n"
   ]
  },
  {
   "cell_type": "code",
   "execution_count": 9,
   "metadata": {},
   "outputs": [],
   "source": [
    "df = pd.read_csv(f'../data/{ds_name}.csv')"
   ]
  },
  {
   "cell_type": "markdown",
   "metadata": {},
   "source": [
    "Let's drop the rows where the Activity value is not measured in Ki. "
   ]
  },
  {
   "cell_type": "code",
   "execution_count": 10,
   "metadata": {},
   "outputs": [
    {
     "data": {
      "text/plain": [
       "Counter({'Ki': 417, 'IC50': 20, 'Km': 3, nan: 91, 'Kcat': 3})"
      ]
     },
     "execution_count": 10,
     "metadata": {},
     "output_type": "execute_result"
    }
   ],
   "source": [
    "Counter(df.acname)"
   ]
  },
  {
   "cell_type": "code",
   "execution_count": 11,
   "metadata": {},
   "outputs": [],
   "source": [
    "def fix_IC50(row):\n",
    "    if row.aid in IC50_to_Ki and row.acname == 'IC50':\n",
    "        row.acname = 'Ki'\n",
    "        row.acvalue = row.acvalue * IC50_to_Ki[row.aid]\n",
    "    return row"
   ]
  },
  {
   "cell_type": "code",
   "execution_count": 12,
   "metadata": {},
   "outputs": [],
   "source": [
    "df = df.apply(fix_IC50, axis=1)"
   ]
  },
  {
   "cell_type": "code",
   "execution_count": 13,
   "metadata": {},
   "outputs": [],
   "source": [
    "df = df[df.acname == 'Ki'].reset_index(drop=True)"
   ]
  },
  {
   "cell_type": "markdown",
   "metadata": {},
   "source": [
    "Replace categorical labels of unspecified with threshold values"
   ]
  },
  {
   "cell_type": "code",
   "execution_count": 14,
   "metadata": {},
   "outputs": [
    {
     "data": {
      "text/plain": [
       "Counter({'Active': 404, 'Unspecified': 13})"
      ]
     },
     "execution_count": 14,
     "metadata": {},
     "output_type": "execute_result"
    }
   ],
   "source": [
    "Counter(df.activity)"
   ]
  },
  {
   "cell_type": "code",
   "execution_count": 15,
   "metadata": {},
   "outputs": [],
   "source": [
    "activity_threshold = 50"
   ]
  },
  {
   "cell_type": "code",
   "execution_count": 16,
   "metadata": {},
   "outputs": [],
   "source": [
    "assert len(df[(df.acvalue < activity_threshold) & (df.activity == 'Inactive')]) == 0\n",
    "df.loc[(df.acvalue<activity_threshold), 'activity'] = 'Active'"
   ]
  },
  {
   "cell_type": "code",
   "execution_count": 17,
   "metadata": {},
   "outputs": [],
   "source": [
    "assert len(df[(df.acvalue >= activity_threshold) & (df.activity == 'Active')]) == 0\n",
    "df.loc[(df.acvalue>=activity_threshold) , 'activity'] = 'Inactive'"
   ]
  },
  {
   "cell_type": "markdown",
   "metadata": {},
   "source": [
    "Remove rows with nan activity values and unspecified activity"
   ]
  },
  {
   "cell_type": "code",
   "execution_count": 18,
   "metadata": {},
   "outputs": [],
   "source": [
    "df = df.drop(df[(pd.isna(df.acvalue)) & (df.activity == 'Unspecified')].index)"
   ]
  },
  {
   "cell_type": "markdown",
   "metadata": {},
   "source": [
    "Some compounds have multiple rows in the dataset, use median activity value and reduce them to a single row."
   ]
  },
  {
   "cell_type": "code",
   "execution_count": 19,
   "metadata": {},
   "outputs": [],
   "source": [
    "cid_to_rows = {}\n",
    "for i, row in df.iterrows():\n",
    "    if row.cid not in cid_to_rows:\n",
    "        cid_to_rows[row.cid] = []\n",
    "    cid_to_rows[row.cid].append(row)"
   ]
  },
  {
   "cell_type": "code",
   "execution_count": 20,
   "metadata": {},
   "outputs": [
    {
     "data": {
      "text/plain": [
       "array(['Active', 'Inactive'], dtype=object)"
      ]
     },
     "execution_count": 20,
     "metadata": {},
     "output_type": "execute_result"
    }
   ],
   "source": [
    "df.activity.unique()"
   ]
  },
  {
   "cell_type": "code",
   "execution_count": 21,
   "metadata": {},
   "outputs": [],
   "source": [
    "valid_activities = set(['Active', 'Inactive'])"
   ]
  },
  {
   "cell_type": "code",
   "execution_count": 22,
   "metadata": {},
   "outputs": [
    {
     "name": "stderr",
     "output_type": "stream",
     "text": [
      "100%|██████████| 332/332 [00:00<00:00, 1924.63it/s]\n"
     ]
    }
   ],
   "source": [
    "cleaned_rows = []\n",
    "problem_rows = []\n",
    "for cid, rows in tqdm(cid_to_rows.items()):\n",
    "    if len(rows) == 1:\n",
    "        row = rows[0]\n",
    "        cleaned_rows.append(row[['cid', 'acvalue', 'activity']])\n",
    "    else:\n",
    "        activities = []\n",
    "        acvalues = []\n",
    "        for row in rows:\n",
    "            activities.append(row.activity)\n",
    "            acvalues.append(row.acvalue)\n",
    "#             if row.acvalue\n",
    "        activities = set(activities)\n",
    "        \n",
    "        if len(activities) != 1:\n",
    "            problem_rows.append(rows)\n",
    "            continue\n",
    "        activity = activities.pop()\n",
    "        if activity not in valid_activities:\n",
    "            continue\n",
    "#         acvalues = np.array(acvalues)[np.where(pd.notna(acvalues))]\n",
    "        acvalue = np.nanmedian(acvalues)\n",
    "        row = pd.Series({'cid': cid, 'acvalue': acvalue, 'activity': activity})\n",
    "        cleaned_rows.append(row)"
   ]
  },
  {
   "cell_type": "code",
   "execution_count": 23,
   "metadata": {},
   "outputs": [],
   "source": [
    "df = pd.DataFrame(cleaned_rows).reset_index(drop=True)"
   ]
  },
  {
   "cell_type": "code",
   "execution_count": 24,
   "metadata": {},
   "outputs": [
    {
     "data": {
      "text/plain": [
       "332"
      ]
     },
     "execution_count": 24,
     "metadata": {},
     "output_type": "execute_result"
    }
   ],
   "source": [
    "len(df)"
   ]
  },
  {
   "cell_type": "code",
   "execution_count": 25,
   "metadata": {},
   "outputs": [],
   "source": [
    "try:\n",
    "    cid_to_pubchem = load_pickle(f'{ds_name}_cid_to_pubchem')\n",
    "except:\n",
    "    cid_to_pubchem = {}\n",
    "    print('will send requests to pubchempy, might take a while')"
   ]
  },
  {
   "cell_type": "markdown",
   "metadata": {},
   "source": [
    "Query pubchempy to get SMILES codes and keep a dictionary of the compounds."
   ]
  },
  {
   "cell_type": "code",
   "execution_count": 26,
   "metadata": {},
   "outputs": [],
   "source": [
    "if len(cid_to_pubchem) != len(df):\n",
    "    for i, row in tqdm(df.iterrows(), total=len(df)):\n",
    "        if row.cid not in cid_to_pubchem:\n",
    "            compound = Compound.from_cid(row.cid)\n",
    "            cid_to_pubchem[row.cid] = compound\n",
    "assert len(cid_to_pubchem) == len(df)"
   ]
  },
  {
   "cell_type": "code",
   "execution_count": 27,
   "metadata": {},
   "outputs": [],
   "source": [
    "df['smiles'] = None"
   ]
  },
  {
   "cell_type": "code",
   "execution_count": 28,
   "metadata": {},
   "outputs": [],
   "source": [
    "def set_smiles(row):\n",
    "    compound = cid_to_pubchem[row.cid]\n",
    "    row.smiles = compound.isomeric_smiles\n",
    "    return row"
   ]
  },
  {
   "cell_type": "code",
   "execution_count": 29,
   "metadata": {},
   "outputs": [
    {
     "name": "stderr",
     "output_type": "stream",
     "text": [
      "100%|██████████| 332/332 [00:00<00:00, 4908.40it/s]\n"
     ]
    }
   ],
   "source": [
    "df = df.progress_apply(set_smiles, axis=1)"
   ]
  },
  {
   "cell_type": "code",
   "execution_count": 30,
   "metadata": {},
   "outputs": [
    {
     "data": {
      "text/html": [
       "<div>\n",
       "<style scoped>\n",
       "    .dataframe tbody tr th:only-of-type {\n",
       "        vertical-align: middle;\n",
       "    }\n",
       "\n",
       "    .dataframe tbody tr th {\n",
       "        vertical-align: top;\n",
       "    }\n",
       "\n",
       "    .dataframe thead th {\n",
       "        text-align: right;\n",
       "    }\n",
       "</style>\n",
       "<table border=\"1\" class=\"dataframe\">\n",
       "  <thead>\n",
       "    <tr style=\"text-align: right;\">\n",
       "      <th></th>\n",
       "      <th>cid</th>\n",
       "      <th>acvalue</th>\n",
       "      <th>activity</th>\n",
       "      <th>smiles</th>\n",
       "    </tr>\n",
       "  </thead>\n",
       "  <tbody>\n",
       "    <tr>\n",
       "      <th>0</th>\n",
       "      <td>44436348</td>\n",
       "      <td>0.05046</td>\n",
       "      <td>Active</td>\n",
       "      <td>CC[C@H](C)[C@H]1C(=O)N[C@H]2CSSC[C@@H](C(=O)N[...</td>\n",
       "    </tr>\n",
       "    <tr>\n",
       "      <th>1</th>\n",
       "      <td>11974</td>\n",
       "      <td>0.53500</td>\n",
       "      <td>Active</td>\n",
       "      <td>C1=CC(=C(C=C1C(=N)N)Br)OCCCOC2=C(C=C(C=C2)C(=N...</td>\n",
       "    </tr>\n",
       "    <tr>\n",
       "      <th>2</th>\n",
       "      <td>432298</td>\n",
       "      <td>0.20400</td>\n",
       "      <td>Active</td>\n",
       "      <td>C1=CC(=CC=C1C(=N)N)OC2=CC=C(C=C2)OC3=CC=C(C=C3...</td>\n",
       "    </tr>\n",
       "    <tr>\n",
       "      <th>3</th>\n",
       "      <td>411406</td>\n",
       "      <td>0.19100</td>\n",
       "      <td>Active</td>\n",
       "      <td>C1=CC(=CC=C1C(=N)N)OCCCCCCOC2=C(C=C(C=C2)C(=N)N)I</td>\n",
       "    </tr>\n",
       "    <tr>\n",
       "      <th>4</th>\n",
       "      <td>135435498</td>\n",
       "      <td>4.50000</td>\n",
       "      <td>Active</td>\n",
       "      <td>C1=CC(=CC=C1C(=N)N)N=NC2=C(C=CC3=CC4=C(C=CC(=C...</td>\n",
       "    </tr>\n",
       "  </tbody>\n",
       "</table>\n",
       "</div>"
      ],
      "text/plain": [
       "         cid  acvalue activity  \\\n",
       "0   44436348  0.05046   Active   \n",
       "1      11974  0.53500   Active   \n",
       "2     432298  0.20400   Active   \n",
       "3     411406  0.19100   Active   \n",
       "4  135435498  4.50000   Active   \n",
       "\n",
       "                                              smiles  \n",
       "0  CC[C@H](C)[C@H]1C(=O)N[C@H]2CSSC[C@@H](C(=O)N[...  \n",
       "1  C1=CC(=C(C=C1C(=N)N)Br)OCCCOC2=C(C=C(C=C2)C(=N...  \n",
       "2  C1=CC(=CC=C1C(=N)N)OC2=CC=C(C=C2)OC3=CC=C(C=C3...  \n",
       "3  C1=CC(=CC=C1C(=N)N)OCCCCCCOC2=C(C=C(C=C2)C(=N)N)I  \n",
       "4  C1=CC(=CC=C1C(=N)N)N=NC2=C(C=CC3=CC4=C(C=CC(=C...  "
      ]
     },
     "execution_count": 30,
     "metadata": {},
     "output_type": "execute_result"
    }
   ],
   "source": [
    "df.head()"
   ]
  },
  {
   "cell_type": "markdown",
   "metadata": {},
   "source": [
    "## 1.2 Sanitize Molecules"
   ]
  },
  {
   "cell_type": "markdown",
   "metadata": {},
   "source": [
    "Sanitization has two steps: first, standardize the molecule, then, remove the salts from it. We will use RDKit for both tasks."
   ]
  },
  {
   "cell_type": "code",
   "execution_count": 31,
   "metadata": {},
   "outputs": [],
   "source": [
    "# EXPORT\n",
    "cid_to_rdkit = {}"
   ]
  },
  {
   "cell_type": "code",
   "execution_count": 32,
   "metadata": {},
   "outputs": [
    {
     "name": "stdout",
     "output_type": "stream",
     "text": [
      "len(remover.salts) = 15\n"
     ]
    }
   ],
   "source": [
    "s = Standardizer()\n",
    "remover = SaltRemover.SaltRemover()\n",
    "print(f'len(remover.salts) = {len(remover.salts)}')"
   ]
  },
  {
   "cell_type": "code",
   "execution_count": 33,
   "metadata": {},
   "outputs": [
    {
     "name": "stderr",
     "output_type": "stream",
     "text": [
      "100%|██████████| 332/332 [00:01<00:00, 231.21it/s]\n"
     ]
    }
   ],
   "source": [
    "for i, row in tqdm(df.iterrows(), total=len(df)):\n",
    "    mol = Chem.MolFromSmiles(row.smiles)\n",
    "    mol = s.standardize(mol)\n",
    "    mol = remover.StripMol(mol)\n",
    "    cid_to_rdkit[row.cid] = mol"
   ]
  },
  {
   "cell_type": "markdown",
   "metadata": {},
   "source": [
    "## 1.3 Remove non-druglike molecules"
   ]
  },
  {
   "cell_type": "raw",
   "metadata": {},
   "source": [
    "molecular weight, polar surface area, LogP,  rotateable bonds, h-bond donors, h-bond acceptors"
   ]
  },
  {
   "cell_type": "code",
   "execution_count": 34,
   "metadata": {},
   "outputs": [],
   "source": [
    "property_keys = {'molecular weight': 'MW', 'polar surface area': 'PSA', 'LogP': 'ALOGP', \n",
    "                 'rotateable bonds': 'ROTB', 'h-bond donors': 'HBD', 'h-bond acceptors': 'HBA'}"
   ]
  },
  {
   "cell_type": "code",
   "execution_count": 35,
   "metadata": {},
   "outputs": [],
   "source": [
    "# EXPORT\n",
    "qed_properties = {key: {} for key in property_keys}"
   ]
  },
  {
   "cell_type": "code",
   "execution_count": 36,
   "metadata": {},
   "outputs": [
    {
     "name": "stderr",
     "output_type": "stream",
     "text": [
      "100%|██████████| 332/332 [00:00<00:00, 413.32it/s]\n"
     ]
    }
   ],
   "source": [
    "for cid, mol in tqdm(cid_to_rdkit.items()):\n",
    "    mol_props = QED.properties(mol)\n",
    "    for key in property_keys:\n",
    "        qed_properties[key][cid] = mol_props.__getattribute__(property_keys[key])\n",
    "qed_properties_df = pd.DataFrame(qed_properties)"
   ]
  },
  {
   "cell_type": "code",
   "execution_count": 37,
   "metadata": {},
   "outputs": [
    {
     "data": {
      "text/html": [
       "<div>\n",
       "<style scoped>\n",
       "    .dataframe tbody tr th:only-of-type {\n",
       "        vertical-align: middle;\n",
       "    }\n",
       "\n",
       "    .dataframe tbody tr th {\n",
       "        vertical-align: top;\n",
       "    }\n",
       "\n",
       "    .dataframe thead th {\n",
       "        text-align: right;\n",
       "    }\n",
       "</style>\n",
       "<table border=\"1\" class=\"dataframe\">\n",
       "  <thead>\n",
       "    <tr style=\"text-align: right;\">\n",
       "      <th></th>\n",
       "      <th>molecular weight</th>\n",
       "      <th>polar surface area</th>\n",
       "      <th>LogP</th>\n",
       "      <th>rotateable bonds</th>\n",
       "      <th>h-bond donors</th>\n",
       "      <th>h-bond acceptors</th>\n",
       "    </tr>\n",
       "    <tr>\n",
       "      <th>cid</th>\n",
       "      <th></th>\n",
       "      <th></th>\n",
       "      <th></th>\n",
       "      <th></th>\n",
       "      <th></th>\n",
       "      <th></th>\n",
       "    </tr>\n",
       "  </thead>\n",
       "  <tbody>\n",
       "    <tr>\n",
       "      <th>44436348</th>\n",
       "      <td>1513.811</td>\n",
       "      <td>549.21</td>\n",
       "      <td>-5.30250</td>\n",
       "      <td>18</td>\n",
       "      <td>17</td>\n",
       "      <td>23</td>\n",
       "    </tr>\n",
       "    <tr>\n",
       "      <th>11974</th>\n",
       "      <td>470.165</td>\n",
       "      <td>118.20</td>\n",
       "      <td>3.62764</td>\n",
       "      <td>8</td>\n",
       "      <td>4</td>\n",
       "      <td>4</td>\n",
       "    </tr>\n",
       "    <tr>\n",
       "      <th>432298</th>\n",
       "      <td>346.390</td>\n",
       "      <td>118.20</td>\n",
       "      <td>3.83934</td>\n",
       "      <td>6</td>\n",
       "      <td>4</td>\n",
       "      <td>4</td>\n",
       "    </tr>\n",
       "    <tr>\n",
       "      <th>411406</th>\n",
       "      <td>480.350</td>\n",
       "      <td>118.20</td>\n",
       "      <td>3.87754</td>\n",
       "      <td>11</td>\n",
       "      <td>4</td>\n",
       "      <td>4</td>\n",
       "    </tr>\n",
       "    <tr>\n",
       "      <th>135435498</th>\n",
       "      <td>502.538</td>\n",
       "      <td>189.64</td>\n",
       "      <td>6.80314</td>\n",
       "      <td>6</td>\n",
       "      <td>6</td>\n",
       "      <td>4</td>\n",
       "    </tr>\n",
       "  </tbody>\n",
       "</table>\n",
       "</div>"
      ],
      "text/plain": [
       "           molecular weight  polar surface area     LogP  rotateable bonds  \\\n",
       "cid                                                                          \n",
       "44436348           1513.811              549.21 -5.30250                18   \n",
       "11974               470.165              118.20  3.62764                 8   \n",
       "432298              346.390              118.20  3.83934                 6   \n",
       "411406              480.350              118.20  3.87754                11   \n",
       "135435498           502.538              189.64  6.80314                 6   \n",
       "\n",
       "           h-bond donors  h-bond acceptors  \n",
       "cid                                         \n",
       "44436348              17                23  \n",
       "11974                  4                 4  \n",
       "432298                 4                 4  \n",
       "411406                 4                 4  \n",
       "135435498              6                 4  "
      ]
     },
     "execution_count": 37,
     "metadata": {},
     "output_type": "execute_result"
    }
   ],
   "source": [
    "qed_properties_df.index.name = 'cid'\n",
    "qed_properties_df.head()"
   ]
  },
  {
   "cell_type": "code",
   "execution_count": 38,
   "metadata": {},
   "outputs": [],
   "source": [
    "if plots:\n",
    "    for key, prop in qed_properties.items():\n",
    "        fig, axes = plt.subplots(nrows=1, ncols=2, figsize=(10, 5))\n",
    "        fig.suptitle(key)\n",
    "        sns.boxplot(list(prop.values()), ax=axes[1])\n",
    "        sns.distplot(list(prop.values()), ax=axes[0])"
   ]
  },
  {
   "cell_type": "code",
   "execution_count": 39,
   "metadata": {},
   "outputs": [],
   "source": [
    "Q1 = qed_properties_df.quantile(.25)\n",
    "Q3 = qed_properties_df.quantile(.75)\n",
    "IQR = Q3 - Q1\n",
    "threshold = 1.5"
   ]
  },
  {
   "cell_type": "code",
   "execution_count": 40,
   "metadata": {},
   "outputs": [
    {
     "name": "stdout",
     "output_type": "stream",
     "text": [
      "55 outliers removed.\n"
     ]
    }
   ],
   "source": [
    "qed_properties_outliers_removed_df = qed_properties_df[~(((qed_properties_df < (Q1 - threshold*IQR)) |  (qed_properties_df > (Q3 + threshold*IQR))).any(axis=1))]\n",
    "print(f'{len(qed_properties_df) - len(qed_properties_outliers_removed_df)} outliers removed.')\n",
    "qed_properties_df = qed_properties_outliers_removed_df"
   ]
  },
  {
   "cell_type": "code",
   "execution_count": 41,
   "metadata": {},
   "outputs": [],
   "source": [
    "qed_properties = qed_properties_df.to_dict()\n",
    "cids_to_keep = list(qed_properties_df.index)"
   ]
  },
  {
   "cell_type": "code",
   "execution_count": 42,
   "metadata": {},
   "outputs": [],
   "source": [
    "cid_to_rdkit = {cid: cid_to_rdkit[cid] for cid in cids_to_keep}\n",
    "df = df.query('cid in @cids_to_keep').reset_index(drop=True)"
   ]
  },
  {
   "cell_type": "code",
   "execution_count": 43,
   "metadata": {},
   "outputs": [],
   "source": [
    "if plots:\n",
    "    for key, prop in qed_properties.items():\n",
    "        fig, axes = plt.subplots(nrows=1, ncols=2, figsize=(10, 5))\n",
    "        fig.suptitle(f'{key} (w/o outliers)')\n",
    "        sns.boxplot(list(prop.values()), ax=axes[1])\n",
    "        sns.distplot(list(prop.values()), ax=axes[0])"
   ]
  },
  {
   "cell_type": "markdown",
   "metadata": {},
   "source": [
    "## 1.4 Resolve errors"
   ]
  },
  {
   "cell_type": "markdown",
   "metadata": {},
   "source": [
    "### 1.4.1 Calculate pairwise similarities using fingerprints"
   ]
  },
  {
   "cell_type": "code",
   "execution_count": 44,
   "metadata": {},
   "outputs": [],
   "source": [
    "N = len(cids_to_keep)"
   ]
  },
  {
   "cell_type": "code",
   "execution_count": 45,
   "metadata": {},
   "outputs": [],
   "source": [
    "assert (N == len(cid_to_rdkit) and N == len(df))"
   ]
  },
  {
   "cell_type": "code",
   "execution_count": 46,
   "metadata": {},
   "outputs": [],
   "source": [
    "from functools import partial"
   ]
  },
  {
   "cell_type": "code",
   "execution_count": 47,
   "metadata": {},
   "outputs": [],
   "source": [
    "fingperint_function = partial(rdMolDescriptors.GetMorganFingerprintAsBitVect, \n",
    "                              radius=2, useChirality=True)\n",
    "fp_name = 'morgan'"
   ]
  },
  {
   "cell_type": "code",
   "execution_count": 48,
   "metadata": {},
   "outputs": [
    {
     "name": "stderr",
     "output_type": "stream",
     "text": [
      "100%|██████████| 277/277 [00:00<00:00, 1098.64it/s]\n"
     ]
    }
   ],
   "source": [
    "# EXPORT\n",
    "cid_to_fingerprint = {cid: fingperint_function(mol) for cid, mol in cid_to_rdkit.items()\n",
    "                     }\n",
    "fingerprint_similarity_matrix = np.empty((N, N))\n",
    "\n",
    "for i, (cid1, fps1) in tqdm(enumerate(cid_to_fingerprint.items()), total=len(cid_to_fingerprint)):\n",
    "    for j, (cid2, fps2) in enumerate(cid_to_fingerprint.items()):\n",
    "        fingerprint_similarity_matrix[i, j] = DataStructs.FingerprintSimilarity(fps1, fps2)"
   ]
  },
  {
   "cell_type": "code",
   "execution_count": 49,
   "metadata": {},
   "outputs": [],
   "source": [
    "if plots:\n",
    "    fig, ax = plt.subplots(figsize=(25,25))\n",
    "    cax = ax.matshow(fingerprint_similarity_matrix, interpolation='nearest')\n",
    "    ax.grid(False)\n",
    "    plt.title('RDKIT fingerprint similarity matrix')\n",
    "    plt.xticks(range(N), cids_to_keep, rotation=90);\n",
    "    plt.yticks(range(N), cids_to_keep);\n",
    "    ax.tick_params(axis='both', which='major', labelsize=4)\n",
    "    _=fig.colorbar(cax, ticks=[0.1, 0.2, 0.3, 0.4, 0.5, 0.6, 0.7, .75,.8,.85,.90,.95,1])\n",
    "    plt.savefig(f'../dumps/{ds_name}_fingerprint_similarity_matrix.png', dpi=400)"
   ]
  },
  {
   "cell_type": "code",
   "execution_count": 50,
   "metadata": {},
   "outputs": [],
   "source": [
    "if plots:\n",
    "    cg = sns.clustermap(fingerprint_similarity_matrix, cbar_pos=None, figsize=(15, 15))\n",
    "    plt.xticks(rotation=90)\n",
    "    fig = cg.fig\n",
    "    _ = fig.suptitle('RDKIT fingerprint similarity matrix (clustered)')\n",
    "    plt.savefig(f'../dumps/{ds_name}_fingerprint_similarity_matrix_clustered', dpi=400)"
   ]
  },
  {
   "cell_type": "code",
   "execution_count": 51,
   "metadata": {},
   "outputs": [],
   "source": [
    "def fingerprint_to_np(fp):\n",
    "    bit_string = fp.ToBitString()\n",
    "    return np.array([int(char) for char in bit_string], dtype=np.uint8)"
   ]
  },
  {
   "cell_type": "code",
   "execution_count": 52,
   "metadata": {},
   "outputs": [],
   "source": [
    "def add_fingerprint(row):\n",
    "    row.rdkit_fingerprint = fingerprint_to_np(cid_to_fingerprint[row.cid])\n",
    "    return row"
   ]
  },
  {
   "cell_type": "markdown",
   "metadata": {},
   "source": [
    "### 1.4.2 Find and remove duplicates"
   ]
  },
  {
   "cell_type": "code",
   "execution_count": 53,
   "metadata": {},
   "outputs": [],
   "source": [
    "upper_triangle = (~np.eye(fingerprint_similarity_matrix.shape[0],dtype=bool) * np.triu(fingerprint_similarity_matrix))"
   ]
  },
  {
   "cell_type": "code",
   "execution_count": 54,
   "metadata": {},
   "outputs": [],
   "source": [
    "similarity_threshold = .90"
   ]
  },
  {
   "cell_type": "code",
   "execution_count": 55,
   "metadata": {},
   "outputs": [
    {
     "name": "stdout",
     "output_type": "stream",
     "text": [
      "Will remove 22 (7.9%) compounds.\n"
     ]
    }
   ],
   "source": [
    "duplicates = set()\n",
    "ix_to_cid = {i: key for i, key in enumerate(cid_to_fingerprint.keys())}\n",
    "while True:\n",
    "    candidates = {}\n",
    "    for i, (cid1, fps1) in enumerate(cid_to_fingerprint.items()):\n",
    "        if i in duplicates: continue\n",
    "        similar = np.where(upper_triangle[i] > similarity_threshold)[0]\n",
    "        if len(similar) > 0:\n",
    "            for j in similar:\n",
    "                if j in duplicates: continue\n",
    "                candidates[j] = candidates.get(j, 0) + 1 \n",
    "                candidates[i] = candidates.get(i, 0) + 1 \n",
    "    if len(candidates) == 0:\n",
    "        break\n",
    "    sorted_candidates = sorted([(val, key) for key, val in candidates.items()], reverse=True)\n",
    "    duplicates.add(sorted_candidates[0][1])\n",
    "print('Will remove {} ({:.1%}) compounds.'.format(len(duplicates), len(duplicates)/N))"
   ]
  },
  {
   "cell_type": "code",
   "execution_count": 56,
   "metadata": {},
   "outputs": [],
   "source": [
    "for i, (cid1, fps1) in enumerate(cid_to_fingerprint.items()):\n",
    "    assert cid1 == ix_to_cid[i]"
   ]
  },
  {
   "cell_type": "code",
   "execution_count": 57,
   "metadata": {},
   "outputs": [],
   "source": [
    "duplicates = {ix_to_cid[i] for i in duplicates}"
   ]
  },
  {
   "cell_type": "code",
   "execution_count": 58,
   "metadata": {},
   "outputs": [],
   "source": [
    "cids_to_keep = list(filter(lambda x: x not in duplicates, cids_to_keep))"
   ]
  },
  {
   "cell_type": "code",
   "execution_count": 59,
   "metadata": {},
   "outputs": [],
   "source": [
    "df = df.query('cid in @cids_to_keep')"
   ]
  },
  {
   "cell_type": "code",
   "execution_count": 60,
   "metadata": {},
   "outputs": [],
   "source": [
    "cid_to_rdkit = {cid: cid_to_rdkit[cid] for cid in cids_to_keep}\n",
    "cid_to_fingerprint = {cid: cid_to_fingerprint[cid] for cid in cids_to_keep}"
   ]
  },
  {
   "cell_type": "code",
   "execution_count": 61,
   "metadata": {},
   "outputs": [],
   "source": [
    "assert len(cids_to_keep) == len(cid_to_rdkit) == len(df)"
   ]
  },
  {
   "cell_type": "markdown",
   "metadata": {},
   "source": [
    "### 1.4.3 Find and remove activity cliffs"
   ]
  },
  {
   "cell_type": "code",
   "execution_count": 62,
   "metadata": {},
   "outputs": [],
   "source": [
    "N = len(df)"
   ]
  },
  {
   "cell_type": "code",
   "execution_count": 63,
   "metadata": {},
   "outputs": [
    {
     "name": "stderr",
     "output_type": "stream",
     "text": [
      "100%|██████████| 255/255 [00:00<00:00, 1202.26it/s]\n"
     ]
    }
   ],
   "source": [
    "# EXPORT\n",
    "fingerprint_similarity_matrix = np.empty((N, N))\n",
    "\n",
    "for i, (cid1, fps1) in tqdm(enumerate(cid_to_fingerprint.items()), total=len(cid_to_fingerprint)):\n",
    "    for j, (cid2, fps2) in enumerate(cid_to_fingerprint.items()):\n",
    "        fingerprint_similarity_matrix[i, j] = DataStructs.FingerprintSimilarity(fps1, fps2)\n",
    "upper_triangle = (~np.eye(fingerprint_similarity_matrix.shape[0],dtype=bool) * np.triu(fingerprint_similarity_matrix))"
   ]
  },
  {
   "cell_type": "code",
   "execution_count": 64,
   "metadata": {},
   "outputs": [],
   "source": [
    "similarity_threshold = .85\n",
    "activitiy_ratio_threshold = 100 #this is in folds as in 100-times fold."
   ]
  },
  {
   "cell_type": "code",
   "execution_count": 65,
   "metadata": {},
   "outputs": [],
   "source": [
    "cid_to_acvalue = {}\n",
    "for i, row in df.iterrows():\n",
    "    cid_to_acvalue[row.cid] = row.acvalue"
   ]
  },
  {
   "cell_type": "code",
   "execution_count": 66,
   "metadata": {},
   "outputs": [
    {
     "name": "stdout",
     "output_type": "stream",
     "text": [
      "Will remove 9 (3.5%) compounds.\n"
     ]
    }
   ],
   "source": [
    "irregularities = set()\n",
    "ix_to_cid = {i: key for i, key in enumerate(cid_to_fingerprint.keys())}\n",
    "for i, (cid1, fps1) in enumerate(cid_to_fingerprint.items()):\n",
    "    acvalue1 = cid_to_acvalue[cid1]\n",
    "    similar = np.where(upper_triangle[i] > similarity_threshold)[0]\n",
    "    if len(similar) > 0:\n",
    "        for j in similar:\n",
    "            cid2 = ix_to_cid[j]\n",
    "            if cid_to_acvalue[cid2] / acvalue1 > activitiy_ratio_threshold or acvalue1 / cid_to_acvalue[cid2] > activitiy_ratio_threshold:\n",
    "                irregularities.add(cid1)\n",
    "                irregularities.add(cid2)\n",
    "\n",
    "print('Will remove {} ({:.1%}) compounds.'.format(len(irregularities), len(irregularities)/N))"
   ]
  },
  {
   "cell_type": "code",
   "execution_count": 67,
   "metadata": {},
   "outputs": [],
   "source": [
    "cids_to_keep = list(filter(lambda x: x not in irregularities, cids_to_keep))"
   ]
  },
  {
   "cell_type": "code",
   "execution_count": 68,
   "metadata": {},
   "outputs": [],
   "source": [
    "df = df.query('cid in @cids_to_keep')"
   ]
  },
  {
   "cell_type": "code",
   "execution_count": 69,
   "metadata": {},
   "outputs": [],
   "source": [
    "cid_to_rdkit = {cid: cid_to_rdkit[cid] for cid in cids_to_keep}\n",
    "cid_to_fingerprint = {cid: cid_to_fingerprint[cid] for cid in cids_to_keep}"
   ]
  },
  {
   "cell_type": "code",
   "execution_count": 70,
   "metadata": {},
   "outputs": [],
   "source": [
    "assert len(cids_to_keep) == len(cid_to_rdkit) == len(df)"
   ]
  },
  {
   "cell_type": "markdown",
   "metadata": {},
   "source": [
    "### 1.4.4 Remove rows with null activity"
   ]
  },
  {
   "cell_type": "code",
   "execution_count": 71,
   "metadata": {},
   "outputs": [],
   "source": [
    "# downstream should be guaranteed data with non-null activity values\n",
    "df = df.dropna(subset=['acvalue'])\n",
    "assert not np.any(np.isnan(df.acvalue))"
   ]
  },
  {
   "cell_type": "markdown",
   "metadata": {},
   "source": [
    "## Exports & Imports"
   ]
  },
  {
   "cell_type": "code",
   "execution_count": 72,
   "metadata": {},
   "outputs": [],
   "source": [
    "# remove smiles, add fingerprints, save\n",
    "df_out = df.drop('smiles', axis=1)  # smiles no longer reflects the processed molecule\n",
    "df_out['morgan_fingerprint'] = df_out.apply(lambda row: fingerprint_to_np(cid_to_fingerprint[row.cid]), axis=1)\n",
    "df_out.to_pickle(f'../processed_data/{ds_name}_processed.pkl')"
   ]
  },
  {
   "cell_type": "code",
   "execution_count": 73,
   "metadata": {},
   "outputs": [],
   "source": [
    "# dump cid_to_pubchem for chaching purposes\n",
    "# dump cid_to_rdkit for ??? purposes\n",
    "def save_pickle(obj, filename):\n",
    "    with open(f'../dumps/{filename}.pkl', 'wb') as f:\n",
    "        pickle.dump(obj, f)\n",
    "save_pickle(cid_to_pubchem, f'{ds_name}_cid_to_pubchem')\n",
    "save_pickle(cid_to_rdkit, f'{ds_name}_cid_to_rdkit')"
   ]
  },
  {
   "cell_type": "code",
   "execution_count": null,
   "metadata": {},
   "outputs": [],
   "source": []
  }
 ],
 "metadata": {
  "kernelspec": {
   "display_name": "Python 3",
   "language": "python",
   "name": "python3"
  },
  "language_info": {
   "codemirror_mode": {
    "name": "ipython",
    "version": 3
   },
   "file_extension": ".py",
   "mimetype": "text/x-python",
   "name": "python",
   "nbconvert_exporter": "python",
   "pygments_lexer": "ipython3",
   "version": "3.6.10"
  }
 },
 "nbformat": 4,
 "nbformat_minor": 4
}
