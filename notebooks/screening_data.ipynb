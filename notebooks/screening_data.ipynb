{
 "cells": [
  {
   "cell_type": "code",
   "execution_count": null,
   "metadata": {},
   "outputs": [],
   "source": [
    "import rdkit\n",
    "import pandas as pd\n",
    "import numpy as np\n",
    "from rdkit.Chem import PandasTools\n",
    "drugbank='../dumps/structures.sdf'\n",
    "drugbank=PandasTools.LoadSDF(drugbank) #auto-sanitize function; don't need to do again\n",
    "reframe=pd.read_csv('../dumps/reframe_candidates.csv', encoding='latin1')"
   ]
  },
  {
   "cell_type": "code",
   "execution_count": null,
   "metadata": {},
   "outputs": [],
   "source": [
    "broad=pd.read_csv(\"../dumps/repurposing_samples_20180907.txt\",delimiter=\"\\t\")"
   ]
  },
  {
   "cell_type": "code",
   "execution_count": null,
   "metadata": {},
   "outputs": [],
   "source": [
    "broad.head()"
   ]
  },
  {
   "cell_type": "code",
   "execution_count": null,
   "metadata": {},
   "outputs": [],
   "source": [
    "drugbank.head()"
   ]
  },
  {
   "cell_type": "code",
   "execution_count": null,
   "metadata": {},
   "outputs": [],
   "source": [
    "reframe.head()"
   ]
  },
  {
   "cell_type": "code",
   "execution_count": null,
   "metadata": {},
   "outputs": [],
   "source": [
    "from rdkit import Chem, DataStructs\n",
    "from molvs import Standardizer \n",
    "from rdkit.Chem import AllChem, SaltRemover, QED, rdMolDescriptors\n",
    "import traceback\n",
    "s=Standardizer()\n",
    "remover=SaltRemover.SaltRemover()\n",
    "m=[Chem.MolFromSmiles(reframe['SMILES'].iloc[i]) for i in range(len(reframe))]\n",
    "m2=[]\n",
    "molnames2=[]\n",
    "print(range(len(broad)))\n",
    "print(broad['smiles'])\n",
    "for i in range(len(broad)): #some fail to parse from smiles code; see below.\n",
    "    try:\n",
    "        m2.append(Chem.MolFromSmiles(broad['smiles'].iloc[i]))\n",
    "        molnames2.append(broad['pert_iname'].iloc[i])\n",
    "    except Exception:\n",
    "        traceback.print_exc()\n",
    "#m2=[Chem.MolFromSmiles(broad['smiles'].iloc[i]) for i in range(len(broad))]\n",
    "m3=[Chem.MolFromSmiles(drugbank['SMILES'].iloc[i]) for i in range(len(drugbank))]"
   ]
  },
  {
   "cell_type": "code",
   "execution_count": null,
   "metadata": {},
   "outputs": [],
   "source": [
    "molnames=reframe['Name']\n",
    "molnames=[j for (i,j) in zip(m, molnames) if i]\n",
    "m=[i for i in m if i] #remove failed parse\n",
    "molnames3=drugbank['GENERIC_NAME']\n",
    "molnames3=[j for (i,j) in zip(m3, molnames3) if i]\n",
    "m3=[i for i in m3 if i]"
   ]
  },
  {
   "cell_type": "code",
   "execution_count": null,
   "metadata": {},
   "outputs": [],
   "source": [
    "molnames_combined=molnames+molnames2\n",
    "m_combined=m+m2\n",
    "source=['reframe' for im in m]\n",
    "source2=['broad' for im in m2]\n",
    "source=source+source2\n",
    "print(len(m_combined))\n",
    "print(len(source))\n",
    "m_temp=[]\n",
    "molname_temp=[]\n",
    "source_temp=[]\n",
    "for ii, im in enumerate(m_combined):\n",
    "    try:\n",
    "        m_temp.append(s.standardize(im))\n",
    "        molname_temp.append(molnames_combined[ii])\n",
    "        source_temp.append(source[ii])\n",
    "    except Exception:\n",
    "        traceback.print_exc()\n",
    "m_combined=m_temp\n",
    "molnames_combined=molname_temp\n",
    "source=source_temp\n",
    "%store m_combined\n",
    "%store molnames_combined\n",
    "%store source"
   ]
  },
  {
   "cell_type": "code",
   "execution_count": null,
   "metadata": {},
   "outputs": [],
   "source": [
    "print(len(source))\n",
    "print(len(m_combined))\n",
    "print(len(molnames_combined))"
   ]
  },
  {
   "cell_type": "code",
   "execution_count": null,
   "metadata": {},
   "outputs": [],
   "source": [
    "#m=[s.standardize(im) for im in m]\n",
    "m_combined=m_combined+m3 #join drugbank, which is already standardized\n",
    "molnames_combined=molnames_combined+molnames3\n",
    "source3=['drugbank' for im in m3]\n",
    "source=source+source3\n",
    "m=[remover.StripMol(im) for im in m_combined]"
   ]
  },
  {
   "cell_type": "code",
   "execution_count": null,
   "metadata": {},
   "outputs": [],
   "source": [
    "testset=[im for im,mi in enumerate(m_combined) if 'afamostat' in molnames_combined[im]]\n",
    "print([molname for molname in molnames_combined if 'afamostat' in molname])\n",
    "print([s for im,s in enumerate(source) if 'afamostat' in molnames_combined[im]])\n",
    "print(broad.loc[broad['pert_iname']=='nafamostat'])\n",
    "print(list(reframe['SMILES'].loc[reframe['Name']=='Nafamostat']))\n",
    "print(list(drugbank['SMILES'].loc[drugbank['GENERIC_NAME']=='Nafamostat']))\n"
   ]
  },
  {
   "cell_type": "code",
   "execution_count": null,
   "metadata": {},
   "outputs": [],
   "source": [
    "fp_test=[AllChem.GetMorganFingerprintAsBitVect(m_combined[i], 2, useChirality=True) for i in range(len(m_combined))]"
   ]
  },
  {
   "cell_type": "code",
   "execution_count": null,
   "metadata": {},
   "outputs": [],
   "source": [
    "def fingerprint_to_np(fp):\n",
    "    bit_string = fp.ToBitString()\n",
    "    return np.array([int(char) for char in bit_string], dtype=np.uint8)"
   ]
  },
  {
   "cell_type": "code",
   "execution_count": null,
   "metadata": {},
   "outputs": [],
   "source": [
    "np_fingerprints = np.asarray([fingerprint_to_np(ifp) for im,ifp in enumerate(fp_test)])\n",
    "np.savez('../dumps/screening_fp.npz', np_fingerprints,molnames_combined,source)\n",
    "#could be saved as a pickle instead to homogeneize"
   ]
  },
  {
   "cell_type": "code",
   "execution_count": null,
   "metadata": {},
   "outputs": [],
   "source": []
  }
 ],
 "metadata": {
  "kernelspec": {
   "display_name": "Python 3",
   "language": "python",
   "name": "python3"
  },
  "language_info": {
   "codemirror_mode": {
    "name": "ipython",
    "version": 3
   },
   "file_extension": ".py",
   "mimetype": "text/x-python",
   "name": "python",
   "nbconvert_exporter": "python",
   "pygments_lexer": "ipython3",
   "version": "3.6.10"
  },
  "varInspector": {
   "cols": {
    "lenName": 16,
    "lenType": 16,
    "lenVar": 40
   },
   "kernels_config": {
    "python": {
     "delete_cmd_postfix": "",
     "delete_cmd_prefix": "del ",
     "library": "var_list.py",
     "varRefreshCmd": "print(var_dic_list())"
    },
    "r": {
     "delete_cmd_postfix": ") ",
     "delete_cmd_prefix": "rm(",
     "library": "var_list.r",
     "varRefreshCmd": "cat(var_dic_list()) "
    }
   },
   "types_to_exclude": [
    "module",
    "function",
    "builtin_function_or_method",
    "instance",
    "_Feature"
   ],
   "window_display": false
  }
 },
 "nbformat": 4,
 "nbformat_minor": 4
}
