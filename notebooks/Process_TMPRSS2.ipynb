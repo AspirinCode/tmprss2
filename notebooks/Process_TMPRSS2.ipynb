{
 "cells": [
  {
   "cell_type": "markdown",
   "metadata": {},
   "source": [
    "Straightforward Processing of TMPRSS2 Data, just matches the format of the processed pubchem datasets outputted by Datasets_1_Prepare_PubChem_Datasets.ipynb"
   ]
  },
  {
   "cell_type": "code",
   "execution_count": null,
   "metadata": {},
   "outputs": [],
   "source": [
    "import pandas as pd"
   ]
  },
  {
   "cell_type": "code",
   "execution_count": null,
   "metadata": {
    "scrolled": true
   },
   "outputs": [],
   "source": [
    "TMPRSS2 = pd.read_csv('../data/TMPRSS2.csv')\n",
    "TMPRSS2.head()"
   ]
  },
  {
   "cell_type": "code",
   "execution_count": null,
   "metadata": {
    "scrolled": true
   },
   "outputs": [],
   "source": [
    "# example of standard formatting\n",
    "processed_example = pd.read_csv('../dumps/ST14_processed.csv')\n",
    "processed_example.head()"
   ]
  },
  {
   "cell_type": "code",
   "execution_count": null,
   "metadata": {
    "scrolled": true
   },
   "outputs": [],
   "source": [
    "# match formatting\n",
    "TMPRSS2 = TMPRSS2.rename(columns={'SMILES': 'smiles', 'Activity': 'acvalue', 'CID': 'cid'})\n",
    "TMPRSS2 = TMPRSS2.drop(columns=['ID', 'CHEMBL', 'SID'])\n",
    "TMPRSS2.head()"
   ]
  },
  {
   "cell_type": "code",
   "execution_count": null,
   "metadata": {},
   "outputs": [],
   "source": [
    "# convert units: acvalue for TMPRSS2 data is measured in nano-molar; for the pubchem, it is micromolar.\n",
    "TMPRSS2['acvalue'] = TMPRSS2['acvalue'] / 1000"
   ]
  },
  {
   "cell_type": "markdown",
   "metadata": {},
   "source": [
    "We need to add a column specifying binary Active/Inactive.  The following method is pulled directly from Datasets_1_Prepare_PubChem_Datasets.ipynb."
   ]
  },
  {
   "cell_type": "code",
   "execution_count": null,
   "metadata": {
    "scrolled": true
   },
   "outputs": [],
   "source": [
    "activity_threshold = 50\n",
    "TMPRSS2['activity'] = (TMPRSS2.acvalue < activity_threshold).map({True: 'Active', False: 'Inactive'})"
   ]
  },
  {
   "cell_type": "code",
   "execution_count": null,
   "metadata": {},
   "outputs": [],
   "source": [
    "# reorder columns, compare\n",
    "TMPRSS2 = TMPRSS2[processed_example.columns]\n",
    "print('TMPRSS2')\n",
    "TMPRSS2.head()"
   ]
  },
  {
   "cell_type": "code",
   "execution_count": null,
   "metadata": {},
   "outputs": [],
   "source": [
    "print('processed pubchem example')\n",
    "processed_example.head()"
   ]
  },
  {
   "cell_type": "code",
   "execution_count": null,
   "metadata": {},
   "outputs": [],
   "source": [
    "# export\n",
    "TMPRSS2.to_csv('../dumps/TMPRSS2_processed.csv', index=False)"
   ]
  },
  {
   "cell_type": "code",
   "execution_count": null,
   "metadata": {},
   "outputs": [],
   "source": [
    "TMPRSS2"
   ]
  },
  {
   "cell_type": "code",
   "execution_count": null,
   "metadata": {},
   "outputs": [],
   "source": [
    "df = TMPRSS2\n",
    "ds_name = 'TMPRSS2'"
   ]
  },
  {
   "cell_type": "code",
   "execution_count": null,
   "metadata": {},
   "outputs": [],
   "source": [
    "from rdkit.Chem import rdMolDescriptors, MolFromSmiles\n",
    "from tqdm import tqdm\n",
    "from functools import partial\n",
    "import numpy as np"
   ]
  },
  {
   "cell_type": "code",
   "execution_count": null,
   "metadata": {},
   "outputs": [],
   "source": [
    "cid_to_rdkit = {}\n",
    "dummy_cid = -1\n",
    "for i, row in tqdm(df.iterrows(), total=len(df)):\n",
    "    mol = MolFromSmiles(row.smiles)\n",
    "    if row.cid == 0:\n",
    "        cid = dummy_cid\n",
    "        dummy_cid -=1\n",
    "    else:\n",
    "        cid = row.cid\n",
    "    cid_to_rdkit[cid] =  mol"
   ]
  },
  {
   "cell_type": "code",
   "execution_count": null,
   "metadata": {},
   "outputs": [],
   "source": [
    "fingperint_function = partial(rdMolDescriptors.GetMorganFingerprintAsBitVect, \n",
    "                              radius=2, useChirality=True)\n",
    "fp_name = 'morgan'"
   ]
  },
  {
   "cell_type": "code",
   "execution_count": null,
   "metadata": {},
   "outputs": [],
   "source": [
    "def fingerprint_to_np(fp):\n",
    "    bit_string = fp.ToBitString()\n",
    "    return np.array([int(char) for char in bit_string], dtype=np.uint8)"
   ]
  },
  {
   "cell_type": "code",
   "execution_count": null,
   "metadata": {},
   "outputs": [],
   "source": [
    "np_fingerprints = {str(cid): fingerprint_to_np(fingperint_function(mol)) for cid, mol in cid_to_rdkit.items()}"
   ]
  },
  {
   "cell_type": "code",
   "execution_count": null,
   "metadata": {},
   "outputs": [],
   "source": [
    "np.savez(f'../dumps/{ds_name}_{fp_name}_fingerprints.npz', **np_fingerprints)"
   ]
  }
 ],
 "metadata": {
  "kernelspec": {
   "display_name": "Python [conda env:tmprss2]",
   "language": "python",
   "name": "conda-env-tmprss2-py"
  },
  "language_info": {
   "codemirror_mode": {
    "name": "ipython",
    "version": 3
   },
   "file_extension": ".py",
   "mimetype": "text/x-python",
   "name": "python",
   "nbconvert_exporter": "python",
   "pygments_lexer": "ipython3",
   "version": "3.6.10"
  }
 },
 "nbformat": 4,
 "nbformat_minor": 4
}
