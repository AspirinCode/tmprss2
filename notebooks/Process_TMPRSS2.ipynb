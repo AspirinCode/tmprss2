{
 "cells": [
  {
   "cell_type": "markdown",
   "metadata": {},
   "source": [
    "Straightforward Processing of TMPRSS2 Data, just matches the format of the processed pubchem datasets outputted by Datasets_1_Prepare_PubChem_Datasets.ipynb"
   ]
  },
  {
   "cell_type": "code",
   "execution_count": 23,
   "metadata": {},
   "outputs": [],
   "source": [
    "import pandas as pd"
   ]
  },
  {
   "cell_type": "code",
   "execution_count": 33,
   "metadata": {},
   "outputs": [
    {
     "data": {
      "text/html": [
       "<div>\n",
       "<style scoped>\n",
       "    .dataframe tbody tr th:only-of-type {\n",
       "        vertical-align: middle;\n",
       "    }\n",
       "\n",
       "    .dataframe tbody tr th {\n",
       "        vertical-align: top;\n",
       "    }\n",
       "\n",
       "    .dataframe thead th {\n",
       "        text-align: right;\n",
       "    }\n",
       "</style>\n",
       "<table border=\"1\" class=\"dataframe\">\n",
       "  <thead>\n",
       "    <tr style=\"text-align: right;\">\n",
       "      <th></th>\n",
       "      <th>ID</th>\n",
       "      <th>SMILES</th>\n",
       "      <th>Activity</th>\n",
       "      <th>CHEMBL</th>\n",
       "      <th>CID</th>\n",
       "      <th>SID</th>\n",
       "    </tr>\n",
       "  </thead>\n",
       "  <tbody>\n",
       "    <tr>\n",
       "      <th>0</th>\n",
       "      <td>24</td>\n",
       "      <td>C1C[C@H](N(C1)C(=O)[C@@H](CCCN=C(N)N)NS(=O)(=O...</td>\n",
       "      <td>19.0</td>\n",
       "      <td>1229259</td>\n",
       "      <td>46899577</td>\n",
       "      <td>134460981</td>\n",
       "    </tr>\n",
       "    <tr>\n",
       "      <th>1</th>\n",
       "      <td>25</td>\n",
       "      <td>CC(C)(C)OC(=O)C[C@H](C(=O)N1CCC[C@H]1C(=O)NCC2...</td>\n",
       "      <td>19.0</td>\n",
       "      <td>1809215</td>\n",
       "      <td>56677005</td>\n",
       "      <td>134456506</td>\n",
       "    </tr>\n",
       "    <tr>\n",
       "      <th>2</th>\n",
       "      <td>26</td>\n",
       "      <td>C1C[C@H](N(C1)C(=O)[C@@H](CCCCN)NS(=O)(=O)CC2=...</td>\n",
       "      <td>20.0</td>\n",
       "      <td>1809216</td>\n",
       "      <td>49835415</td>\n",
       "      <td>134441143</td>\n",
       "    </tr>\n",
       "    <tr>\n",
       "      <th>3</th>\n",
       "      <td>27</td>\n",
       "      <td>C1C[C@H](N(C1)C(=O)[C@@H](CCCCN=C(N)N)NS(=O)(=...</td>\n",
       "      <td>21.0</td>\n",
       "      <td>1809213</td>\n",
       "      <td>49835557</td>\n",
       "      <td>134441142</td>\n",
       "    </tr>\n",
       "    <tr>\n",
       "      <th>4</th>\n",
       "      <td>28</td>\n",
       "      <td>N=C(C1=CC=C(C=C1)CNC([C@@H]2CCCN2C([C@H](CCC3=...</td>\n",
       "      <td>44.0</td>\n",
       "      <td>0</td>\n",
       "      <td>0</td>\n",
       "      <td>0</td>\n",
       "    </tr>\n",
       "  </tbody>\n",
       "</table>\n",
       "</div>"
      ],
      "text/plain": [
       "   ID                                             SMILES  Activity   CHEMBL  \\\n",
       "0  24  C1C[C@H](N(C1)C(=O)[C@@H](CCCN=C(N)N)NS(=O)(=O...      19.0  1229259   \n",
       "1  25  CC(C)(C)OC(=O)C[C@H](C(=O)N1CCC[C@H]1C(=O)NCC2...      19.0  1809215   \n",
       "2  26  C1C[C@H](N(C1)C(=O)[C@@H](CCCCN)NS(=O)(=O)CC2=...      20.0  1809216   \n",
       "3  27  C1C[C@H](N(C1)C(=O)[C@@H](CCCCN=C(N)N)NS(=O)(=...      21.0  1809213   \n",
       "4  28  N=C(C1=CC=C(C=C1)CNC([C@@H]2CCCN2C([C@H](CCC3=...      44.0        0   \n",
       "\n",
       "        CID        SID  \n",
       "0  46899577  134460981  \n",
       "1  56677005  134456506  \n",
       "2  49835415  134441143  \n",
       "3  49835557  134441142  \n",
       "4         0          0  "
      ]
     },
     "execution_count": 33,
     "metadata": {},
     "output_type": "execute_result"
    }
   ],
   "source": [
    "TMPRSS2 = pd.read_csv('../data/TMPRSS2.csv')\n",
    "TMPRSS2.head()"
   ]
  },
  {
   "cell_type": "code",
   "execution_count": 34,
   "metadata": {
    "scrolled": true
   },
   "outputs": [
    {
     "data": {
      "text/html": [
       "<div>\n",
       "<style scoped>\n",
       "    .dataframe tbody tr th:only-of-type {\n",
       "        vertical-align: middle;\n",
       "    }\n",
       "\n",
       "    .dataframe tbody tr th {\n",
       "        vertical-align: top;\n",
       "    }\n",
       "\n",
       "    .dataframe thead th {\n",
       "        text-align: right;\n",
       "    }\n",
       "</style>\n",
       "<table border=\"1\" class=\"dataframe\">\n",
       "  <thead>\n",
       "    <tr style=\"text-align: right;\">\n",
       "      <th></th>\n",
       "      <th>cid</th>\n",
       "      <th>acvalue</th>\n",
       "      <th>activity</th>\n",
       "      <th>smiles</th>\n",
       "    </tr>\n",
       "  </thead>\n",
       "  <tbody>\n",
       "    <tr>\n",
       "      <th>0</th>\n",
       "      <td>11974</td>\n",
       "      <td>0.535</td>\n",
       "      <td>Active</td>\n",
       "      <td>C1=CC(=C(C=C1C(=N)N)Br)OCCCOC2=C(C=C(C=C2)C(=N...</td>\n",
       "    </tr>\n",
       "    <tr>\n",
       "      <th>1</th>\n",
       "      <td>432298</td>\n",
       "      <td>0.204</td>\n",
       "      <td>Active</td>\n",
       "      <td>C1=CC(=CC=C1C(=N)N)OC2=CC=C(C=C2)OC3=CC=C(C=C3...</td>\n",
       "    </tr>\n",
       "    <tr>\n",
       "      <th>2</th>\n",
       "      <td>411406</td>\n",
       "      <td>0.191</td>\n",
       "      <td>Active</td>\n",
       "      <td>C1=CC(=CC=C1C(=N)N)OCCCCCCOC2=C(C=C(C=C2)C(=N)N)I</td>\n",
       "    </tr>\n",
       "    <tr>\n",
       "      <th>3</th>\n",
       "      <td>135435498</td>\n",
       "      <td>4.500</td>\n",
       "      <td>Active</td>\n",
       "      <td>C1=CC(=CC=C1C(=N)N)N=NC2=C(C=CC3=CC4=C(C=CC(=C...</td>\n",
       "    </tr>\n",
       "    <tr>\n",
       "      <th>4</th>\n",
       "      <td>4735</td>\n",
       "      <td>1.160</td>\n",
       "      <td>Active</td>\n",
       "      <td>C1=CC(=CC=C1C(=N)N)OCCCCCOC2=CC=C(C=C2)C(=N)N</td>\n",
       "    </tr>\n",
       "  </tbody>\n",
       "</table>\n",
       "</div>"
      ],
      "text/plain": [
       "         cid  acvalue activity  \\\n",
       "0      11974    0.535   Active   \n",
       "1     432298    0.204   Active   \n",
       "2     411406    0.191   Active   \n",
       "3  135435498    4.500   Active   \n",
       "4       4735    1.160   Active   \n",
       "\n",
       "                                              smiles  \n",
       "0  C1=CC(=C(C=C1C(=N)N)Br)OCCCOC2=C(C=C(C=C2)C(=N...  \n",
       "1  C1=CC(=CC=C1C(=N)N)OC2=CC=C(C=C2)OC3=CC=C(C=C3...  \n",
       "2  C1=CC(=CC=C1C(=N)N)OCCCCCCOC2=C(C=C(C=C2)C(=N)N)I  \n",
       "3  C1=CC(=CC=C1C(=N)N)N=NC2=C(C=CC3=CC4=C(C=CC(=C...  \n",
       "4      C1=CC(=CC=C1C(=N)N)OCCCCCOC2=CC=C(C=C2)C(=N)N  "
      ]
     },
     "execution_count": 34,
     "metadata": {},
     "output_type": "execute_result"
    }
   ],
   "source": [
    "# example of standard formatting\n",
    "processed_example = pd.read_csv('../dumps/ST14_processed.csv')\n",
    "processed_example.head()"
   ]
  },
  {
   "cell_type": "code",
   "execution_count": 35,
   "metadata": {},
   "outputs": [
    {
     "data": {
      "text/html": [
       "<div>\n",
       "<style scoped>\n",
       "    .dataframe tbody tr th:only-of-type {\n",
       "        vertical-align: middle;\n",
       "    }\n",
       "\n",
       "    .dataframe tbody tr th {\n",
       "        vertical-align: top;\n",
       "    }\n",
       "\n",
       "    .dataframe thead th {\n",
       "        text-align: right;\n",
       "    }\n",
       "</style>\n",
       "<table border=\"1\" class=\"dataframe\">\n",
       "  <thead>\n",
       "    <tr style=\"text-align: right;\">\n",
       "      <th></th>\n",
       "      <th>smiles</th>\n",
       "      <th>acvalue</th>\n",
       "      <th>cid</th>\n",
       "    </tr>\n",
       "  </thead>\n",
       "  <tbody>\n",
       "    <tr>\n",
       "      <th>0</th>\n",
       "      <td>C1C[C@H](N(C1)C(=O)[C@@H](CCCN=C(N)N)NS(=O)(=O...</td>\n",
       "      <td>19.0</td>\n",
       "      <td>46899577</td>\n",
       "    </tr>\n",
       "    <tr>\n",
       "      <th>1</th>\n",
       "      <td>CC(C)(C)OC(=O)C[C@H](C(=O)N1CCC[C@H]1C(=O)NCC2...</td>\n",
       "      <td>19.0</td>\n",
       "      <td>56677005</td>\n",
       "    </tr>\n",
       "    <tr>\n",
       "      <th>2</th>\n",
       "      <td>C1C[C@H](N(C1)C(=O)[C@@H](CCCCN)NS(=O)(=O)CC2=...</td>\n",
       "      <td>20.0</td>\n",
       "      <td>49835415</td>\n",
       "    </tr>\n",
       "    <tr>\n",
       "      <th>3</th>\n",
       "      <td>C1C[C@H](N(C1)C(=O)[C@@H](CCCCN=C(N)N)NS(=O)(=...</td>\n",
       "      <td>21.0</td>\n",
       "      <td>49835557</td>\n",
       "    </tr>\n",
       "    <tr>\n",
       "      <th>4</th>\n",
       "      <td>N=C(C1=CC=C(C=C1)CNC([C@@H]2CCCN2C([C@H](CCC3=...</td>\n",
       "      <td>44.0</td>\n",
       "      <td>0</td>\n",
       "    </tr>\n",
       "  </tbody>\n",
       "</table>\n",
       "</div>"
      ],
      "text/plain": [
       "                                              smiles  acvalue       cid\n",
       "0  C1C[C@H](N(C1)C(=O)[C@@H](CCCN=C(N)N)NS(=O)(=O...     19.0  46899577\n",
       "1  CC(C)(C)OC(=O)C[C@H](C(=O)N1CCC[C@H]1C(=O)NCC2...     19.0  56677005\n",
       "2  C1C[C@H](N(C1)C(=O)[C@@H](CCCCN)NS(=O)(=O)CC2=...     20.0  49835415\n",
       "3  C1C[C@H](N(C1)C(=O)[C@@H](CCCCN=C(N)N)NS(=O)(=...     21.0  49835557\n",
       "4  N=C(C1=CC=C(C=C1)CNC([C@@H]2CCCN2C([C@H](CCC3=...     44.0         0"
      ]
     },
     "execution_count": 35,
     "metadata": {},
     "output_type": "execute_result"
    }
   ],
   "source": [
    "# match formatting\n",
    "TMPRSS2 = TMPRSS2.rename(columns={'SMILES': 'smiles', 'Activity': 'acvalue', 'CID': 'cid'})\n",
    "TMPRSS2 = TMPRSS2.drop(columns=['ID', 'CHEMBL', 'SID'])\n",
    "TMPRSS2.head()"
   ]
  },
  {
   "cell_type": "markdown",
   "metadata": {},
   "source": [
    "We need to add a column specifying binary Active/Inactive.  The following method is pulled directly from Datasets_1_Prepare_PubChem_Datasets.ipynb."
   ]
  },
  {
   "cell_type": "code",
   "execution_count": 38,
   "metadata": {
    "scrolled": true
   },
   "outputs": [],
   "source": [
    "activity_threshold = 50\n",
    "TMPRSS2['activity'] = (TMPRSS2.acvalue < activity_threshold).map({True: 'Active', False: 'Inactive'})"
   ]
  },
  {
   "cell_type": "code",
   "execution_count": 42,
   "metadata": {},
   "outputs": [
    {
     "name": "stdout",
     "output_type": "stream",
     "text": [
      "TMPRSS2\n"
     ]
    },
    {
     "data": {
      "text/html": [
       "<div>\n",
       "<style scoped>\n",
       "    .dataframe tbody tr th:only-of-type {\n",
       "        vertical-align: middle;\n",
       "    }\n",
       "\n",
       "    .dataframe tbody tr th {\n",
       "        vertical-align: top;\n",
       "    }\n",
       "\n",
       "    .dataframe thead th {\n",
       "        text-align: right;\n",
       "    }\n",
       "</style>\n",
       "<table border=\"1\" class=\"dataframe\">\n",
       "  <thead>\n",
       "    <tr style=\"text-align: right;\">\n",
       "      <th></th>\n",
       "      <th>cid</th>\n",
       "      <th>acvalue</th>\n",
       "      <th>activity</th>\n",
       "      <th>smiles</th>\n",
       "    </tr>\n",
       "  </thead>\n",
       "  <tbody>\n",
       "    <tr>\n",
       "      <th>0</th>\n",
       "      <td>46899577</td>\n",
       "      <td>19.0</td>\n",
       "      <td>Active</td>\n",
       "      <td>C1C[C@H](N(C1)C(=O)[C@@H](CCCN=C(N)N)NS(=O)(=O...</td>\n",
       "    </tr>\n",
       "    <tr>\n",
       "      <th>1</th>\n",
       "      <td>56677005</td>\n",
       "      <td>19.0</td>\n",
       "      <td>Active</td>\n",
       "      <td>CC(C)(C)OC(=O)C[C@H](C(=O)N1CCC[C@H]1C(=O)NCC2...</td>\n",
       "    </tr>\n",
       "    <tr>\n",
       "      <th>2</th>\n",
       "      <td>49835415</td>\n",
       "      <td>20.0</td>\n",
       "      <td>Active</td>\n",
       "      <td>C1C[C@H](N(C1)C(=O)[C@@H](CCCCN)NS(=O)(=O)CC2=...</td>\n",
       "    </tr>\n",
       "    <tr>\n",
       "      <th>3</th>\n",
       "      <td>49835557</td>\n",
       "      <td>21.0</td>\n",
       "      <td>Active</td>\n",
       "      <td>C1C[C@H](N(C1)C(=O)[C@@H](CCCCN=C(N)N)NS(=O)(=...</td>\n",
       "    </tr>\n",
       "    <tr>\n",
       "      <th>4</th>\n",
       "      <td>0</td>\n",
       "      <td>44.0</td>\n",
       "      <td>Active</td>\n",
       "      <td>N=C(C1=CC=C(C=C1)CNC([C@@H]2CCCN2C([C@H](CCC3=...</td>\n",
       "    </tr>\n",
       "  </tbody>\n",
       "</table>\n",
       "</div>"
      ],
      "text/plain": [
       "        cid  acvalue activity  \\\n",
       "0  46899577     19.0   Active   \n",
       "1  56677005     19.0   Active   \n",
       "2  49835415     20.0   Active   \n",
       "3  49835557     21.0   Active   \n",
       "4         0     44.0   Active   \n",
       "\n",
       "                                              smiles  \n",
       "0  C1C[C@H](N(C1)C(=O)[C@@H](CCCN=C(N)N)NS(=O)(=O...  \n",
       "1  CC(C)(C)OC(=O)C[C@H](C(=O)N1CCC[C@H]1C(=O)NCC2...  \n",
       "2  C1C[C@H](N(C1)C(=O)[C@@H](CCCCN)NS(=O)(=O)CC2=...  \n",
       "3  C1C[C@H](N(C1)C(=O)[C@@H](CCCCN=C(N)N)NS(=O)(=...  \n",
       "4  N=C(C1=CC=C(C=C1)CNC([C@@H]2CCCN2C([C@H](CCC3=...  "
      ]
     },
     "execution_count": 42,
     "metadata": {},
     "output_type": "execute_result"
    }
   ],
   "source": [
    "# reorder columns, compare\n",
    "TMPRSS2 = TMPRSS2[processed_example.columns]\n",
    "print('TMPRSS2')\n",
    "TMPRSS2.head()"
   ]
  },
  {
   "cell_type": "code",
   "execution_count": 43,
   "metadata": {},
   "outputs": [
    {
     "name": "stdout",
     "output_type": "stream",
     "text": [
      "processed pubchem example\n"
     ]
    },
    {
     "data": {
      "text/html": [
       "<div>\n",
       "<style scoped>\n",
       "    .dataframe tbody tr th:only-of-type {\n",
       "        vertical-align: middle;\n",
       "    }\n",
       "\n",
       "    .dataframe tbody tr th {\n",
       "        vertical-align: top;\n",
       "    }\n",
       "\n",
       "    .dataframe thead th {\n",
       "        text-align: right;\n",
       "    }\n",
       "</style>\n",
       "<table border=\"1\" class=\"dataframe\">\n",
       "  <thead>\n",
       "    <tr style=\"text-align: right;\">\n",
       "      <th></th>\n",
       "      <th>cid</th>\n",
       "      <th>acvalue</th>\n",
       "      <th>activity</th>\n",
       "      <th>smiles</th>\n",
       "    </tr>\n",
       "  </thead>\n",
       "  <tbody>\n",
       "    <tr>\n",
       "      <th>0</th>\n",
       "      <td>11974</td>\n",
       "      <td>0.535</td>\n",
       "      <td>Active</td>\n",
       "      <td>C1=CC(=C(C=C1C(=N)N)Br)OCCCOC2=C(C=C(C=C2)C(=N...</td>\n",
       "    </tr>\n",
       "    <tr>\n",
       "      <th>1</th>\n",
       "      <td>432298</td>\n",
       "      <td>0.204</td>\n",
       "      <td>Active</td>\n",
       "      <td>C1=CC(=CC=C1C(=N)N)OC2=CC=C(C=C2)OC3=CC=C(C=C3...</td>\n",
       "    </tr>\n",
       "    <tr>\n",
       "      <th>2</th>\n",
       "      <td>411406</td>\n",
       "      <td>0.191</td>\n",
       "      <td>Active</td>\n",
       "      <td>C1=CC(=CC=C1C(=N)N)OCCCCCCOC2=C(C=C(C=C2)C(=N)N)I</td>\n",
       "    </tr>\n",
       "    <tr>\n",
       "      <th>3</th>\n",
       "      <td>135435498</td>\n",
       "      <td>4.500</td>\n",
       "      <td>Active</td>\n",
       "      <td>C1=CC(=CC=C1C(=N)N)N=NC2=C(C=CC3=CC4=C(C=CC(=C...</td>\n",
       "    </tr>\n",
       "    <tr>\n",
       "      <th>4</th>\n",
       "      <td>4735</td>\n",
       "      <td>1.160</td>\n",
       "      <td>Active</td>\n",
       "      <td>C1=CC(=CC=C1C(=N)N)OCCCCCOC2=CC=C(C=C2)C(=N)N</td>\n",
       "    </tr>\n",
       "  </tbody>\n",
       "</table>\n",
       "</div>"
      ],
      "text/plain": [
       "         cid  acvalue activity  \\\n",
       "0      11974    0.535   Active   \n",
       "1     432298    0.204   Active   \n",
       "2     411406    0.191   Active   \n",
       "3  135435498    4.500   Active   \n",
       "4       4735    1.160   Active   \n",
       "\n",
       "                                              smiles  \n",
       "0  C1=CC(=C(C=C1C(=N)N)Br)OCCCOC2=C(C=C(C=C2)C(=N...  \n",
       "1  C1=CC(=CC=C1C(=N)N)OC2=CC=C(C=C2)OC3=CC=C(C=C3...  \n",
       "2  C1=CC(=CC=C1C(=N)N)OCCCCCCOC2=C(C=C(C=C2)C(=N)N)I  \n",
       "3  C1=CC(=CC=C1C(=N)N)N=NC2=C(C=CC3=CC4=C(C=CC(=C...  \n",
       "4      C1=CC(=CC=C1C(=N)N)OCCCCCOC2=CC=C(C=C2)C(=N)N  "
      ]
     },
     "execution_count": 43,
     "metadata": {},
     "output_type": "execute_result"
    }
   ],
   "source": [
    "print('processed pubchem example')\n",
    "processed_example.head()"
   ]
  },
  {
   "cell_type": "code",
   "execution_count": 44,
   "metadata": {},
   "outputs": [],
   "source": [
    "# export\n",
    "TMPRSS2.to_csv('../dumps/TMPRSS2_processed.csv')"
   ]
  },
  {
   "cell_type": "code",
   "execution_count": null,
   "metadata": {},
   "outputs": [],
   "source": []
  }
 ],
 "metadata": {
  "kernelspec": {
   "display_name": "Python 3",
   "language": "python",
   "name": "python3"
  },
  "language_info": {
   "codemirror_mode": {
    "name": "ipython",
    "version": 3
   },
   "file_extension": ".py",
   "mimetype": "text/x-python",
   "name": "python",
   "nbconvert_exporter": "python",
   "pygments_lexer": "ipython3",
   "version": "3.6.10"
  }
 },
 "nbformat": 4,
 "nbformat_minor": 4
}
