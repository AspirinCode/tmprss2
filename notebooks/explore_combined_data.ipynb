{
 "cells": [
  {
   "cell_type": "markdown",
   "metadata": {},
   "source": [
    "# Understand the Combined Data\n",
    "Let's understand what we have to work with."
   ]
  },
  {
   "cell_type": "code",
   "execution_count": 1,
   "metadata": {},
   "outputs": [],
   "source": [
    "import pandas as pd\n",
    "import numpy as np\n",
    "import matplotlib.pyplot as plt"
   ]
  },
  {
   "cell_type": "code",
   "execution_count": 2,
   "metadata": {
    "scrolled": true
   },
   "outputs": [
    {
     "data": {
      "text/html": [
       "<div>\n",
       "<style scoped>\n",
       "    .dataframe tbody tr th:only-of-type {\n",
       "        vertical-align: middle;\n",
       "    }\n",
       "\n",
       "    .dataframe tbody tr th {\n",
       "        vertical-align: top;\n",
       "    }\n",
       "\n",
       "    .dataframe thead th {\n",
       "        text-align: right;\n",
       "    }\n",
       "</style>\n",
       "<table border=\"1\" class=\"dataframe\">\n",
       "  <thead>\n",
       "    <tr style=\"text-align: right;\">\n",
       "      <th></th>\n",
       "      <th>acvalue_target</th>\n",
       "      <th>activity_target</th>\n",
       "      <th>target</th>\n",
       "      <th>tmprss2_vs_target_spearman_r</th>\n",
       "      <th>acvalue_scaled_to_tmprss2</th>\n",
       "      <th>cid</th>\n",
       "      <th>smiles</th>\n",
       "    </tr>\n",
       "  </thead>\n",
       "  <tbody>\n",
       "    <tr>\n",
       "      <th>147</th>\n",
       "      <td>0.0101</td>\n",
       "      <td>Active</td>\n",
       "      <td>KLKB1</td>\n",
       "      <td>NaN</td>\n",
       "      <td>NaN</td>\n",
       "      <td>56954952</td>\n",
       "      <td>C1[C@H](C(=O)N[C@@H](CC2=CN(CC3=CC=CC(=N3)CN4C...</td>\n",
       "    </tr>\n",
       "    <tr>\n",
       "      <th>86</th>\n",
       "      <td>0.2070</td>\n",
       "      <td>Active</td>\n",
       "      <td>TMPRSS2</td>\n",
       "      <td>1.000000</td>\n",
       "      <td>0.207000</td>\n",
       "      <td>71495559</td>\n",
       "      <td>CNC(=O)CCCC1CCN(CC1)C(=O)[C@H](CC2=CC(=CC=C2)C...</td>\n",
       "    </tr>\n",
       "    <tr>\n",
       "      <th>552</th>\n",
       "      <td>0.0095</td>\n",
       "      <td>Active</td>\n",
       "      <td>ST14</td>\n",
       "      <td>0.777319</td>\n",
       "      <td>0.009237</td>\n",
       "      <td>129012302</td>\n",
       "      <td>C[C@@H](C(=O)N[C@@H](CCCCN)C(=O)C1=NC2=CC=CC=C...</td>\n",
       "    </tr>\n",
       "    <tr>\n",
       "      <th>128</th>\n",
       "      <td>1.3000</td>\n",
       "      <td>Active</td>\n",
       "      <td>KLKB1</td>\n",
       "      <td>NaN</td>\n",
       "      <td>NaN</td>\n",
       "      <td>135450980</td>\n",
       "      <td>C1=CC=C(C=C1)C2=C(C(=CC=C2)C3=CC4=CC(=C(C=C4N3...</td>\n",
       "    </tr>\n",
       "    <tr>\n",
       "      <th>341</th>\n",
       "      <td>0.0530</td>\n",
       "      <td>Active</td>\n",
       "      <td>ST14</td>\n",
       "      <td>0.777319</td>\n",
       "      <td>0.051533</td>\n",
       "      <td>11636026</td>\n",
       "      <td>C1CN(CCN1C(=O)CCN=C(N)N)C(=O)[C@H](CC2=CC(=CC=...</td>\n",
       "    </tr>\n",
       "  </tbody>\n",
       "</table>\n",
       "</div>"
      ],
      "text/plain": [
       "     acvalue_target activity_target   target  tmprss2_vs_target_spearman_r  \\\n",
       "147          0.0101          Active    KLKB1                           NaN   \n",
       "86           0.2070          Active  TMPRSS2                      1.000000   \n",
       "552          0.0095          Active     ST14                      0.777319   \n",
       "128          1.3000          Active    KLKB1                           NaN   \n",
       "341          0.0530          Active     ST14                      0.777319   \n",
       "\n",
       "     acvalue_scaled_to_tmprss2        cid  \\\n",
       "147                        NaN   56954952   \n",
       "86                    0.207000   71495559   \n",
       "552                   0.009237  129012302   \n",
       "128                        NaN  135450980   \n",
       "341                   0.051533   11636026   \n",
       "\n",
       "                                                smiles  \n",
       "147  C1[C@H](C(=O)N[C@@H](CC2=CN(CC3=CC=CC(=N3)CN4C...  \n",
       "86   CNC(=O)CCCC1CCN(CC1)C(=O)[C@H](CC2=CC(=CC=C2)C...  \n",
       "552  C[C@@H](C(=O)N[C@@H](CCCCN)C(=O)C1=NC2=CC=CC=C...  \n",
       "128  C1=CC=C(C=C1)C2=C(C(=CC=C2)C3=CC4=CC(=C(C=C4N3...  \n",
       "341  C1CN(CCN1C(=O)CCN=C(N)N)C(=O)[C@H](CC2=CC(=CC=...  "
      ]
     },
     "execution_count": 2,
     "metadata": {},
     "output_type": "execute_result"
    }
   ],
   "source": [
    "data = pd.read_csv(\"../data/combined_datasets.csv\")\n",
    "data.sample(frac=1).head()"
   ]
  },
  {
   "cell_type": "markdown",
   "metadata": {},
   "source": [
    "## Histograms"
   ]
  },
  {
   "cell_type": "markdown",
   "metadata": {},
   "source": [
    "### Bulk Data"
   ]
  },
  {
   "cell_type": "code",
   "execution_count": 3,
   "metadata": {},
   "outputs": [
    {
     "data": {
      "image/png": "[encoded data removed]",
      "text/plain": [
       "<Figure size 432x288 with 1 Axes>"
      ]
     },
     "metadata": {
      "needs_background": "light"
     },
     "output_type": "display_data"
    }
   ],
   "source": [
    "plt.hist(data.acvalue_target,\n",
    "         bins=np.logspace(np.log10(data.acvalue_target.min()), np.log10(data.acvalue_target.max()), 50),\n",
    "         label='All Labels')\n",
    "plt.gca().set_xscale(\"log\")\n",
    "plt.xlabel('activity on target')\n",
    "plt.show()"
   ]
  },
  {
   "cell_type": "markdown",
   "metadata": {},
   "source": [
    "### Discriminated by target"
   ]
  },
  {
   "cell_type": "code",
   "execution_count": 4,
   "metadata": {},
   "outputs": [
    {
     "data": {
      "text/plain": [
       "target\n",
       "KLKB1        223\n",
       "ST14         241\n",
       "TMPRSS11D     32\n",
       "TMPRSS2       92\n",
       "TMPRSS6       79\n",
       "dtype: int64"
      ]
     },
     "execution_count": 4,
     "metadata": {},
     "output_type": "execute_result"
    }
   ],
   "source": [
    "data.groupby('target').size()"
   ]
  },
  {
   "cell_type": "code",
   "execution_count": 5,
   "metadata": {},
   "outputs": [
    {
     "data": {
      "image/png": "[encoded data removed]",
      "text/plain": [
       "<Figure size 432x720 with 5 Axes>"
      ]
     },
     "metadata": {
      "needs_background": "light"
     },
     "output_type": "display_data"
    }
   ],
   "source": [
    "targets = data.groupby('target').acvalue_target.apply(list).to_dict()\n",
    "fig, axes = plt.subplots(len(targets), 1, sharey=True, sharex=True)\n",
    "fig.set_figheight(10)\n",
    "axes = iter(axes)\n",
    "colors = iter(plt.rcParams[\"axes.prop_cycle\"].by_key()[\"color\"])\n",
    "for name, acvalues in targets.items():\n",
    "    ax = next(axes)\n",
    "    ax.hist(acvalues,\n",
    "            bins=np.logspace(np.log10(data.acvalue_target.min()), np.log10(data.acvalue_target.max()), 50),\n",
    "            color=next(colors))\n",
    "    ax.set_xscale('log')\n",
    "    ax.set_ylabel(name)\n",
    "ax.set_xlabel('activity')\n",
    "plt.suptitle('Activity Values by Target')\n",
    "plt.show()"
   ]
  },
  {
   "cell_type": "markdown",
   "metadata": {},
   "source": [
    "ST14, TMPRSS11D, and TMPRSS2 appear to have similar activity distributions.\n",
    "\n",
    "KLKB1 is somewhat flat and skewed right, but also similar.\n",
    "\n",
    "TMPRSS6 is notably skewed right."
   ]
  },
  {
   "cell_type": "markdown",
   "metadata": {},
   "source": [
    "### Scaled Activity Values"
   ]
  },
  {
   "cell_type": "code",
   "execution_count": 6,
   "metadata": {},
   "outputs": [
    {
     "name": "stderr",
     "output_type": "stream",
     "text": [
      "/opt/miniconda3/envs/tmprss2/lib/python3.6/site-packages/matplotlib/axes/_axes.py:6619: RuntimeWarning: All-NaN slice encountered\n",
      "  xmin = min(xmin, np.nanmin(xi))\n",
      "/opt/miniconda3/envs/tmprss2/lib/python3.6/site-packages/matplotlib/axes/_axes.py:6620: RuntimeWarning: All-NaN slice encountered\n",
      "  xmax = max(xmax, np.nanmax(xi))\n"
     ]
    },
    {
     "data": {
      "image/png": "[encoded data removed]",
      "text/plain": [
       "<Figure size 432x720 with 5 Axes>"
      ]
     },
     "metadata": {
      "needs_background": "light"
     },
     "output_type": "display_data"
    }
   ],
   "source": [
    "targets = data.groupby('target').acvalue_scaled_to_tmprss2.apply(list).to_dict()\n",
    "fig, axes = plt.subplots(len(targets), 1, sharey=True, sharex=True)\n",
    "fig.set_figheight(10)\n",
    "axes = iter(axes)\n",
    "colors = iter(plt.rcParams[\"axes.prop_cycle\"].by_key()[\"color\"])\n",
    "for name, acvalues in targets.items():\n",
    "    ax = next(axes)\n",
    "    ax.hist(acvalues,\n",
    "            bins=np.logspace(np.log10(data.acvalue_target.min()), np.log10(data.acvalue_target.max()), 50),\n",
    "            color=next(colors))\n",
    "    ax.set_xscale('log')\n",
    "    ax.set_ylabel(name)\n",
    "    ax.axvline(np.median(acvalues), color='b', label='median')\n",
    "    ax.axvline(np.mean(acvalues), color='g', label='mean')\n",
    "ax.set_xlabel('activity')\n",
    "ax.legend()\n",
    "plt.suptitle('Activity values scaled to TMPRSS2')\n",
    "plt.show()"
   ]
  },
  {
   "cell_type": "markdown",
   "metadata": {},
   "source": [
    "It appears that the linear regression and scaling is just a fancy way to put the distribution medians inline.  It does have more scientific merit, though, since the scaling only takes into account values from compounds which appear in both datasets.  Still, though, it suggests that if we would like to utilize all the data, including KLKB1 and ST14, it might be smart to scale the activities to match medians.  Definitely don't mean-scale the data though, since it appears to be mainly log-normally distributed."
   ]
  },
  {
   "cell_type": "code",
   "execution_count": null,
   "metadata": {},
   "outputs": [],
   "source": []
  }
 ],
 "metadata": {
  "kernelspec": {
   "display_name": "Python 3",
   "language": "python",
   "name": "python3"
  },
  "language_info": {
   "codemirror_mode": {
    "name": "ipython",
    "version": 3
   },
   "file_extension": ".py",
   "mimetype": "text/x-python",
   "name": "python",
   "nbconvert_exporter": "python",
   "pygments_lexer": "ipython3",
   "version": "3.6.10"
  }
 },
 "nbformat": 4,
 "nbformat_minor": 4
}
