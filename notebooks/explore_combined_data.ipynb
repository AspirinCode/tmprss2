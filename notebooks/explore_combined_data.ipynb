{
 "cells": [
  {
   "cell_type": "markdown",
   "metadata": {},
   "source": [
    "# Understand the Combined Data\n",
    "Let's understand what we have to work with."
   ]
  },
  {
   "cell_type": "code",
   "execution_count": 4,
   "metadata": {},
   "outputs": [],
   "source": [
    "import pandas as pd\n",
    "import numpy as np\n",
    "import matplotlib.pyplot as plt"
   ]
  },
  {
   "cell_type": "code",
   "execution_count": 5,
   "metadata": {
    "scrolled": true
   },
   "outputs": [
    {
     "data": {
      "text/html": [
       "<div>\n",
       "<style scoped>\n",
       "    .dataframe tbody tr th:only-of-type {\n",
       "        vertical-align: middle;\n",
       "    }\n",
       "\n",
       "    .dataframe tbody tr th {\n",
       "        vertical-align: top;\n",
       "    }\n",
       "\n",
       "    .dataframe thead th {\n",
       "        text-align: right;\n",
       "    }\n",
       "</style>\n",
       "<table border=\"1\" class=\"dataframe\">\n",
       "  <thead>\n",
       "    <tr style=\"text-align: right;\">\n",
       "      <th></th>\n",
       "      <th>acvalue_target</th>\n",
       "      <th>activity_target</th>\n",
       "      <th>target</th>\n",
       "      <th>tmprss2_vs_target_spearman_r</th>\n",
       "      <th>acvalue_scaled_to_tmprss2</th>\n",
       "      <th>cid</th>\n",
       "      <th>morgan_fingerprint</th>\n",
       "    </tr>\n",
       "  </thead>\n",
       "  <tbody>\n",
       "    <tr>\n",
       "      <th>381</th>\n",
       "      <td>816.000</td>\n",
       "      <td>Inactive</td>\n",
       "      <td>KLKB1</td>\n",
       "      <td>NaN</td>\n",
       "      <td>NaN</td>\n",
       "      <td>10742217</td>\n",
       "      <td>[0, 1, 1, 0, 0, 0, 0, 0, 0, 0, 0, 0, 0, 0, 0, ...</td>\n",
       "    </tr>\n",
       "    <tr>\n",
       "      <th>75</th>\n",
       "      <td>208.000</td>\n",
       "      <td>Inactive</td>\n",
       "      <td>TMPRSS6</td>\n",
       "      <td>0.708384</td>\n",
       "      <td>5.612550</td>\n",
       "      <td>71458620</td>\n",
       "      <td>[0, 0, 0, 0, 0, 0, 0, 0, 0, 0, 0, 0, 0, 0, 0, ...</td>\n",
       "    </tr>\n",
       "    <tr>\n",
       "      <th>71</th>\n",
       "      <td>11.000</td>\n",
       "      <td>Active</td>\n",
       "      <td>KLKB1</td>\n",
       "      <td>NaN</td>\n",
       "      <td>NaN</td>\n",
       "      <td>9912771</td>\n",
       "      <td>[0, 0, 0, 0, 0, 0, 0, 0, 0, 0, 0, 0, 0, 0, 1, ...</td>\n",
       "    </tr>\n",
       "    <tr>\n",
       "      <th>6</th>\n",
       "      <td>0.230</td>\n",
       "      <td>Active</td>\n",
       "      <td>KLKB1</td>\n",
       "      <td>NaN</td>\n",
       "      <td>NaN</td>\n",
       "      <td>11292119</td>\n",
       "      <td>[0, 1, 0, 0, 0, 0, 0, 0, 0, 0, 0, 0, 0, 0, 0, ...</td>\n",
       "    </tr>\n",
       "    <tr>\n",
       "      <th>243</th>\n",
       "      <td>0.087</td>\n",
       "      <td>Active</td>\n",
       "      <td>ST14</td>\n",
       "      <td>0.769880</td>\n",
       "      <td>0.116046</td>\n",
       "      <td>25030928</td>\n",
       "      <td>[0, 1, 0, 0, 0, 0, 0, 0, 0, 0, 0, 0, 0, 0, 0, ...</td>\n",
       "    </tr>\n",
       "  </tbody>\n",
       "</table>\n",
       "</div>"
      ],
      "text/plain": [
       "     acvalue_target activity_target   target  tmprss2_vs_target_spearman_r  \\\n",
       "381         816.000        Inactive    KLKB1                           NaN   \n",
       "75          208.000        Inactive  TMPRSS6                      0.708384   \n",
       "71           11.000          Active    KLKB1                           NaN   \n",
       "6             0.230          Active    KLKB1                           NaN   \n",
       "243           0.087          Active     ST14                      0.769880   \n",
       "\n",
       "     acvalue_scaled_to_tmprss2       cid  \\\n",
       "381                        NaN  10742217   \n",
       "75                    5.612550  71458620   \n",
       "71                         NaN   9912771   \n",
       "6                          NaN  11292119   \n",
       "243                   0.116046  25030928   \n",
       "\n",
       "                                    morgan_fingerprint  \n",
       "381  [0, 1, 1, 0, 0, 0, 0, 0, 0, 0, 0, 0, 0, 0, 0, ...  \n",
       "75   [0, 0, 0, 0, 0, 0, 0, 0, 0, 0, 0, 0, 0, 0, 0, ...  \n",
       "71   [0, 0, 0, 0, 0, 0, 0, 0, 0, 0, 0, 0, 0, 0, 1, ...  \n",
       "6    [0, 1, 0, 0, 0, 0, 0, 0, 0, 0, 0, 0, 0, 0, 0, ...  \n",
       "243  [0, 1, 0, 0, 0, 0, 0, 0, 0, 0, 0, 0, 0, 0, 0, ...  "
      ]
     },
     "execution_count": 5,
     "metadata": {},
     "output_type": "execute_result"
    }
   ],
   "source": [
    "data = pd.read_pickle(\"../processed_data/combined_dataset.pkl\")\n",
    "data.sample(frac=1).head()"
   ]
  },
  {
   "cell_type": "markdown",
   "metadata": {},
   "source": [
    "## Histograms"
   ]
  },
  {
   "cell_type": "markdown",
   "metadata": {},
   "source": [
    "### Bulk Data"
   ]
  },
  {
   "cell_type": "code",
   "execution_count": 6,
   "metadata": {},
   "outputs": [
    {
     "data": {
      "image/png": "[encoded data removed]",
      "text/plain": [
       "<Figure size 432x288 with 1 Axes>"
      ]
     },
     "metadata": {
      "needs_background": "light"
     },
     "output_type": "display_data"
    }
   ],
   "source": [
    "plt.hist(data.acvalue_target,\n",
    "         bins=np.logspace(np.log10(data.acvalue_target.min()), np.log10(data.acvalue_target.max()), 50),\n",
    "         label='All Labels')\n",
    "plt.gca().set_xscale(\"log\")\n",
    "plt.xlabel('activity on target')\n",
    "plt.show()"
   ]
  },
  {
   "cell_type": "markdown",
   "metadata": {},
   "source": [
    "### Discriminated by target"
   ]
  },
  {
   "cell_type": "code",
   "execution_count": 7,
   "metadata": {},
   "outputs": [
    {
     "data": {
      "text/plain": [
       "target\n",
       "KLKB1        384\n",
       "ST14         246\n",
       "TMPRSS11D     33\n",
       "TMPRSS2       92\n",
       "TMPRSS6       87\n",
       "dtype: int64"
      ]
     },
     "execution_count": 7,
     "metadata": {},
     "output_type": "execute_result"
    }
   ],
   "source": [
    "data.groupby('target').size()"
   ]
  },
  {
   "cell_type": "code",
   "execution_count": 8,
   "metadata": {},
   "outputs": [
    {
     "data": {
      "image/png": "[encoded data removed]",
      "text/plain": [
       "<Figure size 432x720 with 5 Axes>"
      ]
     },
     "metadata": {
      "needs_background": "light"
     },
     "output_type": "display_data"
    }
   ],
   "source": [
    "targets = data.groupby('target').acvalue_target.apply(list).to_dict()\n",
    "fig, axes = plt.subplots(len(targets), 1, sharey=True, sharex=True)\n",
    "fig.set_figheight(10)\n",
    "axes = iter(axes)\n",
    "colors = iter(plt.rcParams[\"axes.prop_cycle\"].by_key()[\"color\"])\n",
    "for name, acvalues in targets.items():\n",
    "    ax = next(axes)\n",
    "    ax.hist(acvalues,\n",
    "            bins=np.logspace(np.log10(data.acvalue_target.min()), np.log10(data.acvalue_target.max()), 50),\n",
    "            color=next(colors))\n",
    "    ax.set_xscale('log')\n",
    "    ax.set_ylabel(name)\n",
    "ax.set_xlabel('activity')\n",
    "plt.suptitle('Activity Values by Target')\n",
    "plt.show()"
   ]
  },
  {
   "cell_type": "markdown",
   "metadata": {},
   "source": [
    "ST14, TMPRSS11D, and TMPRSS2 appear to have similar activity distributions.\n",
    "\n",
    "KLKB1 is somewhat flat and skewed right, but also similar.\n",
    "\n",
    "TMPRSS6 is notably skewed right."
   ]
  },
  {
   "cell_type": "markdown",
   "metadata": {},
   "source": [
    "### Scaled Activity Values"
   ]
  },
  {
   "cell_type": "code",
   "execution_count": 9,
   "metadata": {},
   "outputs": [
    {
     "name": "stderr",
     "output_type": "stream",
     "text": [
      "/opt/miniconda3/envs/tmprss2/lib/python3.6/site-packages/matplotlib/axes/_axes.py:6619: RuntimeWarning: All-NaN slice encountered\n",
      "  xmin = min(xmin, np.nanmin(xi))\n",
      "/opt/miniconda3/envs/tmprss2/lib/python3.6/site-packages/matplotlib/axes/_axes.py:6620: RuntimeWarning: All-NaN slice encountered\n",
      "  xmax = max(xmax, np.nanmax(xi))\n"
     ]
    },
    {
     "data": {
      "image/png": "[encoded data removed]",
      "text/plain": [
       "<Figure size 432x720 with 5 Axes>"
      ]
     },
     "metadata": {
      "needs_background": "light"
     },
     "output_type": "display_data"
    }
   ],
   "source": [
    "targets = data.groupby('target').acvalue_scaled_to_tmprss2.apply(list).to_dict()\n",
    "fig, axes = plt.subplots(len(targets), 1, sharey=True, sharex=True)\n",
    "fig.set_figheight(10)\n",
    "axes = iter(axes)\n",
    "colors = iter(plt.rcParams[\"axes.prop_cycle\"].by_key()[\"color\"])\n",
    "for name, acvalues in targets.items():\n",
    "    ax = next(axes)\n",
    "    ax.hist(acvalues,\n",
    "            bins=np.logspace(np.log10(data.acvalue_target.min()), np.log10(data.acvalue_target.max()), 50),\n",
    "            color=next(colors))\n",
    "    ax.set_xscale('log')\n",
    "    ax.set_ylabel(name)\n",
    "    ax.axvline(np.median(acvalues), color='b', label='median')\n",
    "    ax.axvline(np.mean(acvalues), color='g', label='mean')\n",
    "ax.set_xlabel('activity')\n",
    "ax.legend()\n",
    "plt.suptitle('Activity values scaled to TMPRSS2')\n",
    "plt.show()"
   ]
  },
  {
   "cell_type": "markdown",
   "metadata": {},
   "source": [
    "It appears that the linear regression and scaling is just a fancy way to put the distribution medians inline.  It does have more scientific merit, though, since the scaling only takes into account values from compounds which appear in both datasets.  Still, though, it suggests that if we would like to utilize all the data, including KLKB1 and ST14, it might be smart to scale the activities to match medians.  Definitely don't mean-scale the data though, since it appears to be mainly log-normally distributed."
   ]
  },
  {
   "cell_type": "code",
   "execution_count": null,
   "metadata": {},
   "outputs": [],
   "source": []
  }
 ],
 "metadata": {
  "kernelspec": {
   "display_name": "Python 3",
   "language": "python",
   "name": "python3"
  },
  "language_info": {
   "codemirror_mode": {
    "name": "ipython",
    "version": 3
   },
   "file_extension": ".py",
   "mimetype": "text/x-python",
   "name": "python",
   "nbconvert_exporter": "python",
   "pygments_lexer": "ipython3",
   "version": "3.6.10"
  }
 },
 "nbformat": 4,
 "nbformat_minor": 4
}
