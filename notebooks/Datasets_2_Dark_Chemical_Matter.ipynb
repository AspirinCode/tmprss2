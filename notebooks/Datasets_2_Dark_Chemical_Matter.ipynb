{
 "cells": [
  {
   "cell_type": "code",
   "execution_count": 1,
   "metadata": {},
   "outputs": [],
   "source": [
    "from rdkit.Chem import rdMolDescriptors, MolFromSmiles\n",
    "from tqdm import tqdm\n",
    "from functools import partial\n",
    "import numpy as np\n",
    "from pubchempy import get_compounds\n",
    "import pandas as pd"
   ]
  },
  {
   "cell_type": "code",
   "execution_count": 2,
   "metadata": {},
   "outputs": [],
   "source": [
    "ds_name = 'DarkChemicalMatter'"
   ]
  },
  {
   "cell_type": "code",
   "execution_count": 3,
   "metadata": {},
   "outputs": [],
   "source": [
    "df = pd.read_csv('../data/dark_chemical_matter.csv')"
   ]
  },
  {
   "cell_type": "code",
   "execution_count": 4,
   "metadata": {},
   "outputs": [],
   "source": [
    "# for i, row in tqdm(df.iterrows(), total=len(df)):\n",
    "#     c = get_compounds(row.InChI_Key, namespace='inchikey')[0]\n",
    "    "
   ]
  },
  {
   "cell_type": "code",
   "execution_count": 5,
   "metadata": {},
   "outputs": [
    {
     "name": "stderr",
     "output_type": "stream",
     "text": [
      "  6%|▌         | 8126/139352 [00:01<00:32, 4072.93it/s]RDKit ERROR: [09:07:06] SMILES Parse Error: syntax error while parsing: [S](=O)(=O)(N(C(=O)C)|[Na+])C1=CC=C(N)C=C1\n",
      "RDKit ERROR: [09:07:06] SMILES Parse Error: Failed parsing SMILES '[S](=O)(=O)(N(C(=O)C)|[Na+])C1=CC=C(N)C=C1' for input: '[S](=O)(=O)(N(C(=O)C)|[Na+])C1=CC=C(N)C=C1'\n",
      " 35%|███▍      | 48448/139352 [00:11<00:24, 3674.39it/s]RDKit ERROR: [09:07:16] SMILES Parse Error: syntax error while parsing: [K+]|OC(=N[S](=O)(=O)C1=CC=C(N=NN(C)C)C=C1)CC\n",
      "RDKit ERROR: [09:07:16] SMILES Parse Error: Failed parsing SMILES '[K+]|OC(=N[S](=O)(=O)C1=CC=C(N=NN(C)C)C=C1)CC' for input: '[K+]|OC(=N[S](=O)(=O)C1=CC=C(N=NN(C)C)C=C1)CC'\n",
      " 40%|████      | 56041/139352 [00:13<00:21, 3908.54it/s]RDKit ERROR: [09:07:17] SMILES Parse Error: syntax error while parsing: [K+]|OC2=CC(=O)N(C1=CC=C(F)C=C1)C(=N2)SC\n",
      "RDKit ERROR: [09:07:17] SMILES Parse Error: Failed parsing SMILES '[K+]|OC2=CC(=O)N(C1=CC=C(F)C=C1)C(=N2)SC' for input: '[K+]|OC2=CC(=O)N(C1=CC=C(F)C=C1)C(=N2)SC'\n",
      " 46%|████▌     | 63978/139352 [00:15<00:18, 4069.92it/s]RDKit ERROR: [09:07:19] SMILES Parse Error: syntax error while parsing: [Na+]|OC2=C(C(CC(=O)C)C1=CC=CC=C1)C(OC3=CC=CC=C23)=O\n",
      "RDKit ERROR: [09:07:19] SMILES Parse Error: Failed parsing SMILES '[Na+]|OC2=C(C(CC(=O)C)C1=CC=CC=C1)C(OC3=CC=CC=C23)=O' for input: '[Na+]|OC2=C(C(CC(=O)C)C1=CC=CC=C1)C(OC3=CC=CC=C23)=O'\n",
      " 66%|██████▋   | 92329/139352 [00:22<00:11, 3936.10it/s]RDKit ERROR: [09:07:26] SMILES Parse Error: syntax error while parsing: [K+]|[B-](F)(F)(F)C1=C(F)C=CC=C1F\n",
      "RDKit ERROR: [09:07:26] SMILES Parse Error: Failed parsing SMILES '[K+]|[B-](F)(F)(F)C1=C(F)C=CC=C1F' for input: '[K+]|[B-](F)(F)(F)C1=C(F)C=CC=C1F'\n",
      " 67%|██████▋   | 93497/139352 [00:22<00:12, 3775.99it/s]RDKit ERROR: [09:07:27] SMILES Parse Error: syntax error while parsing: [K+]|[B-](F)(F)(F)C2=CC1=C(OCO1)C=C2C=O\n",
      "RDKit ERROR: [09:07:27] SMILES Parse Error: Failed parsing SMILES '[K+]|[B-](F)(F)(F)C2=CC1=C(OCO1)C=C2C=O' for input: '[K+]|[B-](F)(F)(F)C2=CC1=C(OCO1)C=C2C=O'\n",
      " 67%|██████▋   | 93876/139352 [00:23<00:12, 3683.73it/s]RDKit ERROR: [09:07:27] SMILES Parse Error: syntax error while parsing: [K+]|OC(=N[S](=O)(=O)C1=CC=C(N=NN(C)C)C=C1)CCC\n",
      "RDKit ERROR: [09:07:27] SMILES Parse Error: Failed parsing SMILES '[K+]|OC(=N[S](=O)(=O)C1=CC=C(N=NN(C)C)C=C1)CCC' for input: '[K+]|OC(=N[S](=O)(=O)C1=CC=C(N=NN(C)C)C=C1)CCC'\n",
      " 73%|███████▎  | 101093/139352 [00:24<00:09, 3898.27it/s]RDKit ERROR: [09:07:28] SMILES Parse Error: syntax error while parsing: [S](=O)(=O)(N(C1=C(N(N(C1=O)C2=CC=CC=C2)C)C)|[Na+])C3=CC=C(C=C3)C\n",
      "RDKit ERROR: [09:07:28] SMILES Parse Error: Failed parsing SMILES '[S](=O)(=O)(N(C1=C(N(N(C1=O)C2=CC=CC=C2)C)C)|[Na+])C3=CC=C(C=C3)C' for input: '[S](=O)(=O)(N(C1=C(N(N(C1=O)C2=CC=CC=C2)C)C)|[Na+])C3=CC=C(C=C3)C'\n",
      " 73%|███████▎  | 101485/139352 [00:24<00:09, 3856.24it/s]RDKit ERROR: [09:07:29] SMILES Parse Error: syntax error while parsing: [K+]|OC(=N[S](=O)(=O)C1=CC=C(N=NN(C)C)C=C1)C2=CC=CC=C2\n",
      "RDKit ERROR: [09:07:29] SMILES Parse Error: Failed parsing SMILES '[K+]|OC(=N[S](=O)(=O)C1=CC=C(N=NN(C)C)C=C1)C2=CC=CC=C2' for input: '[K+]|OC(=N[S](=O)(=O)C1=CC=C(N=NN(C)C)C=C1)C2=CC=CC=C2'\n",
      " 74%|███████▎  | 102638/139352 [00:25<00:09, 3710.41it/s]RDKit ERROR: [09:07:29] SMILES Parse Error: syntax error while parsing: [K+]|[B-](F)(F)(F)C1=CC=C(S1)C=O\n",
      "RDKit ERROR: [09:07:29] SMILES Parse Error: Failed parsing SMILES '[K+]|[B-](F)(F)(F)C1=CC=C(S1)C=O' for input: '[K+]|[B-](F)(F)(F)C1=CC=C(S1)C=O'\n",
      " 77%|███████▋  | 107408/139352 [00:26<00:07, 4224.90it/s]RDKit ERROR: [09:07:30] SMILES Parse Error: syntax error while parsing: [S](=O)(=O)(N(C2=NC1=CC=CC=C1N=C2)|[Na+])C3=CC=C(N)C=C3\n",
      "RDKit ERROR: [09:07:30] SMILES Parse Error: Failed parsing SMILES '[S](=O)(=O)(N(C2=NC1=CC=CC=C1N=C2)|[Na+])C3=CC=C(N)C=C3' for input: '[S](=O)(=O)(N(C2=NC1=CC=CC=C1N=C2)|[Na+])C3=CC=C(N)C=C3'\n",
      " 79%|███████▉  | 110724/139352 [00:27<00:07, 3954.35it/s]RDKit ERROR: [09:07:31] SMILES Parse Error: syntax error while parsing: S1C(=O)C(=C(O|[Na+])C2=CC=CC=C12)C(CC(=O)CC)C3=CC=CC=C3\n",
      "RDKit ERROR: [09:07:31] SMILES Parse Error: Failed parsing SMILES 'S1C(=O)C(=C(O|[Na+])C2=CC=CC=C12)C(CC(=O)CC)C3=CC=CC=C3' for input: 'S1C(=O)C(=C(O|[Na+])C2=CC=CC=C12)C(CC(=O)CC)C3=CC=CC=C3'\n",
      "RDKit ERROR: [09:07:31] SMILES Parse Error: syntax error while parsing: [K+]|OC2=CC(=O)N(C1=CC=CC=C1)C(=N2)SCC3=CC=CC=C3\n",
      "RDKit ERROR: [09:07:31] SMILES Parse Error: Failed parsing SMILES '[K+]|OC2=CC(=O)N(C1=CC=CC=C1)C(=N2)SCC3=CC=CC=C3' for input: '[K+]|OC2=CC(=O)N(C1=CC=CC=C1)C(=N2)SCC3=CC=CC=C3'\n",
      "100%|██████████| 139352/139352 [00:34<00:00, 4090.78it/s]\n"
     ]
    }
   ],
   "source": [
    "rdkit_mols = []\n",
    "dummy_cid = -1\n",
    "for i, row in tqdm(df.iterrows(), total=len(df)):\n",
    "    mol = MolFromSmiles(row.smiles)\n",
    "    rdkit_mols.append(mol)"
   ]
  },
  {
   "cell_type": "code",
   "execution_count": 6,
   "metadata": {},
   "outputs": [],
   "source": [
    "fingperint_function = partial(rdMolDescriptors.GetMorganFingerprintAsBitVect, \n",
    "                              radius=2, useChirality=True)\n",
    "fp_name = 'morgan'"
   ]
  },
  {
   "cell_type": "code",
   "execution_count": 7,
   "metadata": {},
   "outputs": [],
   "source": [
    "def fingerprint_to_np(fp):\n",
    "    bit_string = fp.ToBitString()\n",
    "    return np.array([int(char) for char in bit_string], dtype=np.uint8)"
   ]
  },
  {
   "cell_type": "code",
   "execution_count": 8,
   "metadata": {},
   "outputs": [
    {
     "name": "stderr",
     "output_type": "stream",
     "text": [
      "  6%|▌         | 8705/139352 [00:03<00:56, 2305.08it/s]"
     ]
    },
    {
     "name": "stdout",
     "output_type": "stream",
     "text": [
      "oops\n"
     ]
    },
    {
     "name": "stderr",
     "output_type": "stream",
     "text": [
      " 35%|███▌      | 49147/139352 [00:21<00:40, 2250.50it/s]"
     ]
    },
    {
     "name": "stdout",
     "output_type": "stream",
     "text": [
      "oops\n"
     ]
    },
    {
     "name": "stderr",
     "output_type": "stream",
     "text": [
      " 40%|████      | 56364/139352 [00:24<00:36, 2258.62it/s]"
     ]
    },
    {
     "name": "stdout",
     "output_type": "stream",
     "text": [
      "oops\n"
     ]
    },
    {
     "name": "stderr",
     "output_type": "stream",
     "text": [
      " 46%|████▋     | 64657/139352 [00:28<00:33, 2239.23it/s]"
     ]
    },
    {
     "name": "stdout",
     "output_type": "stream",
     "text": [
      "oops\n"
     ]
    },
    {
     "name": "stderr",
     "output_type": "stream",
     "text": [
      " 67%|██████▋   | 92941/139352 [00:40<00:20, 2269.85it/s]"
     ]
    },
    {
     "name": "stdout",
     "output_type": "stream",
     "text": [
      "oops\n"
     ]
    },
    {
     "name": "stderr",
     "output_type": "stream",
     "text": [
      " 67%|██████▋   | 93841/139352 [00:40<00:20, 2217.07it/s]"
     ]
    },
    {
     "name": "stdout",
     "output_type": "stream",
     "text": [
      "oops\n"
     ]
    },
    {
     "name": "stderr",
     "output_type": "stream",
     "text": [
      " 68%|██████▊   | 94523/139352 [00:41<00:19, 2243.60it/s]"
     ]
    },
    {
     "name": "stdout",
     "output_type": "stream",
     "text": [
      "oops\n"
     ]
    },
    {
     "name": "stderr",
     "output_type": "stream",
     "text": [
      " 73%|███████▎  | 101454/139352 [00:44<00:16, 2256.64it/s]"
     ]
    },
    {
     "name": "stdout",
     "output_type": "stream",
     "text": [
      "oops\n"
     ]
    },
    {
     "name": "stderr",
     "output_type": "stream",
     "text": [
      " 73%|███████▎  | 101905/139352 [00:44<00:16, 2245.80it/s]"
     ]
    },
    {
     "name": "stdout",
     "output_type": "stream",
     "text": [
      "oops\n"
     ]
    },
    {
     "name": "stderr",
     "output_type": "stream",
     "text": [
      " 74%|███████▍  | 103023/139352 [00:45<00:16, 2211.78it/s]"
     ]
    },
    {
     "name": "stdout",
     "output_type": "stream",
     "text": [
      "oops\n"
     ]
    },
    {
     "name": "stderr",
     "output_type": "stream",
     "text": [
      " 77%|███████▋  | 107869/139352 [00:47<00:13, 2265.83it/s]"
     ]
    },
    {
     "name": "stdout",
     "output_type": "stream",
     "text": [
      "oops\n"
     ]
    },
    {
     "name": "stderr",
     "output_type": "stream",
     "text": [
      " 80%|███████▉  | 111060/139352 [00:48<00:12, 2250.55it/s]"
     ]
    },
    {
     "name": "stdout",
     "output_type": "stream",
     "text": [
      "oops\n",
      "oops\n"
     ]
    },
    {
     "name": "stderr",
     "output_type": "stream",
     "text": [
      "100%|██████████| 139352/139352 [01:00<00:00, 2285.80it/s]\n"
     ]
    }
   ],
   "source": [
    "np_fingerprints = []\n",
    "for i, mol in enumerate(tqdm(rdkit_mols)):\n",
    "    try:\n",
    "        np_fingerprints.append(fingerprint_to_np(fingperint_function(mol)))\n",
    "    except:\n",
    "        print('oops')\n",
    "np_fingerprints = np.array(np_fingerprints)"
   ]
  },
  {
   "cell_type": "code",
   "execution_count": 9,
   "metadata": {},
   "outputs": [
    {
     "data": {
      "text/plain": [
       "(139339, 2048)"
      ]
     },
     "execution_count": 9,
     "metadata": {},
     "output_type": "execute_result"
    }
   ],
   "source": [
    "np_fingerprints.shape"
   ]
  },
  {
   "cell_type": "code",
   "execution_count": 10,
   "metadata": {},
   "outputs": [],
   "source": [
    "np.savez_compressed(f'../dumps/{ds_name}_{fp_name}_fingerprints.npz', fps=np_fingerprints, )"
   ]
  },
  {
   "cell_type": "code",
   "execution_count": 11,
   "metadata": {},
   "outputs": [],
   "source": [
    "x = np.load(f'../dumps/{ds_name}_{fp_name}_fingerprints.npz')"
   ]
  },
  {
   "cell_type": "code",
   "execution_count": 12,
   "metadata": {},
   "outputs": [
    {
     "data": {
      "text/plain": [
       "array([[0, 0, 0, ..., 0, 0, 0],\n",
       "       [0, 0, 0, ..., 0, 0, 0],\n",
       "       [0, 0, 0, ..., 0, 0, 0],\n",
       "       ...,\n",
       "       [0, 0, 0, ..., 0, 0, 0],\n",
       "       [0, 0, 0, ..., 0, 0, 0],\n",
       "       [0, 0, 0, ..., 0, 0, 0]], dtype=uint8)"
      ]
     },
     "execution_count": 12,
     "metadata": {},
     "output_type": "execute_result"
    }
   ],
   "source": [
    "x['fps']"
   ]
  },
  {
   "cell_type": "code",
   "execution_count": null,
   "metadata": {},
   "outputs": [],
   "source": []
  }
 ],
 "metadata": {
  "kernelspec": {
   "display_name": "Python [conda env:tmprss2]",
   "language": "python",
   "name": "conda-env-tmprss2-py"
  },
  "language_info": {
   "codemirror_mode": {
    "name": "ipython",
    "version": 3
   },
   "file_extension": ".py",
   "mimetype": "text/x-python",
   "name": "python",
   "nbconvert_exporter": "python",
   "pygments_lexer": "ipython3",
   "version": "3.6.10"
  }
 },
 "nbformat": 4,
 "nbformat_minor": 4
}
