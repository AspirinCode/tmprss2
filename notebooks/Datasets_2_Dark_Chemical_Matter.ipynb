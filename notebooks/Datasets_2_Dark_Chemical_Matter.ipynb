{
 "cells": [
  {
   "cell_type": "code",
   "execution_count": 1,
   "metadata": {},
   "outputs": [],
   "source": [
    "from rdkit.Chem import rdMolDescriptors, MolFromSmiles\n",
    "from tqdm import tqdm #my setup does not currently support those jupyter widgets\n",
    "from functools import partial\n",
    "import numpy as np\n",
    "from pubchempy import get_compounds\n",
    "import pandas as pd"
   ]
  },
  {
   "cell_type": "code",
   "execution_count": 2,
   "metadata": {},
   "outputs": [],
   "source": [
    "ds_name = 'DarkChemicalMatter'"
   ]
  },
  {
   "cell_type": "code",
   "execution_count": 3,
   "metadata": {},
   "outputs": [],
   "source": [
    "df = pd.read_csv('../data/dark_chemical_matter.csv')"
   ]
  },
  {
   "cell_type": "markdown",
   "metadata": {},
   "source": [
    "## Calculate Morgan Fingerprints"
   ]
  },
  {
   "cell_type": "code",
   "execution_count": 4,
   "metadata": {},
   "outputs": [],
   "source": [
    "fingerprint_function = partial(rdMolDescriptors.GetMorganFingerprintAsBitVect, \n",
    "                              radius=2, useChirality=True)\n",
    "fp_name = 'morgan'"
   ]
  },
  {
   "cell_type": "code",
   "execution_count": 5,
   "metadata": {},
   "outputs": [],
   "source": [
    "def row_to_fingerprint(row):\n",
    "    mol = MolFromSmiles(row.smiles)\n",
    "    if mol is None:\n",
    "        return np.nan  # this automatically deletes the row when using pd.apply\n",
    "    fp = fingerprint_function(mol)\n",
    "    bit_string = fp.ToBitString()\n",
    "    return np.array([int(char) for char in bit_string], dtype=np.uint8)"
   ]
  },
  {
   "cell_type": "code",
   "execution_count": 6,
   "metadata": {
    "scrolled": true
   },
   "outputs": [
    {
     "name": "stderr",
     "output_type": "stream",
     "text": [
      "  6%|▌         | 8190/139352 [00:05<01:32, 1417.49it/s]RDKit ERROR: [17:12:06] SMILES Parse Error: syntax error while parsing: [S](=O)(=O)(N(C(=O)C)|[Na+])C1=CC=C(N)C=C1\n",
      "RDKit ERROR: [17:12:06] SMILES Parse Error: Failed parsing SMILES '[S](=O)(=O)(N(C(=O)C)|[Na+])C1=CC=C(N)C=C1' for input: '[S](=O)(=O)(N(C(=O)C)|[Na+])C1=CC=C(N)C=C1'\n",
      " 35%|███▍      | 48677/139352 [00:34<01:08, 1320.02it/s]RDKit ERROR: [17:12:35] SMILES Parse Error: syntax error while parsing: [K+]|OC(=N[S](=O)(=O)C1=CC=C(N=NN(C)C)C=C1)CC\n",
      "RDKit ERROR: [17:12:35] SMILES Parse Error: Failed parsing SMILES '[K+]|OC(=N[S](=O)(=O)C1=CC=C(N=NN(C)C)C=C1)CC' for input: '[K+]|OC(=N[S](=O)(=O)C1=CC=C(N=NN(C)C)C=C1)CC'\n",
      " 40%|████      | 55956/139352 [00:39<01:01, 1350.12it/s]RDKit ERROR: [17:12:40] SMILES Parse Error: syntax error while parsing: [K+]|OC2=CC(=O)N(C1=CC=C(F)C=C1)C(=N2)SC\n",
      "RDKit ERROR: [17:12:40] SMILES Parse Error: Failed parsing SMILES '[K+]|OC2=CC(=O)N(C1=CC=C(F)C=C1)C(=N2)SC' for input: '[K+]|OC2=CC(=O)N(C1=CC=C(F)C=C1)C(=N2)SC'\n",
      " 46%|████▌     | 64276/139352 [00:45<00:54, 1368.95it/s]RDKit ERROR: [17:12:46] SMILES Parse Error: syntax error while parsing: [Na+]|OC2=C(C(CC(=O)C)C1=CC=CC=C1)C(OC3=CC=CC=C23)=O\n",
      "RDKit ERROR: [17:12:46] SMILES Parse Error: Failed parsing SMILES '[Na+]|OC2=C(C(CC(=O)C)C1=CC=CC=C1)C(OC3=CC=CC=C23)=O' for input: '[Na+]|OC2=C(C(CC(=O)C)C1=CC=CC=C1)C(OC3=CC=CC=C23)=O'\n",
      " 66%|██████▋   | 92489/139352 [01:06<00:34, 1353.75it/s]RDKit ERROR: [17:13:06] SMILES Parse Error: syntax error while parsing: [K+]|[B-](F)(F)(F)C1=C(F)C=CC=C1F\n",
      "RDKit ERROR: [17:13:06] SMILES Parse Error: Failed parsing SMILES '[K+]|[B-](F)(F)(F)C1=C(F)C=CC=C1F' for input: '[K+]|[B-](F)(F)(F)C1=C(F)C=CC=C1F'\n",
      " 67%|██████▋   | 93575/139352 [01:07<00:36, 1260.40it/s]RDKit ERROR: [17:13:07] SMILES Parse Error: syntax error while parsing: [K+]|[B-](F)(F)(F)C2=CC1=C(OCO1)C=C2C=O\n",
      "RDKit ERROR: [17:13:07] SMILES Parse Error: Failed parsing SMILES '[K+]|[B-](F)(F)(F)C2=CC1=C(OCO1)C=C2C=O' for input: '[K+]|[B-](F)(F)(F)C2=CC1=C(OCO1)C=C2C=O'\n",
      " 68%|██████▊   | 94111/139352 [01:07<00:34, 1323.27it/s]RDKit ERROR: [17:13:07] SMILES Parse Error: syntax error while parsing: [K+]|OC(=N[S](=O)(=O)C1=CC=C(N=NN(C)C)C=C1)CCC\n",
      "RDKit ERROR: [17:13:07] SMILES Parse Error: Failed parsing SMILES '[K+]|OC(=N[S](=O)(=O)C1=CC=C(N=NN(C)C)C=C1)CCC' for input: '[K+]|OC(=N[S](=O)(=O)C1=CC=C(N=NN(C)C)C=C1)CCC'\n",
      " 73%|███████▎  | 101094/139352 [01:12<00:28, 1349.06it/s]RDKit ERROR: [17:13:12] SMILES Parse Error: syntax error while parsing: [S](=O)(=O)(N(C1=C(N(N(C1=O)C2=CC=CC=C2)C)C)|[Na+])C3=CC=C(C=C3)C\n",
      "RDKit ERROR: [17:13:12] SMILES Parse Error: Failed parsing SMILES '[S](=O)(=O)(N(C1=C(N(N(C1=O)C2=CC=CC=C2)C)C)|[Na+])C3=CC=C(C=C3)C' for input: '[S](=O)(=O)(N(C1=C(N(N(C1=O)C2=CC=CC=C2)C)C)|[Na+])C3=CC=C(C=C3)C'\n",
      " 73%|███████▎  | 101640/139352 [01:12<00:27, 1351.14it/s]RDKit ERROR: [17:13:13] SMILES Parse Error: syntax error while parsing: [K+]|OC(=N[S](=O)(=O)C1=CC=C(N=NN(C)C)C=C1)C2=CC=CC=C2\n",
      "RDKit ERROR: [17:13:13] SMILES Parse Error: Failed parsing SMILES '[K+]|OC(=N[S](=O)(=O)C1=CC=C(N=NN(C)C)C=C1)C2=CC=CC=C2' for input: '[K+]|OC(=N[S](=O)(=O)C1=CC=C(N=NN(C)C)C=C1)C2=CC=CC=C2'\n",
      " 74%|███████▎  | 102599/139352 [01:13<00:27, 1336.09it/s]RDKit ERROR: [17:13:14] SMILES Parse Error: syntax error while parsing: [K+]|[B-](F)(F)(F)C1=CC=C(S1)C=O\n",
      "RDKit ERROR: [17:13:14] SMILES Parse Error: Failed parsing SMILES '[K+]|[B-](F)(F)(F)C1=CC=C(S1)C=O' for input: '[K+]|[B-](F)(F)(F)C1=CC=C(S1)C=O'\n",
      " 77%|███████▋  | 107449/139352 [01:16<00:22, 1426.86it/s]RDKit ERROR: [17:13:17] SMILES Parse Error: syntax error while parsing: [S](=O)(=O)(N(C2=NC1=CC=CC=C1N=C2)|[Na+])C3=CC=C(N)C=C3\n",
      "RDKit ERROR: [17:13:17] SMILES Parse Error: Failed parsing SMILES '[S](=O)(=O)(N(C2=NC1=CC=CC=C1N=C2)|[Na+])C3=CC=C(N)C=C3' for input: '[S](=O)(=O)(N(C2=NC1=CC=CC=C1N=C2)|[Na+])C3=CC=C(N)C=C3'\n",
      " 79%|███████▉  | 110728/139352 [01:19<00:20, 1376.70it/s]RDKit ERROR: [17:13:19] SMILES Parse Error: syntax error while parsing: S1C(=O)C(=C(O|[Na+])C2=CC=CC=C12)C(CC(=O)CC)C3=CC=CC=C3\n",
      "RDKit ERROR: [17:13:19] SMILES Parse Error: Failed parsing SMILES 'S1C(=O)C(=C(O|[Na+])C2=CC=CC=C12)C(CC(=O)CC)C3=CC=CC=C3' for input: 'S1C(=O)C(=C(O|[Na+])C2=CC=CC=C12)C(CC(=O)CC)C3=CC=CC=C3'\n",
      "RDKit ERROR: [17:13:19] SMILES Parse Error: syntax error while parsing: [K+]|OC2=CC(=O)N(C1=CC=CC=C1)C(=N2)SCC3=CC=CC=C3\n",
      "RDKit ERROR: [17:13:19] SMILES Parse Error: Failed parsing SMILES '[K+]|OC2=CC(=O)N(C1=CC=CC=C1)C(=N2)SCC3=CC=CC=C3' for input: '[K+]|OC2=CC(=O)N(C1=CC=CC=C1)C(=N2)SCC3=CC=CC=C3'\n",
      "100%|██████████| 139352/139352 [01:39<00:00, 1402.69it/s]\n"
     ]
    }
   ],
   "source": [
    "tqdm.pandas()\n",
    "df[f'{fp_name}_fingerprint'] = df.progress_apply(row_to_fingerprint, axis=1)"
   ]
  },
  {
   "cell_type": "code",
   "execution_count": 7,
   "metadata": {
    "scrolled": true
   },
   "outputs": [
    {
     "name": "stdout",
     "output_type": "stream",
     "text": [
      "Number failed molecule conversions: 13\n"
     ]
    },
    {
     "data": {
      "text/html": [
       "<div>\n",
       "<style scoped>\n",
       "    .dataframe tbody tr th:only-of-type {\n",
       "        vertical-align: middle;\n",
       "    }\n",
       "\n",
       "    .dataframe tbody tr th {\n",
       "        vertical-align: top;\n",
       "    }\n",
       "\n",
       "    .dataframe thead th {\n",
       "        text-align: right;\n",
       "    }\n",
       "</style>\n",
       "<table border=\"1\" class=\"dataframe\">\n",
       "  <thead>\n",
       "    <tr style=\"text-align: right;\">\n",
       "      <th></th>\n",
       "      <th>InChI_Key</th>\n",
       "      <th>set</th>\n",
       "      <th>morgan_fingerprint</th>\n",
       "      <th>activity</th>\n",
       "    </tr>\n",
       "  </thead>\n",
       "  <tbody>\n",
       "    <tr>\n",
       "      <th>0</th>\n",
       "      <td>XQXPVVBIMDBYFF-UHFFFAOYSA-N</td>\n",
       "      <td>both</td>\n",
       "      <td>[0, 0, 0, 0, 0, 0, 0, 0, 0, 0, 0, 0, 0, 0, 0, ...</td>\n",
       "      <td>Inactive</td>\n",
       "    </tr>\n",
       "    <tr>\n",
       "      <th>1</th>\n",
       "      <td>ZFXYFBGIUFBOJW-UHFFFAOYSA-N</td>\n",
       "      <td>both</td>\n",
       "      <td>[0, 0, 0, 0, 0, 0, 0, 0, 0, 0, 0, 0, 0, 0, 0, ...</td>\n",
       "      <td>Inactive</td>\n",
       "    </tr>\n",
       "    <tr>\n",
       "      <th>2</th>\n",
       "      <td>KPSRODZRAIWAKH-UHFFFAOYSA-N</td>\n",
       "      <td>both</td>\n",
       "      <td>[0, 0, 0, 0, 0, 0, 0, 0, 0, 0, 0, 0, 0, 0, 0, ...</td>\n",
       "      <td>Inactive</td>\n",
       "    </tr>\n",
       "    <tr>\n",
       "      <th>3</th>\n",
       "      <td>WWNNZCOKKKDOPX-UHFFFAOYSA-O</td>\n",
       "      <td>both</td>\n",
       "      <td>[0, 0, 0, 0, 0, 0, 0, 0, 0, 0, 0, 0, 0, 0, 0, ...</td>\n",
       "      <td>Inactive</td>\n",
       "    </tr>\n",
       "    <tr>\n",
       "      <th>4</th>\n",
       "      <td>ZIUHHBKFKCYYJD-UHFFFAOYSA-N</td>\n",
       "      <td>both</td>\n",
       "      <td>[0, 0, 0, 0, 0, 0, 0, 0, 0, 0, 0, 0, 0, 0, 0, ...</td>\n",
       "      <td>Inactive</td>\n",
       "    </tr>\n",
       "  </tbody>\n",
       "</table>\n",
       "</div>"
      ],
      "text/plain": [
       "                     InChI_Key   set  \\\n",
       "0  XQXPVVBIMDBYFF-UHFFFAOYSA-N  both   \n",
       "1  ZFXYFBGIUFBOJW-UHFFFAOYSA-N  both   \n",
       "2  KPSRODZRAIWAKH-UHFFFAOYSA-N  both   \n",
       "3  WWNNZCOKKKDOPX-UHFFFAOYSA-O  both   \n",
       "4  ZIUHHBKFKCYYJD-UHFFFAOYSA-N  both   \n",
       "\n",
       "                                  morgan_fingerprint  activity  \n",
       "0  [0, 0, 0, 0, 0, 0, 0, 0, 0, 0, 0, 0, 0, 0, 0, ...  Inactive  \n",
       "1  [0, 0, 0, 0, 0, 0, 0, 0, 0, 0, 0, 0, 0, 0, 0, ...  Inactive  \n",
       "2  [0, 0, 0, 0, 0, 0, 0, 0, 0, 0, 0, 0, 0, 0, 0, ...  Inactive  \n",
       "3  [0, 0, 0, 0, 0, 0, 0, 0, 0, 0, 0, 0, 0, 0, 0, ...  Inactive  \n",
       "4  [0, 0, 0, 0, 0, 0, 0, 0, 0, 0, 0, 0, 0, 0, 0, ...  Inactive  "
      ]
     },
     "execution_count": 7,
     "metadata": {},
     "output_type": "execute_result"
    }
   ],
   "source": [
    "# some processing\n",
    "df_out = df.dropna() # remove failed molecule rows\n",
    "print('Number failed molecule conversions:', len(df)-len(df_out))\n",
    "\n",
    "# remove smiles column\n",
    "df_out = df_out.drop('smiles', axis=1)\n",
    "\n",
    "# add activity column\n",
    "df_out['activity'] = 'Inactive'\n",
    "\n",
    "df_out.head()"
   ]
  },
  {
   "cell_type": "markdown",
   "metadata": {},
   "source": [
    "## Export"
   ]
  },
  {
   "cell_type": "code",
   "execution_count": 8,
   "metadata": {},
   "outputs": [],
   "source": [
    "df_out.to_pickle(f'../processed_data/{ds_name}_processed.pkl.gz')  # gzip compresses from 300MB to 10MB... wow"
   ]
  },
  {
   "cell_type": "code",
   "execution_count": 9,
   "metadata": {},
   "outputs": [],
   "source": [
    "#example loading\n",
    "df_in = pd.read_pickle(f'../processed_data/{ds_name}_processed.pkl.gz')  # pandas automatically uncompresses just from filename"
   ]
  },
  {
   "cell_type": "code",
   "execution_count": 10,
   "metadata": {},
   "outputs": [
    {
     "name": "stdout",
     "output_type": "stream",
     "text": [
      "length: 139339\n"
     ]
    },
    {
     "data": {
      "text/html": [
       "<div>\n",
       "<style scoped>\n",
       "    .dataframe tbody tr th:only-of-type {\n",
       "        vertical-align: middle;\n",
       "    }\n",
       "\n",
       "    .dataframe tbody tr th {\n",
       "        vertical-align: top;\n",
       "    }\n",
       "\n",
       "    .dataframe thead th {\n",
       "        text-align: right;\n",
       "    }\n",
       "</style>\n",
       "<table border=\"1\" class=\"dataframe\">\n",
       "  <thead>\n",
       "    <tr style=\"text-align: right;\">\n",
       "      <th></th>\n",
       "      <th>InChI_Key</th>\n",
       "      <th>set</th>\n",
       "      <th>morgan_fingerprint</th>\n",
       "      <th>activity</th>\n",
       "    </tr>\n",
       "  </thead>\n",
       "  <tbody>\n",
       "    <tr>\n",
       "      <th>0</th>\n",
       "      <td>XQXPVVBIMDBYFF-UHFFFAOYSA-N</td>\n",
       "      <td>both</td>\n",
       "      <td>[0, 0, 0, 0, 0, 0, 0, 0, 0, 0, 0, 0, 0, 0, 0, ...</td>\n",
       "      <td>Inactive</td>\n",
       "    </tr>\n",
       "    <tr>\n",
       "      <th>1</th>\n",
       "      <td>ZFXYFBGIUFBOJW-UHFFFAOYSA-N</td>\n",
       "      <td>both</td>\n",
       "      <td>[0, 0, 0, 0, 0, 0, 0, 0, 0, 0, 0, 0, 0, 0, 0, ...</td>\n",
       "      <td>Inactive</td>\n",
       "    </tr>\n",
       "    <tr>\n",
       "      <th>2</th>\n",
       "      <td>KPSRODZRAIWAKH-UHFFFAOYSA-N</td>\n",
       "      <td>both</td>\n",
       "      <td>[0, 0, 0, 0, 0, 0, 0, 0, 0, 0, 0, 0, 0, 0, 0, ...</td>\n",
       "      <td>Inactive</td>\n",
       "    </tr>\n",
       "    <tr>\n",
       "      <th>3</th>\n",
       "      <td>WWNNZCOKKKDOPX-UHFFFAOYSA-O</td>\n",
       "      <td>both</td>\n",
       "      <td>[0, 0, 0, 0, 0, 0, 0, 0, 0, 0, 0, 0, 0, 0, 0, ...</td>\n",
       "      <td>Inactive</td>\n",
       "    </tr>\n",
       "    <tr>\n",
       "      <th>4</th>\n",
       "      <td>ZIUHHBKFKCYYJD-UHFFFAOYSA-N</td>\n",
       "      <td>both</td>\n",
       "      <td>[0, 0, 0, 0, 0, 0, 0, 0, 0, 0, 0, 0, 0, 0, 0, ...</td>\n",
       "      <td>Inactive</td>\n",
       "    </tr>\n",
       "  </tbody>\n",
       "</table>\n",
       "</div>"
      ],
      "text/plain": [
       "                     InChI_Key   set  \\\n",
       "0  XQXPVVBIMDBYFF-UHFFFAOYSA-N  both   \n",
       "1  ZFXYFBGIUFBOJW-UHFFFAOYSA-N  both   \n",
       "2  KPSRODZRAIWAKH-UHFFFAOYSA-N  both   \n",
       "3  WWNNZCOKKKDOPX-UHFFFAOYSA-O  both   \n",
       "4  ZIUHHBKFKCYYJD-UHFFFAOYSA-N  both   \n",
       "\n",
       "                                  morgan_fingerprint  activity  \n",
       "0  [0, 0, 0, 0, 0, 0, 0, 0, 0, 0, 0, 0, 0, 0, 0, ...  Inactive  \n",
       "1  [0, 0, 0, 0, 0, 0, 0, 0, 0, 0, 0, 0, 0, 0, 0, ...  Inactive  \n",
       "2  [0, 0, 0, 0, 0, 0, 0, 0, 0, 0, 0, 0, 0, 0, 0, ...  Inactive  \n",
       "3  [0, 0, 0, 0, 0, 0, 0, 0, 0, 0, 0, 0, 0, 0, 0, ...  Inactive  \n",
       "4  [0, 0, 0, 0, 0, 0, 0, 0, 0, 0, 0, 0, 0, 0, 0, ...  Inactive  "
      ]
     },
     "execution_count": 10,
     "metadata": {},
     "output_type": "execute_result"
    }
   ],
   "source": [
    "print('length:', len(df_in))\n",
    "df_in.head()"
   ]
  }
 ],
 "metadata": {
  "kernelspec": {
   "display_name": "Python [conda env:tmprss2]",
   "language": "python",
   "name": "conda-env-tmprss2-py"
  },
  "language_info": {
   "codemirror_mode": {
    "name": "ipython",
    "version": 3
   },
   "file_extension": ".py",
   "mimetype": "text/x-python",
   "name": "python",
   "nbconvert_exporter": "python",
   "pygments_lexer": "ipython3",
   "version": "3.6.10"
  }
 },
 "nbformat": 4,
 "nbformat_minor": 4
}
