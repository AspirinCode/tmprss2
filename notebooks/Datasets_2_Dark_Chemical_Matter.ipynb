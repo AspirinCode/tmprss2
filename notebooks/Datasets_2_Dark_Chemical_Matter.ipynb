{
 "cells": [
  {
   "cell_type": "code",
   "execution_count": null,
   "metadata": {},
   "outputs": [],
   "source": [
    "from rdkit.Chem import rdMolDescriptors, MolFromSmiles\n",
    "from rdkit.Chem import SaltRemover, QED, rdMolDescriptors\n",
    "from molvs import Standardizer\n",
    "from tqdm import tqdm #my setup does not currently support those jupyter widgets\n",
    "from functools import partial\n",
    "import numpy as np\n",
    "from pubchempy import get_compounds\n",
    "import pandas as pd"
   ]
  },
  {
   "cell_type": "code",
   "execution_count": null,
   "metadata": {},
   "outputs": [],
   "source": [
    "ds_name = 'DarkChemicalMatter'"
   ]
  },
  {
   "cell_type": "code",
   "execution_count": null,
   "metadata": {},
   "outputs": [],
   "source": [
    "df = pd.read_csv('../data/dark_chemical_matter.csv')"
   ]
  },
  {
   "cell_type": "markdown",
   "metadata": {},
   "source": [
    "## Calculate Morgan Fingerprints"
   ]
  },
  {
   "cell_type": "code",
   "execution_count": null,
   "metadata": {},
   "outputs": [],
   "source": [
    "fingerprint_function = partial(rdMolDescriptors.GetMorganFingerprintAsBitVect, \n",
    "                              radius=2, useChirality=True)\n",
    "fp_name = 'morgan'"
   ]
  },
  {
   "cell_type": "code",
   "execution_count": null,
   "metadata": {},
   "outputs": [],
   "source": [
    "s = Standardizer()\n",
    "remover = SaltRemover.SaltRemover()"
   ]
  },
  {
   "cell_type": "code",
   "execution_count": null,
   "metadata": {},
   "outputs": [],
   "source": [
    "def row_to_fingerprint(row):\n",
    "    mol = MolFromSmiles(row.smiles)\n",
    "    if mol is None:\n",
    "        return np.nan  # this automatically deletes the row when using pd.apply\n",
    "    mol = s.standardize(mol)\n",
    "    mol = remover.StripMol(mol)\n",
    "    fp = fingerprint_function(mol)\n",
    "    bit_string = fp.ToBitString()\n",
    "    return np.array([int(char) for char in bit_string], dtype=np.uint8)"
   ]
  },
  {
   "cell_type": "code",
   "execution_count": null,
   "metadata": {
    "scrolled": true
   },
   "outputs": [],
   "source": [
    "tqdm.pandas()\n",
    "df[f'{fp_name}_fingerprint'] = df.progress_apply(row_to_fingerprint, axis=1)"
   ]
  },
  {
   "cell_type": "code",
   "execution_count": null,
   "metadata": {
    "scrolled": true
   },
   "outputs": [],
   "source": [
    "# some processing\n",
    "df_out = df.dropna() # remove failed molecule rows\n",
    "print('Number failed molecule conversions:', len(df)-len(df_out))\n",
    "\n",
    "# remove smiles column\n",
    "df_out = df_out.drop('smiles', axis=1)\n",
    "\n",
    "# add activity column\n",
    "df_out['activity'] = 'Inactive'\n",
    "\n",
    "df_out.head()"
   ]
  },
  {
   "cell_type": "markdown",
   "metadata": {},
   "source": [
    "## Export"
   ]
  },
  {
   "cell_type": "code",
   "execution_count": null,
   "metadata": {},
   "outputs": [],
   "source": [
    "df_out.to_pickle(f'../processed_data/{ds_name}_processed.pkl.gz')  # gzip compresses from 300MB to 10MB... wow"
   ]
  },
  {
   "cell_type": "code",
   "execution_count": null,
   "metadata": {},
   "outputs": [],
   "source": [
    "#example loading\n",
    "df_in = pd.read_pickle(f'../processed_data/{ds_name}_processed.pkl.gz')  # pandas automatically uncompresses just from filename"
   ]
  },
  {
   "cell_type": "code",
   "execution_count": null,
   "metadata": {},
   "outputs": [],
   "source": [
    "print('length:', len(df_in))\n",
    "df_in.head()"
   ]
  },
  {
   "cell_type": "code",
   "execution_count": null,
   "metadata": {},
   "outputs": [],
   "source": []
  }
 ],
 "metadata": {
  "kernelspec": {
   "display_name": "Python [conda env:tmprss2]",
   "language": "python",
   "name": "conda-env-tmprss2-py"
  },
  "language_info": {
   "codemirror_mode": {
    "name": "ipython",
    "version": 3
   },
   "file_extension": ".py",
   "mimetype": "text/x-python",
   "name": "python",
   "nbconvert_exporter": "python",
   "pygments_lexer": "ipython3",
   "version": "3.6.10"
  }
 },
 "nbformat": 4,
 "nbformat_minor": 4
}
