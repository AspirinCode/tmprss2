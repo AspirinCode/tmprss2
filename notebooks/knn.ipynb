{
 "cells": [
  {
   "cell_type": "markdown",
   "metadata": {},
   "source": [
    "# KNN\n",
    "Here we use K Nearest Neighbors algorithm to perform classification task"
   ]
  },
  {
   "cell_type": "code",
   "execution_count": 18,
   "metadata": {},
   "outputs": [],
   "source": [
    "import numpy as np\n",
    "import matplotlib.pyplot as plt\n",
    "import sys\n",
    "import pandas as pd\n",
    "\n",
    "from sklearn.metrics import mean_squared_error\n",
    "from sklearn.model_selection import train_test_split\n",
    "from rdkit import Chem, DataStructs\n",
    "from sklearn.neighbors import KNeighborsRegressor, KNeighborsClassifier\n",
    "from tqdm.notebook import tqdm"
   ]
  },
  {
   "cell_type": "markdown",
   "metadata": {},
   "source": [
    "## Load Dataset"
   ]
  },
  {
   "cell_type": "code",
   "execution_count": 19,
   "metadata": {},
   "outputs": [],
   "source": [
    "# collect dataset\n",
    "dataset = pd.read_pickle('../processed_data/combined_dataset.pkl')\n",
    "dcm = pd.read_pickle('../processed_data/DarkChemicalMatter_processed.pkl.gz')"
   ]
  },
  {
   "cell_type": "code",
   "execution_count": 20,
   "metadata": {
    "scrolled": false
   },
   "outputs": [
    {
     "data": {
      "image/png": "[encoded data removed]",
      "text/plain": [
       "<Figure size 432x288 with 1 Axes>"
      ]
     },
     "metadata": {
      "needs_background": "light"
     },
     "output_type": "display_data"
    }
   ],
   "source": [
    "# visualize dataset\n",
    "plt.figure()\n",
    "hist, bins, _ = plt.hist(dataset.acvalue_target, bins=8)\n",
    "plt.clf()\n",
    "logbins = np.logspace(np.log10(bins[0]), np.log10(bins[-1]), len(bins))\n",
    "plt.hist(dataset.acvalue_target, bins=logbins, label=f\"{len(dataset)} samples\")\n",
    "plt.xscale('log')\n",
    "plt.xlabel('Activity (log scale)')\n",
    "plt.ylabel('# molecules')\n",
    "plt.title('distribution of activity')\n",
    "plt.show()"
   ]
  },
  {
   "cell_type": "markdown",
   "metadata": {},
   "source": [
    "# KNN Initializations"
   ]
  },
  {
   "cell_type": "code",
   "execution_count": 21,
   "metadata": {},
   "outputs": [],
   "source": [
    "# define our tanimoto similarity function, to be used as distance metric in knn\n",
    "# currently, using this distance metric makes our KNN do really poorly.\n",
    "def tanimoto_similarity(fp1, fp2):\n",
    "    \"\"\"from http://infochim.u-strasbg.fr/CS3_2014/Slides/CS3_2014_Willett.pdf\"\"\"\n",
    "    c = np.sum((fp1 == fp2) & (fp1 == 1))  # bits set in common\n",
    "    a = np.sum(fp1)  # bits set in fp1\n",
    "    b = np.sum(fp2)  # bits set in fp2\n",
    "    if (a + b - c) == 0:\n",
    "        print(a, b, c)\n",
    "    return c / (a + b - c)"
   ]
  },
  {
   "cell_type": "markdown",
   "metadata": {},
   "source": [
    "# Classification"
   ]
  },
  {
   "cell_type": "markdown",
   "metadata": {},
   "source": [
    "## KNN Setup"
   ]
  },
  {
   "cell_type": "code",
   "execution_count": 22,
   "metadata": {},
   "outputs": [
    {
     "data": {
      "image/png": "[encoded data removed]",
      "text/plain": [
       "<Figure size 432x288 with 1 Axes>"
      ]
     },
     "metadata": {
      "needs_background": "light"
     },
     "output_type": "display_data"
    }
   ],
   "source": [
    "# set up features (X) and labels (y) for knn\n",
    "X = np.stack(dataset.morgan_fingerprint)\n",
    "y = dataset.activity_target.values\n",
    "h = plt.hist(y)"
   ]
  },
  {
   "cell_type": "code",
   "execution_count": 23,
   "metadata": {},
   "outputs": [
    {
     "name": "stdout",
     "output_type": "stream",
     "text": [
      "X shape:(1588, 2048), y shape: (1588,)\n"
     ]
    },
    {
     "data": {
      "image/png": "[encoded data removed]",
      "text/plain": [
       "<Figure size 432x288 with 1 Axes>"
      ]
     },
     "metadata": {
      "needs_background": "light"
     },
     "output_type": "display_data"
    }
   ],
   "source": [
    "def augment_with_dcm(X, y, num_negatives):# augment the data with dcm examples\n",
    "    dcm_X = np.stack(dcm.morgan_fingerprint)\n",
    "\n",
    "    # select subset\n",
    "    # current method: random choice.  There might be a better way.\n",
    "    dcm_X = dcm_X[np.random.choice(np.arange(len(dcm_X)), size=num_negatives, replace=False)]\n",
    "    dcm_y = np.array(['Inactive'] * len(dcm_X))\n",
    "\n",
    "    # combine\n",
    "    X = np.concatenate([X, dcm_X], axis=0)\n",
    "    y = np.concatenate([y, dcm_y])\n",
    "    return X, y\n",
    "# how many negatives should we choose?  This is up for debate.  Current strategy: balance Active/Inactive\n",
    "num_negatives = np.count_nonzero(y == 'Active') - np.count_nonzero(y == 'Inactive')\n",
    "X, y = augment_with_dcm(X, y, num_negatives)\n",
    "print(f'X shape:{X.shape}, y shape: {y.shape}')\n",
    "h = plt.hist(y)"
   ]
  },
  {
   "cell_type": "code",
   "execution_count": 24,
   "metadata": {},
   "outputs": [
    {
     "name": "stdout",
     "output_type": "stream",
     "text": [
      "train_X.shape: (1111, 2048)\n",
      "train_y.shape: (1111,)\n",
      "test_X.shape: (477, 2048)\n",
      "test_y.shape: (477,)\n"
     ]
    }
   ],
   "source": [
    "# set up data and labels for knn\n",
    "\n",
    "train_X, test_X, train_y, test_y = train_test_split(X, y, test_size=0.3, random_state=3)\n",
    "print(f\"train_X.shape: {train_X.shape}\")\n",
    "print(f\"train_y.shape: {train_y.shape}\")\n",
    "print(f\"test_X.shape: {test_X.shape}\")\n",
    "print(f\"test_y.shape: {test_y.shape}\")"
   ]
  },
  {
   "cell_type": "code",
   "execution_count": 61,
   "metadata": {},
   "outputs": [],
   "source": [
    "# define our knn function\n",
    "def run_knn_classifier(k, train_X, train_y, test_X, test_y):\n",
    "    nbrs = KNeighborsClassifier(n_neighbors=k, algorithm='auto', weights='distance')\n",
    "    nbrs.fit(train_X, train_y)\n",
    "    return nbrs.predict(test_X)"
   ]
  },
  {
   "cell_type": "markdown",
   "metadata": {},
   "source": [
    "## Optimize KNN Classifier"
   ]
  },
  {
   "cell_type": "code",
   "execution_count": 26,
   "metadata": {},
   "outputs": [],
   "source": [
    "def plot_knn_acc(k):\n",
    "    pred_k2 = run_knn_classifier(k, train_X, train_y, test_X, test_y)\n",
    "    plt.figure()\n",
    "    plt.plot(test_y=='Active', label='truth')\n",
    "    plt.plot(pred_k2=='Active', label='prediction')\n",
    "    plt.xlabel('test molecule idx')\n",
    "    plt.ylabel('')\n",
    "    plt.legend()\n",
    "    plt.title(f\"k={k}\")\n",
    "    plt.show()"
   ]
  },
  {
   "cell_type": "code",
   "execution_count": 43,
   "metadata": {},
   "outputs": [
    {
     "data": {
      "application/vnd.jupyter.widget-view+json": {
       "model_id": "c8dc0be47e1d42299514a07bcb263008",
       "version_major": 2,
       "version_minor": 0
      },
      "text/plain": [
       "HBox(children=(FloatProgress(value=0.0, max=12.0), HTML(value='')))"
      ]
     },
     "metadata": {},
     "output_type": "display_data"
    },
    {
     "name": "stdout",
     "output_type": "stream",
     "text": [
      "\n"
     ]
    },
    {
     "data": {
      "image/png": "[encoded data removed]",
      "text/plain": [
       "<Figure size 432x288 with 1 Axes>"
      ]
     },
     "metadata": {
      "needs_background": "light"
     },
     "output_type": "display_data"
    }
   ],
   "source": [
    "# show performance over various ks\n",
    "def optimize_knn(train_X, train_y, test_X, test_y, max_k):\n",
    "    accuracies = []\n",
    "    active_accuracies = []\n",
    "    inactive_accuracies = []\n",
    "    ks = np.arange(1, max_k, 2)\n",
    "    for k in tqdm(ks):\n",
    "        pred = run_knn_classifier(k, train_X, train_y, test_X, test_y)\n",
    "        accuracies.append(np.count_nonzero(pred == test_y) / len(test_y))\n",
    "        if np.count_nonzero(test_y == 'Inactive') == 0:\n",
    "            inactive_accuracies.append(1)  # all inactive classifie correctly: vacuously true\n",
    "        else:\n",
    "            inactive_accuracies.append(np.count_nonzero((pred == test_y) & (pred == 'Inactive')) / np.count_nonzero(test_y == 'Inactive'))\n",
    "        if np.count_nonzero(test_y == 'Active') == 0:\n",
    "            active_accuracies.append(1)\n",
    "        else:\n",
    "            active_accuracies.append(np.count_nonzero((pred == test_y) & (test_y == 'Active')) / np.count_nonzero(test_y == 'Active'))\n",
    "    \n",
    "    plt.figure()\n",
    "    plt.plot(ks, accuracies, label='overall')\n",
    "    plt.plot(ks, active_accuracies, label='active')\n",
    "    plt.plot(ks, inactive_accuracies, label='inactive')\n",
    "    plt.xlabel(\"k\")\n",
    "    plt.ylabel(\"accuracy\")\n",
    "    plt.title('Classification Accuracy')\n",
    "    plt.legend()\n",
    "\n",
    "    return ks, accuracies, active_accuracies, inactive_accuracies\n",
    "\n",
    "ks, accuracies, active_accuracies, inactive_accuracies = optimize_knn(train_X, train_y, test_X, test_y, max_k=25)"
   ]
  },
  {
   "cell_type": "code",
   "execution_count": 44,
   "metadata": {
    "scrolled": true
   },
   "outputs": [],
   "source": [
    "optimal_k = ks[np.argmax(accuracies)]"
   ]
  },
  {
   "cell_type": "markdown",
   "metadata": {},
   "source": [
    "# Experiment 1: train on off-targets+dcm, test on TMPRSS2"
   ]
  },
  {
   "cell_type": "code",
   "execution_count": 45,
   "metadata": {},
   "outputs": [
    {
     "data": {
      "text/plain": [
       "Text(0.5, 1.0, 'train set after dcm')"
      ]
     },
     "execution_count": 45,
     "metadata": {},
     "output_type": "execute_result"
    },
    {
     "data": {
      "image/png": "[encoded data removed]",
      "text/plain": [
       "<Figure size 432x288 with 1 Axes>"
      ]
     },
     "metadata": {
      "needs_background": "light"
     },
     "output_type": "display_data"
    },
    {
     "data": {
      "image/png": "[encoded data removed]",
      "text/plain": [
       "<Figure size 432x288 with 1 Axes>"
      ]
     },
     "metadata": {
      "needs_background": "light"
     },
     "output_type": "display_data"
    }
   ],
   "source": [
    "train = dataset[dataset.target!='TMPRSS2']\n",
    "test = dataset[dataset.target=='TMPRSS2']\n",
    "\n",
    "train_X = np.stack(train.morgan_fingerprint)\n",
    "train_y = train.activity_target.values\n",
    "test_X = np.stack(test.morgan_fingerprint)\n",
    "test_y = test.activity_target.values\n",
    "\n",
    "plt.figure()\n",
    "plt.hist(train_y)\n",
    "plt.title('train set before dcm')\n",
    "\n",
    "num_negatives = 10*np.count_nonzero(train_y == 'Active') - np.count_nonzero(train_y == 'Inactive')\n",
    "train_X_dcm, train_y_dcm = augment_with_dcm(train_X, train_y, num_negatives)\n",
    "plt.figure()\n",
    "plt.hist(train_y_dcm)\n",
    "plt.title('train set after dcm')"
   ]
  },
  {
   "cell_type": "code",
   "execution_count": 47,
   "metadata": {
    "scrolled": true
   },
   "outputs": [
    {
     "data": {
      "application/vnd.jupyter.widget-view+json": {
       "model_id": "bbb8e2086b3445ecaa499933ff65c66a",
       "version_major": 2,
       "version_minor": 0
      },
      "text/plain": [
       "HBox(children=(FloatProgress(value=0.0, max=12.0), HTML(value='')))"
      ]
     },
     "metadata": {},
     "output_type": "display_data"
    },
    {
     "name": "stdout",
     "output_type": "stream",
     "text": [
      "\n"
     ]
    },
    {
     "data": {
      "image/png": "[encoded data removed]",
      "text/plain": [
       "<Figure size 432x288 with 1 Axes>"
      ]
     },
     "metadata": {
      "needs_background": "light"
     },
     "output_type": "display_data"
    }
   ],
   "source": [
    "ks, accuracies, active_accuracies, inactive_accuracies = optimize_knn(train_X_dcm, train_y_dcm, test_X, test_y, max_k=25)"
   ]
  },
  {
   "cell_type": "markdown",
   "metadata": {},
   "source": [
    "It appears we can do perfectly, even with a large amount of DCM added.  That's really encouraging.  I'm a bit skeptical, noting that many of the compounds in TMPRSS2 set have been assayed directly against the other molecules, so there is a distance of 0 in the KNN.  So, the KNN can say \"hey, this compound was assayed against TMPRSS6 and came back Active, so let's say Active.\"  So it's unclear if it would perform as well if there wasn't such overlap.  That's another good experiment to do.\n",
    "\n",
    "The other reason this could be non-legit is because our TMPRSS2 data is ALL active, and before adding DCM, the train set is also almost all active.  The DCM added could be occupying quite a different area in fingerprint space than our train/test sets, to the point that adding it to the training set has no impact.  Ideally, we should find a way to get DCMs which are most similar to our training data, rather than randomly selecting."
   ]
  },
  {
   "cell_type": "markdown",
   "metadata": {},
   "source": [
    "# Experiment 2: train on off-targets, test on TMPRSS2+dcm"
   ]
  },
  {
   "cell_type": "code",
   "execution_count": 48,
   "metadata": {},
   "outputs": [
    {
     "data": {
      "text/plain": [
       "Text(0.5, 1.0, 'test set after dcm')"
      ]
     },
     "execution_count": 48,
     "metadata": {},
     "output_type": "execute_result"
    },
    {
     "data": {
      "image/png": "[encoded data removed]",
      "text/plain": [
       "<Figure size 432x288 with 1 Axes>"
      ]
     },
     "metadata": {
      "needs_background": "light"
     },
     "output_type": "display_data"
    },
    {
     "data": {
      "image/png": "[encoded data removed]",
      "text/plain": [
       "<Figure size 432x288 with 1 Axes>"
      ]
     },
     "metadata": {
      "needs_background": "light"
     },
     "output_type": "display_data"
    }
   ],
   "source": [
    "plt.figure()\n",
    "plt.hist(test_y)\n",
    "plt.title('test set before dcm')\n",
    "\n",
    "num_negatives = 10*np.count_nonzero(test_y == 'Active') - np.count_nonzero(test_y == 'Inactive')\n",
    "test_X_dcm, test_y_dcm = augment_with_dcm(test_X, test_y, num_negatives)\n",
    "plt.figure()\n",
    "plt.hist(test_y_dcm)\n",
    "plt.title('test set after dcm')"
   ]
  },
  {
   "cell_type": "code",
   "execution_count": 50,
   "metadata": {
    "scrolled": true
   },
   "outputs": [
    {
     "data": {
      "application/vnd.jupyter.widget-view+json": {
       "model_id": "b06941bf341a4cb2b82d6edb3012feb9",
       "version_major": 2,
       "version_minor": 0
      },
      "text/plain": [
       "HBox(children=(FloatProgress(value=0.0, max=12.0), HTML(value='')))"
      ]
     },
     "metadata": {},
     "output_type": "display_data"
    },
    {
     "name": "stdout",
     "output_type": "stream",
     "text": [
      "\n"
     ]
    },
    {
     "data": {
      "image/png": "[encoded data removed]",
      "text/plain": [
       "<Figure size 432x288 with 1 Axes>"
      ]
     },
     "metadata": {
      "needs_background": "light"
     },
     "output_type": "display_data"
    }
   ],
   "source": [
    "ks, accuracies, active_accuracies, inactive_accuracies = optimize_knn(train_X, train_y, test_X_dcm, test_y_dcm, max_k=25)"
   ]
  },
  {
   "cell_type": "markdown",
   "metadata": {},
   "source": [
    "Unsurprisingly, when our train set is mainly active, we are very bad at predicting inactive molecules."
   ]
  },
  {
   "cell_type": "markdown",
   "metadata": {},
   "source": [
    "# Experiment 3: train on off-targets+dcm (1 active: 1 inactive), test on TMPRSS2+dcm (1 active: 10 inactive)"
   ]
  },
  {
   "cell_type": "code",
   "execution_count": 66,
   "metadata": {},
   "outputs": [
    {
     "data": {
      "image/png": "[encoded data removed]",
      "text/plain": [
       "<Figure size 432x288 with 1 Axes>"
      ]
     },
     "metadata": {
      "needs_background": "light"
     },
     "output_type": "display_data"
    },
    {
     "data": {
      "image/png": "[encoded data removed]",
      "text/plain": [
       "<Figure size 432x288 with 1 Axes>"
      ]
     },
     "metadata": {
      "needs_background": "light"
     },
     "output_type": "display_data"
    }
   ],
   "source": [
    "num_negatives = 1*np.count_nonzero(train_y == 'Active') - np.count_nonzero(train_y == 'Inactive')\n",
    "train_X_dcm, train_y_dcm = augment_with_dcm(train_X, train_y, num_negatives)\n",
    "\n",
    "plt.figure()\n",
    "plt.hist(train_y_dcm)\n",
    "plt.ylabel('# compounds')\n",
    "plt.title('Train: off-targets + random negatives (DCM)')\n",
    "\n",
    "num_negatives = 10*np.count_nonzero(test_y == 'Active') - np.count_nonzero(test_y == 'Inactive')\n",
    "test_X_dcm, test_y_dcm = augment_with_dcm(test_X, test_y, num_negatives)\n",
    "plt.figure()\n",
    "plt.hist(test_y_dcm)\n",
    "plt.ylabel('# compounds')\n",
    "plt.title('Test: TMPRSS2 + random negatives (DCM)')\n",
    "plt.show()"
   ]
  },
  {
   "cell_type": "raw",
   "metadata": {
    "scrolled": true
   },
   "source": [
    "ks, accuracies, active_accuracies, inactive_accuracies = optimize_knn(train_X_dcm, train_y_dcm, test_X_dcm, test_y_dcm, max_k=25)"
   ]
  },
  {
   "cell_type": "markdown",
   "metadata": {},
   "source": [
    "It appears we are able to separate the needles from the haystack!"
   ]
  },
  {
   "cell_type": "code",
   "execution_count": null,
   "metadata": {},
   "outputs": [],
   "source": []
  }
 ],
 "metadata": {
  "kernelspec": {
   "display_name": "Python 3",
   "language": "python",
   "name": "python3"
  },
  "language_info": {
   "codemirror_mode": {
    "name": "ipython",
    "version": 3
   },
   "file_extension": ".py",
   "mimetype": "text/x-python",
   "name": "python",
   "nbconvert_exporter": "python",
   "pygments_lexer": "ipython3",
   "version": "3.6.10"
  }
 },
 "nbformat": 4,
 "nbformat_minor": 4
}
