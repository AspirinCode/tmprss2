{
 "cells": [
  {
   "cell_type": "code",
   "execution_count": null,
   "metadata": {},
   "outputs": [],
   "source": [
    "import pandas as pd\n",
    "import umap\n",
    "from sklearn.preprocessing import StandardScaler\n",
    "import matplotlib.pyplot as plt\n",
    "from sklearn.manifold import TSNE\n",
    "import seaborn as sns\n",
    "sns.set()"
   ]
  },
  {
   "cell_type": "code",
   "execution_count": null,
   "metadata": {},
   "outputs": [],
   "source": [
    "combined_df = pd.read_pickle('../processed_data/combined_dataset.pkl')\n",
    "dark_matter_df = pd.read_pickle(f'../processed_data/DarkChemicalMatter_processed.pkl.gz')\n",
    "dark_matter_df['target'] = 'DarkChemicalMatter'"
   ]
  },
  {
   "cell_type": "code",
   "execution_count": null,
   "metadata": {},
   "outputs": [],
   "source": [
    "# df = pd.concat([dark_matter_df.sample(n=combined_df.size), combined_df]).reset_index(drop=True)\n",
    "df = combined_df"
   ]
  },
  {
   "cell_type": "code",
   "execution_count": null,
   "metadata": {},
   "outputs": [],
   "source": [
    "datasets = df.target.unique()\n",
    "datasets_to_ix = {ds: i for i, ds in enumerate(datasets)}"
   ]
  },
  {
   "cell_type": "code",
   "execution_count": null,
   "metadata": {},
   "outputs": [],
   "source": [
    "fps = df.morgan_fingerprint"
   ]
  },
  {
   "cell_type": "code",
   "execution_count": null,
   "metadata": {},
   "outputs": [],
   "source": [
    "scaler = StandardScaler()"
   ]
  },
  {
   "cell_type": "code",
   "execution_count": null,
   "metadata": {},
   "outputs": [],
   "source": [
    "fps = df.morgan_fingerprint.apply(pd.Series)"
   ]
  },
  {
   "cell_type": "code",
   "execution_count": null,
   "metadata": {},
   "outputs": [],
   "source": [
    "scaler = StandardScaler()\n",
    "fps_rescaled = scaler.fit_transform(fps)"
   ]
  },
  {
   "cell_type": "code",
   "execution_count": null,
   "metadata": {},
   "outputs": [],
   "source": [
    "umap_reducer = umap.UMAP()\n",
    "umap_reducer = umap_reducer.fit(fps_rescaled)"
   ]
  },
  {
   "cell_type": "code",
   "execution_count": null,
   "metadata": {},
   "outputs": [],
   "source": [
    "tsne_reducer = TSNE()\n",
    "tsne_embeddings = tsne_reducer.fit_transform(fps_rescaled)"
   ]
  },
  {
   "cell_type": "code",
   "execution_count": null,
   "metadata": {},
   "outputs": [],
   "source": [
    "datasets"
   ]
  },
  {
   "cell_type": "code",
   "execution_count": null,
   "metadata": {},
   "outputs": [],
   "source": [
    "fig, axes = plt.subplots(nrows=1, ncols=2, figsize=(16, 8))\n",
    "for i, row in df.iterrows():\n",
    "    \n",
    "    embedding = tsne_embeddings[i]\n",
    "    axes[0].scatter(\n",
    "        embedding[0],\n",
    "        embedding[1],\n",
    "#         s=12 - i * 2,\n",
    "        s = 12,\n",
    "        c=[sns.color_palette()[datasets_to_ix[row.target]]],)\n",
    "axes[0].set_title('TSNE', fontsize=14)\n",
    "for i, ds in enumerate(datasets):\n",
    "    embedding = umap_reducer.transform(scaler.transform(df[df.target==ds].morgan_fingerprint.apply(pd.Series)))\n",
    "    axes[1].scatter(\n",
    "        embedding[:, 0],\n",
    "        embedding[:, 1],\n",
    "        s=12 - i * 2,\n",
    "        label=ds,\n",
    "        c=[sns.color_palette()[i]])\n",
    "_=plt.legend()\n",
    "# plt.gca().set_aspect('equal', 'datalim')\n",
    "\n",
    "axes[1].set_title('UMAP', fontsize=14)"
   ]
  }
 ],
 "metadata": {
  "kernelspec": {
   "display_name": "Python [conda env:tmprss2]",
   "language": "python",
   "name": "conda-env-tmprss2-py"
  },
  "language_info": {
   "codemirror_mode": {
    "name": "ipython",
    "version": 3
   },
   "file_extension": ".py",
   "mimetype": "text/x-python",
   "name": "python",
   "nbconvert_exporter": "python",
   "pygments_lexer": "ipython3",
   "version": "3.6.10"
  }
 },
 "nbformat": 4,
 "nbformat_minor": 4
}
