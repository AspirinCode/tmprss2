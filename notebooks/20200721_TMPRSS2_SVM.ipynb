{
 "cells": [
  {
   "cell_type": "code",
   "execution_count": 1,
   "metadata": {},
   "outputs": [],
   "source": [
    "from sklearn.metrics import mean_squared_error\n",
    "from sklearn.model_selection import train_test_split\n",
    "import random\n",
    "\n",
    "# from data.data_accessors import tmprss2_to_pandas\n",
    "import numpy as np\n",
    "from rdkit import Chem, DataStructs\n",
    "import matplotlib.pyplot as plt\n",
    "import pandas as pd\n",
    "import scipy.stats\n",
    "\n",
    "from sklearn.svm import LinearSVC\n",
    "from sklearn.svm import LinearSVR\n",
    "from sklearn.pipeline import make_pipeline\n",
    "from sklearn.preprocessing import StandardScaler\n",
    "from sklearn.metrics import mean_squared_error\n",
    "from sklearn.model_selection import GridSearchCV, cross_val_score\n",
    "\n",
    "import pickle\n",
    "\n",
    "random.seed(2)\n",
    "\n",
    "os.chdir('/Users/JacobUmans/tmprss2/notebooks')"
   ]
  },
  {
   "cell_type": "code",
   "execution_count": 2,
   "metadata": {},
   "outputs": [],
   "source": [
    "# collect dataset\n",
    "assays = pd.read_pickle('../processed_data/combined_dataset.pkl')\n",
    "assays = assays[assays.activity_target.isin(['Active', 'Inactive'])]  # get rid of any 'Inconclusive'\n",
    "\n",
    "dcm = pd.read_pickle('../processed_data/DarkChemicalMatter_processed.pkl.gz')\n",
    "\n",
    "# testing data:\n",
    "screening_data = pd.read_pickle('../processed_data/screening_data_processed.pkl')"
   ]
  },
  {
   "cell_type": "code",
   "execution_count": 3,
   "metadata": {},
   "outputs": [
    {
     "output_type": "execute_result",
     "data": {
      "text/plain": "         source            name  \\\n0      drugbank     Bivalirudin   \n1      drugbank      Leuprolide   \n2      drugbank       Goserelin   \n3      drugbank    Gramicidin D   \n4      drugbank    Desmopressin   \n...         ...             ...   \n21019     broad        zotepine   \n21020     broad    zoxazolamine   \n21021     broad    zoxazolamine   \n21022     broad        ZSTK-474   \n21023     broad  zuclopenthixol   \n\n                                      morgan_fingerprint  \n0      [0, 1, 0, 0, 0, 0, 0, 0, 0, 0, 0, 0, 0, 0, 0, ...  \n1      [0, 1, 0, 0, 0, 0, 0, 0, 0, 0, 0, 0, 0, 0, 0, ...  \n2      [0, 1, 0, 0, 0, 0, 0, 0, 0, 0, 0, 0, 0, 0, 0, ...  \n3      [0, 1, 0, 0, 0, 0, 0, 0, 0, 0, 0, 0, 0, 0, 0, ...  \n4      [0, 1, 0, 0, 0, 0, 0, 0, 0, 0, 0, 0, 0, 0, 0, ...  \n...                                                  ...  \n21019  [0, 0, 0, 0, 0, 0, 0, 0, 0, 0, 0, 0, 0, 1, 0, ...  \n21020  [0, 0, 0, 0, 0, 0, 0, 0, 0, 0, 0, 0, 0, 0, 0, ...  \n21021  [0, 0, 0, 0, 0, 0, 0, 0, 0, 0, 0, 0, 0, 0, 0, ...  \n21022  [0, 1, 0, 0, 0, 0, 0, 0, 0, 0, 0, 0, 0, 0, 0, ...  \n21023  [0, 0, 0, 0, 0, 0, 0, 0, 0, 0, 0, 0, 0, 0, 0, ...  \n\n[21011 rows x 3 columns]",
      "text/html": "<div>\n<style scoped>\n    .dataframe tbody tr th:only-of-type {\n        vertical-align: middle;\n    }\n\n    .dataframe tbody tr th {\n        vertical-align: top;\n    }\n\n    .dataframe thead th {\n        text-align: right;\n    }\n</style>\n<table border=\"1\" class=\"dataframe\">\n  <thead>\n    <tr style=\"text-align: right;\">\n      <th></th>\n      <th>source</th>\n      <th>name</th>\n      <th>morgan_fingerprint</th>\n    </tr>\n  </thead>\n  <tbody>\n    <tr>\n      <td>0</td>\n      <td>drugbank</td>\n      <td>Bivalirudin</td>\n      <td>[0, 1, 0, 0, 0, 0, 0, 0, 0, 0, 0, 0, 0, 0, 0, ...</td>\n    </tr>\n    <tr>\n      <td>1</td>\n      <td>drugbank</td>\n      <td>Leuprolide</td>\n      <td>[0, 1, 0, 0, 0, 0, 0, 0, 0, 0, 0, 0, 0, 0, 0, ...</td>\n    </tr>\n    <tr>\n      <td>2</td>\n      <td>drugbank</td>\n      <td>Goserelin</td>\n      <td>[0, 1, 0, 0, 0, 0, 0, 0, 0, 0, 0, 0, 0, 0, 0, ...</td>\n    </tr>\n    <tr>\n      <td>3</td>\n      <td>drugbank</td>\n      <td>Gramicidin D</td>\n      <td>[0, 1, 0, 0, 0, 0, 0, 0, 0, 0, 0, 0, 0, 0, 0, ...</td>\n    </tr>\n    <tr>\n      <td>4</td>\n      <td>drugbank</td>\n      <td>Desmopressin</td>\n      <td>[0, 1, 0, 0, 0, 0, 0, 0, 0, 0, 0, 0, 0, 0, 0, ...</td>\n    </tr>\n    <tr>\n      <td>...</td>\n      <td>...</td>\n      <td>...</td>\n      <td>...</td>\n    </tr>\n    <tr>\n      <td>21019</td>\n      <td>broad</td>\n      <td>zotepine</td>\n      <td>[0, 0, 0, 0, 0, 0, 0, 0, 0, 0, 0, 0, 0, 1, 0, ...</td>\n    </tr>\n    <tr>\n      <td>21020</td>\n      <td>broad</td>\n      <td>zoxazolamine</td>\n      <td>[0, 0, 0, 0, 0, 0, 0, 0, 0, 0, 0, 0, 0, 0, 0, ...</td>\n    </tr>\n    <tr>\n      <td>21021</td>\n      <td>broad</td>\n      <td>zoxazolamine</td>\n      <td>[0, 0, 0, 0, 0, 0, 0, 0, 0, 0, 0, 0, 0, 0, 0, ...</td>\n    </tr>\n    <tr>\n      <td>21022</td>\n      <td>broad</td>\n      <td>ZSTK-474</td>\n      <td>[0, 1, 0, 0, 0, 0, 0, 0, 0, 0, 0, 0, 0, 0, 0, ...</td>\n    </tr>\n    <tr>\n      <td>21023</td>\n      <td>broad</td>\n      <td>zuclopenthixol</td>\n      <td>[0, 0, 0, 0, 0, 0, 0, 0, 0, 0, 0, 0, 0, 0, 0, ...</td>\n    </tr>\n  </tbody>\n</table>\n<p>21011 rows × 3 columns</p>\n</div>"
     },
     "metadata": {},
     "execution_count": 3
    }
   ],
   "source": [
    "screening_data"
   ]
  },
  {
   "cell_type": "code",
   "execution_count": 4,
   "metadata": {},
   "outputs": [],
   "source": [
    "X_assays = np.stack(assays.morgan_fingerprint)\n",
    "y_assays = np.ones(len(X_assays))\n",
    "\n",
    "X_dcm = np.stack(dcm.morgan_fingerprint)\n",
    "y_dcm = np.zeros(len(X_dcm))\n",
    "\n",
    "X_combined = np.append(X_assays, X_dcm, axis = 0)\n",
    "y_combined = np.append(y_assays, y_dcm)\n",
    "\n",
    "X_train, X_test, y_train, y_test = train_test_split(X_combined, y_combined, test_size=0.2)"
   ]
  },
  {
   "cell_type": "code",
   "execution_count": 5,
   "metadata": {},
   "outputs": [],
   "source": [
    "# Use SKLearn GridSearch CV function to identify optimal C parameter for SVM regression (training set)\n",
    "Cs = np.logspace(-6, 2, 16)\n",
    "clf = GridSearchCV(estimator=LinearSVC(random_state=0, tol=1e-5), param_grid=dict(C=Cs), n_jobs=-1)\n",
    "clf.fit(X_train, y_train) \n",
    "c_param_SVC_train = clf.best_estimator_.C"
   ]
  },
  {
   "cell_type": "code",
   "execution_count": 6,
   "metadata": {},
   "outputs": [
    {
     "output_type": "execute_result",
     "data": {
      "text/plain": "2.5118864315095824"
     },
     "metadata": {},
     "execution_count": 6
    }
   ],
   "source": [
    "c_param_SVC_train"
   ]
  },
  {
   "cell_type": "code",
   "execution_count": 7,
   "metadata": {},
   "outputs": [
    {
     "output_type": "execute_result",
     "data": {
      "text/plain": "0.9995721467536635"
     },
     "metadata": {},
     "execution_count": 7
    }
   ],
   "source": [
    "SVM_validation = make_pipeline(StandardScaler(), LinearSVC(random_state=0, tol=1e-5, C=c_param_SVC_train))\n",
    "SVM_validation.fit(X_train, y_train)\n",
    "\n",
    "pred = SVM_validation.predict(X_test)\n",
    "accuracy = np.sum(pred == y_test)/y_test.size\n",
    "accuracy"
   ]
  },
  {
   "cell_type": "code",
   "execution_count": 8,
   "metadata": {},
   "outputs": [
    {
     "output_type": "execute_result",
     "data": {
      "text/plain": "0.023529411764705882"
     },
     "metadata": {},
     "execution_count": 8
    }
   ],
   "source": [
    "i = 0\n",
    "false_positive = 0\n",
    "total_positive = 0\n",
    "false_negative = 0\n",
    "total_negative = 0\n",
    "while(i < len(pred)):\n",
    "    if(y_test[i] == 0):\n",
    "        total_negative += 1\n",
    "        if(pred[i] == 1):\n",
    "            false_positive += 1\n",
    "    elif(y_test[i] == 1):\n",
    "        total_positive += 1\n",
    "        if(pred[i] == 0):\n",
    "            false_negative += 1 \n",
    "    i = i + 1\n",
    "\n",
    "false_positive/total_positive"
   ]
  },
  {
   "cell_type": "code",
   "execution_count": 9,
   "metadata": {},
   "outputs": [
    {
     "output_type": "execute_result",
     "data": {
      "text/plain": "0.00028697492556587867"
     },
     "metadata": {},
     "execution_count": 9
    }
   ],
   "source": [
    "false_negative/total_negative"
   ]
  },
  {
   "cell_type": "code",
   "execution_count": 10,
   "metadata": {},
   "outputs": [],
   "source": [
    "Cs = np.logspace(-6, 2, 16)\n",
    "clf = GridSearchCV(estimator=LinearSVC(random_state=0, tol=1e-5), param_grid=dict(C=Cs), n_jobs=-1)\n",
    "clf.fit(X_combined, y_combined) \n",
    "c_param_SVC_test = clf.best_estimator_.C"
   ]
  },
  {
   "cell_type": "code",
   "execution_count": 11,
   "metadata": {},
   "outputs": [
    {
     "output_type": "execute_result",
     "data": {
      "text/plain": "100.0"
     },
     "metadata": {},
     "execution_count": 11
    }
   ],
   "source": [
    "c_param_SVC_test\n"
   ]
  },
  {
   "cell_type": "code",
   "execution_count": 12,
   "metadata": {},
   "outputs": [],
   "source": [
    "SVM_testing = make_pipeline(StandardScaler(), LinearSVC(random_state=0, tol=1e-5, C=c_param_SVC_test))\n",
    "SVM_testing.fit(X_combined, y_combined)\n",
    "\n",
    "screening_compounds = np.stack(screening_data.morgan_fingerprint)\n",
    "\n",
    "pred = SVM_testing.predict(screening_compounds)\n",
    "screening_data['predictions'] = pred\n",
    "inactiveCompounds = screening_data[(screening_data['predictions'] == 0)].index\n",
    "active_screening_compounds = screening_data.drop(inactiveCompounds)"
   ]
  },
  {
   "cell_type": "code",
   "execution_count": 13,
   "metadata": {},
   "outputs": [
    {
     "output_type": "execute_result",
     "data": {
      "text/plain": "503"
     },
     "metadata": {},
     "execution_count": 13
    }
   ],
   "source": [
    "len(active_screening_compounds)"
   ]
  },
  {
   "cell_type": "code",
   "execution_count": 14,
   "metadata": {
    "tags": []
   },
   "outputs": [],
   "source": [
    "#split training and testing data for each dataset, fill nan with acvalue_target\n",
    "#y_assays_logKi = np.log10(assays.acvalue_scaled_to_tmprss2.fillna(assays.acvalue_target))\n",
    "\n",
    "#train_X, test_X, train_y, test_y = train_test_split(X_assays, y_assays_logKi, test_size=0.2)"
   ]
  },
  {
   "cell_type": "code",
   "execution_count": 15,
   "metadata": {},
   "outputs": [],
   "source": [
    "y_assays_logKi_raw = np.log10(assays.acvalue_scaled_to_tmprss2)\n",
    "nan_array = np.isnan(y_assays_logKi_raw)\n",
    "not_nan = ~nan_array\n",
    "y_assays_logKi = y_assays_logKi_raw[not_nan]\n",
    "X_assays = X_assays[not_nan]\n",
    "\n",
    "train_X, test_X, train_y, test_y = train_test_split(X_assays, y_assays_logKi, test_size=0.2)"
   ]
  },
  {
   "cell_type": "code",
   "execution_count": 16,
   "metadata": {
    "tags": []
   },
   "outputs": [
    {
     "output_type": "stream",
     "name": "stderr",
     "text": "/Users/JacobUmans/opt/miniconda3/lib/python3.7/site-packages/sklearn/model_selection/_search.py:814: DeprecationWarning: The default of the `iid` parameter will change from True to False in version 0.22 and will be removed in 0.24. This will change numeric results when test-set sizes are unequal.\n  DeprecationWarning)\n"
    }
   ],
   "source": [
    "# Use SKLearn GridSearch CV function to identify optimal C parameter for SVM regression (training set)\n",
    "Cs = np.logspace(-6, 2, 16)\n",
    "clf = GridSearchCV(estimator=LinearSVR(random_state=0, tol=1e-5), param_grid=dict(C=Cs), n_jobs=-1)\n",
    "clf.fit(train_X, train_y) \n",
    "c_param_SVR_test = clf.best_estimator_.C\n"
   ]
  },
  {
   "cell_type": "code",
   "execution_count": 17,
   "metadata": {},
   "outputs": [
    {
     "output_type": "execute_result",
     "data": {
      "text/plain": "0.018478497974222907"
     },
     "metadata": {},
     "execution_count": 17
    }
   ],
   "source": [
    "c_param_SVR_test"
   ]
  },
  {
   "cell_type": "code",
   "execution_count": 18,
   "metadata": {
    "tags": []
   },
   "outputs": [
    {
     "output_type": "stream",
     "name": "stdout",
     "text": "SVR RMSE:0.8363086412743431\n(0.7346901755074102, 1.213966563233651e-15)\n"
    },
    {
     "output_type": "display_data",
     "data": {
      "text/plain": "<Figure size 432x288 with 1 Axes>",
      "image/svg+xml": "<?xml version=\"1.0\" encoding=\"utf-8\" standalone=\"no\"?>\n<!DOCTYPE svg PUBLIC \"-//W3C//DTD SVG 1.1//EN\"\n  \"http://www.w3.org/Graphics/SVG/1.1/DTD/svg11.dtd\">\n<!-- Created with matplotlib (https://matplotlib.org/) -->\n<svg height=\"277.314375pt\" version=\"1.1\" viewBox=\"0 0 386.054204 277.314375\" width=\"386.054204pt\" xmlns=\"http://www.w3.org/2000/svg\" xmlns:xlink=\"http://www.w3.org/1999/xlink\">\n <defs>\n  <style type=\"text/css\">\n*{stroke-linecap:butt;stroke-linejoin:round;}\n  </style>\n </defs>\n <g id=\"figure_1\">\n  <g id=\"patch_1\">\n   <path d=\"M 0 277.314375 \nL 386.054204 277.314375 \nL 386.054204 0 \nL 0 0 \nz\n\" style=\"fill:none;\"/>\n  </g>\n  <g id=\"axes_1\">\n   <g id=\"patch_2\">\n    <path d=\"M 42.620313 239.758125 \nL 377.420313 239.758125 \nL 377.420313 22.318125 \nL 42.620313 22.318125 \nz\n\" style=\"fill:#ffffff;\"/>\n   </g>\n   <g id=\"PathCollection_1\">\n    <defs>\n     <path d=\"M 0 3 \nC 0.795609 3 1.55874 2.683901 2.12132 2.12132 \nC 2.683901 1.55874 3 0.795609 3 0 \nC 3 -0.795609 2.683901 -1.55874 2.12132 -2.12132 \nC 1.55874 -2.683901 0.795609 -3 0 -3 \nC -0.795609 -3 -1.55874 -2.683901 -2.12132 -2.12132 \nC -2.683901 -1.55874 -3 -0.795609 -3 0 \nC -3 0.795609 -2.683901 1.55874 -2.12132 2.12132 \nC -1.55874 2.683901 -0.795609 3 0 3 \nz\n\" id=\"m8235419885\" style=\"stroke:#1f77b4;\"/>\n    </defs>\n    <g clip-path=\"url(#p3347c4b1ed)\">\n     <use style=\"fill:#1f77b4;stroke:#1f77b4;\" x=\"291.013606\" xlink:href=\"#m8235419885\" y=\"95.16623\"/>\n     <use style=\"fill:#1f77b4;stroke:#1f77b4;\" x=\"312.003215\" xlink:href=\"#m8235419885\" y=\"150.613471\"/>\n     <use style=\"fill:#1f77b4;stroke:#1f77b4;\" x=\"239.512471\" xlink:href=\"#m8235419885\" y=\"71.148041\"/>\n     <use style=\"fill:#1f77b4;stroke:#1f77b4;\" x=\"216.092993\" xlink:href=\"#m8235419885\" y=\"150.679194\"/>\n     <use style=\"fill:#1f77b4;stroke:#1f77b4;\" x=\"262.271295\" xlink:href=\"#m8235419885\" y=\"126.363\"/>\n     <use style=\"fill:#1f77b4;stroke:#1f77b4;\" x=\"193.542009\" xlink:href=\"#m8235419885\" y=\"109.039555\"/>\n     <use style=\"fill:#1f77b4;stroke:#1f77b4;\" x=\"184.364723\" xlink:href=\"#m8235419885\" y=\"147.624534\"/>\n     <use style=\"fill:#1f77b4;stroke:#1f77b4;\" x=\"235.020607\" xlink:href=\"#m8235419885\" y=\"126.624014\"/>\n     <use style=\"fill:#1f77b4;stroke:#1f77b4;\" x=\"195.612033\" xlink:href=\"#m8235419885\" y=\"115.112761\"/>\n     <use style=\"fill:#1f77b4;stroke:#1f77b4;\" x=\"313.463978\" xlink:href=\"#m8235419885\" y=\"122.78651\"/>\n     <use style=\"fill:#1f77b4;stroke:#1f77b4;\" x=\"216.000411\" xlink:href=\"#m8235419885\" y=\"116.949897\"/>\n     <use style=\"fill:#1f77b4;stroke:#1f77b4;\" x=\"183.757965\" xlink:href=\"#m8235419885\" y=\"146.736596\"/>\n     <use style=\"fill:#1f77b4;stroke:#1f77b4;\" x=\"287.128333\" xlink:href=\"#m8235419885\" y=\"75.9156\"/>\n     <use style=\"fill:#1f77b4;stroke:#1f77b4;\" x=\"151.51769\" xlink:href=\"#m8235419885\" y=\"140.561893\"/>\n     <use style=\"fill:#1f77b4;stroke:#1f77b4;\" x=\"158.486212\" xlink:href=\"#m8235419885\" y=\"140.561893\"/>\n     <use style=\"fill:#1f77b4;stroke:#1f77b4;\" x=\"154.09169\" xlink:href=\"#m8235419885\" y=\"168.738041\"/>\n     <use style=\"fill:#1f77b4;stroke:#1f77b4;\" x=\"282.08663\" xlink:href=\"#m8235419885\" y=\"32.697408\"/>\n     <use style=\"fill:#1f77b4;stroke:#1f77b4;\" x=\"161.00369\" xlink:href=\"#m8235419885\" y=\"161.275392\"/>\n     <use style=\"fill:#1f77b4;stroke:#1f77b4;\" x=\"209.489023\" xlink:href=\"#m8235419885\" y=\"122.021566\"/>\n     <use style=\"fill:#1f77b4;stroke:#1f77b4;\" x=\"179.665019\" xlink:href=\"#m8235419885\" y=\"106.519902\"/>\n     <use style=\"fill:#1f77b4;stroke:#1f77b4;\" x=\"205.104022\" xlink:href=\"#m8235419885\" y=\"75.104518\"/>\n     <use style=\"fill:#1f77b4;stroke:#1f77b4;\" x=\"181.734067\" xlink:href=\"#m8235419885\" y=\"123.542835\"/>\n     <use style=\"fill:#1f77b4;stroke:#1f77b4;\" x=\"361.735136\" xlink:href=\"#m8235419885\" y=\"129.189533\"/>\n     <use style=\"fill:#1f77b4;stroke:#1f77b4;\" x=\"235.790327\" xlink:href=\"#m8235419885\" y=\"98.725444\"/>\n     <use style=\"fill:#1f77b4;stroke:#1f77b4;\" x=\"200.74096\" xlink:href=\"#m8235419885\" y=\"190.321375\"/>\n     <use style=\"fill:#1f77b4;stroke:#1f77b4;\" x=\"259.877646\" xlink:href=\"#m8235419885\" y=\"45.420555\"/>\n     <use style=\"fill:#1f77b4;stroke:#1f77b4;\" x=\"232.626959\" xlink:href=\"#m8235419885\" y=\"89.81572\"/>\n     <use style=\"fill:#1f77b4;stroke:#1f77b4;\" x=\"202.081676\" xlink:href=\"#m8235419885\" y=\"111.02897\"/>\n     <use style=\"fill:#1f77b4;stroke:#1f77b4;\" x=\"241.531995\" xlink:href=\"#m8235419885\" y=\"129.10501\"/>\n     <use style=\"fill:#1f77b4;stroke:#1f77b4;\" x=\"252.848842\" xlink:href=\"#m8235419885\" y=\"102.945731\"/>\n     <use style=\"fill:#1f77b4;stroke:#1f77b4;\" x=\"179.665019\" xlink:href=\"#m8235419885\" y=\"144.282896\"/>\n     <use style=\"fill:#1f77b4;stroke:#1f77b4;\" x=\"195.612033\" xlink:href=\"#m8235419885\" y=\"128.635707\"/>\n     <use style=\"fill:#1f77b4;stroke:#1f77b4;\" x=\"219.548227\" xlink:href=\"#m8235419885\" y=\"65.801036\"/>\n     <use style=\"fill:#1f77b4;stroke:#1f77b4;\" x=\"58.305489\" xlink:href=\"#m8235419885\" y=\"208.856918\"/>\n     <use style=\"fill:#1f77b4;stroke:#1f77b4;\" x=\"310.374298\" xlink:href=\"#m8235419885\" y=\"44.614026\"/>\n     <use style=\"fill:#1f77b4;stroke:#1f77b4;\" x=\"263.159015\" xlink:href=\"#m8235419885\" y=\"86.994955\"/>\n     <use style=\"fill:#1f77b4;stroke:#1f77b4;\" x=\"252.170045\" xlink:href=\"#m8235419885\" y=\"126.030858\"/>\n     <use style=\"fill:#1f77b4;stroke:#1f77b4;\" x=\"211.042368\" xlink:href=\"#m8235419885\" y=\"116.949897\"/>\n     <use style=\"fill:#1f77b4;stroke:#1f77b4;\" x=\"212.311895\" xlink:href=\"#m8235419885\" y=\"135.721182\"/>\n     <use style=\"fill:#1f77b4;stroke:#1f77b4;\" x=\"163.976345\" xlink:href=\"#m8235419885\" y=\"147.226151\"/>\n     <use style=\"fill:#1f77b4;stroke:#1f77b4;\" x=\"205.104022\" xlink:href=\"#m8235419885\" y=\"101.005146\"/>\n     <use style=\"fill:#1f77b4;stroke:#1f77b4;\" x=\"301.656037\" xlink:href=\"#m8235419885\" y=\"35.07838\"/>\n     <use style=\"fill:#1f77b4;stroke:#1f77b4;\" x=\"223.708696\" xlink:href=\"#m8235419885\" y=\"136.356185\"/>\n     <use style=\"fill:#1f77b4;stroke:#1f77b4;\" x=\"169.363612\" xlink:href=\"#m8235419885\" y=\"140.410473\"/>\n     <use style=\"fill:#1f77b4;stroke:#1f77b4;\" x=\"287.287647\" xlink:href=\"#m8235419885\" y=\"62.890901\"/>\n     <use style=\"fill:#1f77b4;stroke:#1f77b4;\" x=\"250.300759\" xlink:href=\"#m8235419885\" y=\"109.048387\"/>\n     <use style=\"fill:#1f77b4;stroke:#1f77b4;\" x=\"264.271568\" xlink:href=\"#m8235419885\" y=\"83.899575\"/>\n     <use style=\"fill:#1f77b4;stroke:#1f77b4;\" x=\"339.244981\" xlink:href=\"#m8235419885\" y=\"71.704278\"/>\n     <use style=\"fill:#1f77b4;stroke:#1f77b4;\" x=\"64.442754\" xlink:href=\"#m8235419885\" y=\"208.533404\"/>\n     <use style=\"fill:#1f77b4;stroke:#1f77b4;\" x=\"301.656037\" xlink:href=\"#m8235419885\" y=\"60.44737\"/>\n     <use style=\"fill:#1f77b4;stroke:#1f77b4;\" x=\"224.919357\" xlink:href=\"#m8235419885\" y=\"98.219804\"/>\n     <use style=\"fill:#1f77b4;stroke:#1f77b4;\" x=\"179.665019\" xlink:href=\"#m8235419885\" y=\"146.558706\"/>\n     <use style=\"fill:#1f77b4;stroke:#1f77b4;\" x=\"291.884064\" xlink:href=\"#m8235419885\" y=\"101.762748\"/>\n     <use style=\"fill:#1f77b4;stroke:#1f77b4;\" x=\"226.731042\" xlink:href=\"#m8235419885\" y=\"85.468898\"/>\n     <use style=\"fill:#1f77b4;stroke:#1f77b4;\" x=\"180.510311\" xlink:href=\"#m8235419885\" y=\"114.411928\"/>\n     <use style=\"fill:#1f77b4;stroke:#1f77b4;\" x=\"211.88766\" xlink:href=\"#m8235419885\" y=\"106.403251\"/>\n     <use style=\"fill:#1f77b4;stroke:#1f77b4;\" x=\"139.714288\" xlink:href=\"#m8235419885\" y=\"166.866052\"/>\n     <use style=\"fill:#1f77b4;stroke:#1f77b4;\" x=\"103.536625\" xlink:href=\"#m8235419885\" y=\"189.915773\"/>\n     <use style=\"fill:#1f77b4;stroke:#1f77b4;\" x=\"182.895038\" xlink:href=\"#m8235419885\" y=\"142.341209\"/>\n     <use style=\"fill:#1f77b4;stroke:#1f77b4;\" x=\"179.216589\" xlink:href=\"#m8235419885\" y=\"128.635707\"/>\n     <use style=\"fill:#1f77b4;stroke:#1f77b4;\" x=\"162.155739\" xlink:href=\"#m8235419885\" y=\"155.51875\"/>\n     <use style=\"fill:#1f77b4;stroke:#1f77b4;\" x=\"266.397956\" xlink:href=\"#m8235419885\" y=\"43.183309\"/>\n     <use style=\"fill:#1f77b4;stroke:#1f77b4;\" x=\"222.949944\" xlink:href=\"#m8235419885\" y=\"130.77382\"/>\n     <use style=\"fill:#1f77b4;stroke:#1f77b4;\" x=\"164.9976\" xlink:href=\"#m8235419885\" y=\"144.735807\"/>\n     <use style=\"fill:#1f77b4;stroke:#1f77b4;\" x=\"134.913973\" xlink:href=\"#m8235419885\" y=\"150.466152\"/>\n     <use style=\"fill:#1f77b4;stroke:#1f77b4;\" x=\"250.709282\" xlink:href=\"#m8235419885\" y=\"110.316728\"/>\n     <use style=\"fill:#1f77b4;stroke:#1f77b4;\" x=\"229.067351\" xlink:href=\"#m8235419885\" y=\"74.578338\"/>\n     <use style=\"fill:#1f77b4;stroke:#1f77b4;\" x=\"130.787312\" xlink:href=\"#m8235419885\" y=\"164.920836\"/>\n     <use style=\"fill:#1f77b4;stroke:#1f77b4;\" x=\"159.779934\" xlink:href=\"#m8235419885\" y=\"126.350932\"/>\n     <use style=\"fill:#1f77b4;stroke:#1f77b4;\" x=\"191.830936\" xlink:href=\"#m8235419885\" y=\"128.347403\"/>\n     <use style=\"fill:#1f77b4;stroke:#1f77b4;\" x=\"231.079741\" xlink:href=\"#m8235419885\" y=\"105.362312\"/>\n     <use style=\"fill:#1f77b4;stroke:#1f77b4;\" x=\"203.634337\" xlink:href=\"#m8235419885\" y=\"111.339548\"/>\n     <use style=\"fill:#1f77b4;stroke:#1f77b4;\" x=\"144.091259\" xlink:href=\"#m8235419885\" y=\"138.355437\"/>\n     <use style=\"fill:#1f77b4;stroke:#1f77b4;\" x=\"148.077772\" xlink:href=\"#m8235419885\" y=\"229.378842\"/>\n     <use style=\"fill:#1f77b4;stroke:#1f77b4;\" x=\"309.138389\" xlink:href=\"#m8235419885\" y=\"39.104338\"/>\n     <use style=\"fill:#1f77b4;stroke:#1f77b4;\" x=\"210.593938\" xlink:href=\"#m8235419885\" y=\"109.961488\"/>\n     <use style=\"fill:#1f77b4;stroke:#1f77b4;\" x=\"223.205698\" xlink:href=\"#m8235419885\" y=\"137.015511\"/>\n     <use style=\"fill:#1f77b4;stroke:#1f77b4;\" x=\"311.442136\" xlink:href=\"#m8235419885\" y=\"56.005471\"/>\n     <use style=\"fill:#1f77b4;stroke:#1f77b4;\" x=\"304.965489\" xlink:href=\"#m8235419885\" y=\"52.925477\"/>\n     <use style=\"fill:#1f77b4;stroke:#1f77b4;\" x=\"180.510311\" xlink:href=\"#m8235419885\" y=\"146.73631\"/>\n     <use style=\"fill:#1f77b4;stroke:#1f77b4;\" x=\"297.070351\" xlink:href=\"#m8235419885\" y=\"40.732686\"/>\n     <use style=\"fill:#1f77b4;stroke:#1f77b4;\" x=\"212.719725\" xlink:href=\"#m8235419885\" y=\"115.112761\"/>\n     <use style=\"fill:#1f77b4;stroke:#1f77b4;\" x=\"217.444676\" xlink:href=\"#m8235419885\" y=\"181.191859\"/>\n     <use style=\"fill:#1f77b4;stroke:#1f77b4;\" x=\"211.473504\" xlink:href=\"#m8235419885\" y=\"116.295675\"/>\n     <use style=\"fill:#1f77b4;stroke:#1f77b4;\" x=\"137.57095\" xlink:href=\"#m8235419885\" y=\"141.767288\"/>\n    </g>\n   </g>\n   <g id=\"matplotlib.axis_1\">\n    <g id=\"xtick_1\">\n     <g id=\"line2d_1\">\n      <defs>\n       <path d=\"M 0 0 \nL 0 3.5 \n\" id=\"m7296a50724\" style=\"stroke:#000000;stroke-width:0.8;\"/>\n      </defs>\n      <g>\n       <use style=\"stroke:#000000;stroke-width:0.8;\" x=\"62.973069\" xlink:href=\"#m7296a50724\" y=\"239.758125\"/>\n      </g>\n     </g>\n     <g id=\"text_1\">\n      <!-- −4 -->\n      <defs>\n       <path d=\"M 10.59375 35.5 \nL 73.1875 35.5 \nL 73.1875 27.203125 \nL 10.59375 27.203125 \nz\n\" id=\"DejaVuSans-8722\"/>\n       <path d=\"M 37.796875 64.3125 \nL 12.890625 25.390625 \nL 37.796875 25.390625 \nz\nM 35.203125 72.90625 \nL 47.609375 72.90625 \nL 47.609375 25.390625 \nL 58.015625 25.390625 \nL 58.015625 17.1875 \nL 47.609375 17.1875 \nL 47.609375 0 \nL 37.796875 0 \nL 37.796875 17.1875 \nL 4.890625 17.1875 \nL 4.890625 26.703125 \nz\n\" id=\"DejaVuSans-52\"/>\n      </defs>\n      <g transform=\"translate(55.601975 254.356562)scale(0.1 -0.1)\">\n       <use xlink:href=\"#DejaVuSans-8722\"/>\n       <use x=\"83.789062\" xlink:href=\"#DejaVuSans-52\"/>\n      </g>\n     </g>\n    </g>\n    <g id=\"xtick_2\">\n     <g id=\"line2d_2\">\n      <g>\n       <use style=\"stroke:#000000;stroke-width:0.8;\" x=\"115.089717\" xlink:href=\"#m7296a50724\" y=\"239.758125\"/>\n      </g>\n     </g>\n     <g id=\"text_2\">\n      <!-- −3 -->\n      <defs>\n       <path d=\"M 40.578125 39.3125 \nQ 47.65625 37.796875 51.625 33 \nQ 55.609375 28.21875 55.609375 21.1875 \nQ 55.609375 10.40625 48.1875 4.484375 \nQ 40.765625 -1.421875 27.09375 -1.421875 \nQ 22.515625 -1.421875 17.65625 -0.515625 \nQ 12.796875 0.390625 7.625 2.203125 \nL 7.625 11.71875 \nQ 11.71875 9.328125 16.59375 8.109375 \nQ 21.484375 6.890625 26.8125 6.890625 \nQ 36.078125 6.890625 40.9375 10.546875 \nQ 45.796875 14.203125 45.796875 21.1875 \nQ 45.796875 27.640625 41.28125 31.265625 \nQ 36.765625 34.90625 28.71875 34.90625 \nL 20.21875 34.90625 \nL 20.21875 43.015625 \nL 29.109375 43.015625 \nQ 36.375 43.015625 40.234375 45.921875 \nQ 44.09375 48.828125 44.09375 54.296875 \nQ 44.09375 59.90625 40.109375 62.90625 \nQ 36.140625 65.921875 28.71875 65.921875 \nQ 24.65625 65.921875 20.015625 65.03125 \nQ 15.375 64.15625 9.8125 62.3125 \nL 9.8125 71.09375 \nQ 15.4375 72.65625 20.34375 73.4375 \nQ 25.25 74.21875 29.59375 74.21875 \nQ 40.828125 74.21875 47.359375 69.109375 \nQ 53.90625 64.015625 53.90625 55.328125 \nQ 53.90625 49.265625 50.4375 45.09375 \nQ 46.96875 40.921875 40.578125 39.3125 \nz\n\" id=\"DejaVuSans-51\"/>\n      </defs>\n      <g transform=\"translate(107.718623 254.356562)scale(0.1 -0.1)\">\n       <use xlink:href=\"#DejaVuSans-8722\"/>\n       <use x=\"83.789062\" xlink:href=\"#DejaVuSans-51\"/>\n      </g>\n     </g>\n    </g>\n    <g id=\"xtick_3\">\n     <g id=\"line2d_3\">\n      <g>\n       <use style=\"stroke:#000000;stroke-width:0.8;\" x=\"167.206364\" xlink:href=\"#m7296a50724\" y=\"239.758125\"/>\n      </g>\n     </g>\n     <g id=\"text_3\">\n      <!-- −2 -->\n      <defs>\n       <path d=\"M 19.1875 8.296875 \nL 53.609375 8.296875 \nL 53.609375 0 \nL 7.328125 0 \nL 7.328125 8.296875 \nQ 12.9375 14.109375 22.625 23.890625 \nQ 32.328125 33.6875 34.8125 36.53125 \nQ 39.546875 41.84375 41.421875 45.53125 \nQ 43.3125 49.21875 43.3125 52.78125 \nQ 43.3125 58.59375 39.234375 62.25 \nQ 35.15625 65.921875 28.609375 65.921875 \nQ 23.96875 65.921875 18.8125 64.3125 \nQ 13.671875 62.703125 7.8125 59.421875 \nL 7.8125 69.390625 \nQ 13.765625 71.78125 18.9375 73 \nQ 24.125 74.21875 28.421875 74.21875 \nQ 39.75 74.21875 46.484375 68.546875 \nQ 53.21875 62.890625 53.21875 53.421875 \nQ 53.21875 48.921875 51.53125 44.890625 \nQ 49.859375 40.875 45.40625 35.40625 \nQ 44.1875 33.984375 37.640625 27.21875 \nQ 31.109375 20.453125 19.1875 8.296875 \nz\n\" id=\"DejaVuSans-50\"/>\n      </defs>\n      <g transform=\"translate(159.83527 254.356562)scale(0.1 -0.1)\">\n       <use xlink:href=\"#DejaVuSans-8722\"/>\n       <use x=\"83.789062\" xlink:href=\"#DejaVuSans-50\"/>\n      </g>\n     </g>\n    </g>\n    <g id=\"xtick_4\">\n     <g id=\"line2d_4\">\n      <g>\n       <use style=\"stroke:#000000;stroke-width:0.8;\" x=\"219.323012\" xlink:href=\"#m7296a50724\" y=\"239.758125\"/>\n      </g>\n     </g>\n     <g id=\"text_4\">\n      <!-- −1 -->\n      <defs>\n       <path d=\"M 12.40625 8.296875 \nL 28.515625 8.296875 \nL 28.515625 63.921875 \nL 10.984375 60.40625 \nL 10.984375 69.390625 \nL 28.421875 72.90625 \nL 38.28125 72.90625 \nL 38.28125 8.296875 \nL 54.390625 8.296875 \nL 54.390625 0 \nL 12.40625 0 \nz\n\" id=\"DejaVuSans-49\"/>\n      </defs>\n      <g transform=\"translate(211.951918 254.356562)scale(0.1 -0.1)\">\n       <use xlink:href=\"#DejaVuSans-8722\"/>\n       <use x=\"83.789062\" xlink:href=\"#DejaVuSans-49\"/>\n      </g>\n     </g>\n    </g>\n    <g id=\"xtick_5\">\n     <g id=\"line2d_5\">\n      <g>\n       <use style=\"stroke:#000000;stroke-width:0.8;\" x=\"271.439659\" xlink:href=\"#m7296a50724\" y=\"239.758125\"/>\n      </g>\n     </g>\n     <g id=\"text_5\">\n      <!-- 0 -->\n      <defs>\n       <path d=\"M 31.78125 66.40625 \nQ 24.171875 66.40625 20.328125 58.90625 \nQ 16.5 51.421875 16.5 36.375 \nQ 16.5 21.390625 20.328125 13.890625 \nQ 24.171875 6.390625 31.78125 6.390625 \nQ 39.453125 6.390625 43.28125 13.890625 \nQ 47.125 21.390625 47.125 36.375 \nQ 47.125 51.421875 43.28125 58.90625 \nQ 39.453125 66.40625 31.78125 66.40625 \nz\nM 31.78125 74.21875 \nQ 44.046875 74.21875 50.515625 64.515625 \nQ 56.984375 54.828125 56.984375 36.375 \nQ 56.984375 17.96875 50.515625 8.265625 \nQ 44.046875 -1.421875 31.78125 -1.421875 \nQ 19.53125 -1.421875 13.0625 8.265625 \nQ 6.59375 17.96875 6.59375 36.375 \nQ 6.59375 54.828125 13.0625 64.515625 \nQ 19.53125 74.21875 31.78125 74.21875 \nz\n\" id=\"DejaVuSans-48\"/>\n      </defs>\n      <g transform=\"translate(268.258409 254.356562)scale(0.1 -0.1)\">\n       <use xlink:href=\"#DejaVuSans-48\"/>\n      </g>\n     </g>\n    </g>\n    <g id=\"xtick_6\">\n     <g id=\"line2d_6\">\n      <g>\n       <use style=\"stroke:#000000;stroke-width:0.8;\" x=\"323.556307\" xlink:href=\"#m7296a50724\" y=\"239.758125\"/>\n      </g>\n     </g>\n     <g id=\"text_6\">\n      <!-- 1 -->\n      <g transform=\"translate(320.375057 254.356562)scale(0.1 -0.1)\">\n       <use xlink:href=\"#DejaVuSans-49\"/>\n      </g>\n     </g>\n    </g>\n    <g id=\"xtick_7\">\n     <g id=\"line2d_7\">\n      <g>\n       <use style=\"stroke:#000000;stroke-width:0.8;\" x=\"375.672954\" xlink:href=\"#m7296a50724\" y=\"239.758125\"/>\n      </g>\n     </g>\n     <g id=\"text_7\">\n      <!-- 2 -->\n      <g transform=\"translate(372.491704 254.356562)scale(0.1 -0.1)\">\n       <use xlink:href=\"#DejaVuSans-50\"/>\n      </g>\n     </g>\n    </g>\n    <g id=\"text_8\">\n     <!-- log10(Actual Ki), μM -->\n     <defs>\n      <path d=\"M 9.421875 75.984375 \nL 18.40625 75.984375 \nL 18.40625 0 \nL 9.421875 0 \nz\n\" id=\"DejaVuSans-108\"/>\n      <path d=\"M 30.609375 48.390625 \nQ 23.390625 48.390625 19.1875 42.75 \nQ 14.984375 37.109375 14.984375 27.296875 \nQ 14.984375 17.484375 19.15625 11.84375 \nQ 23.34375 6.203125 30.609375 6.203125 \nQ 37.796875 6.203125 41.984375 11.859375 \nQ 46.1875 17.53125 46.1875 27.296875 \nQ 46.1875 37.015625 41.984375 42.703125 \nQ 37.796875 48.390625 30.609375 48.390625 \nz\nM 30.609375 56 \nQ 42.328125 56 49.015625 48.375 \nQ 55.71875 40.765625 55.71875 27.296875 \nQ 55.71875 13.875 49.015625 6.21875 \nQ 42.328125 -1.421875 30.609375 -1.421875 \nQ 18.84375 -1.421875 12.171875 6.21875 \nQ 5.515625 13.875 5.515625 27.296875 \nQ 5.515625 40.765625 12.171875 48.375 \nQ 18.84375 56 30.609375 56 \nz\n\" id=\"DejaVuSans-111\"/>\n      <path d=\"M 45.40625 27.984375 \nQ 45.40625 37.75 41.375 43.109375 \nQ 37.359375 48.484375 30.078125 48.484375 \nQ 22.859375 48.484375 18.828125 43.109375 \nQ 14.796875 37.75 14.796875 27.984375 \nQ 14.796875 18.265625 18.828125 12.890625 \nQ 22.859375 7.515625 30.078125 7.515625 \nQ 37.359375 7.515625 41.375 12.890625 \nQ 45.40625 18.265625 45.40625 27.984375 \nz\nM 54.390625 6.78125 \nQ 54.390625 -7.171875 48.1875 -13.984375 \nQ 42 -20.796875 29.203125 -20.796875 \nQ 24.46875 -20.796875 20.265625 -20.09375 \nQ 16.0625 -19.390625 12.109375 -17.921875 \nL 12.109375 -9.1875 \nQ 16.0625 -11.328125 19.921875 -12.34375 \nQ 23.78125 -13.375 27.78125 -13.375 \nQ 36.625 -13.375 41.015625 -8.765625 \nQ 45.40625 -4.15625 45.40625 5.171875 \nL 45.40625 9.625 \nQ 42.625 4.78125 38.28125 2.390625 \nQ 33.9375 0 27.875 0 \nQ 17.828125 0 11.671875 7.65625 \nQ 5.515625 15.328125 5.515625 27.984375 \nQ 5.515625 40.671875 11.671875 48.328125 \nQ 17.828125 56 27.875 56 \nQ 33.9375 56 38.28125 53.609375 \nQ 42.625 51.21875 45.40625 46.390625 \nL 45.40625 54.6875 \nL 54.390625 54.6875 \nz\n\" id=\"DejaVuSans-103\"/>\n      <path d=\"M 31 75.875 \nQ 24.46875 64.65625 21.28125 53.65625 \nQ 18.109375 42.671875 18.109375 31.390625 \nQ 18.109375 20.125 21.3125 9.0625 \nQ 24.515625 -2 31 -13.1875 \nL 23.1875 -13.1875 \nQ 15.875 -1.703125 12.234375 9.375 \nQ 8.59375 20.453125 8.59375 31.390625 \nQ 8.59375 42.28125 12.203125 53.3125 \nQ 15.828125 64.359375 23.1875 75.875 \nz\n\" id=\"DejaVuSans-40\"/>\n      <path d=\"M 34.1875 63.1875 \nL 20.796875 26.90625 \nL 47.609375 26.90625 \nz\nM 28.609375 72.90625 \nL 39.796875 72.90625 \nL 67.578125 0 \nL 57.328125 0 \nL 50.6875 18.703125 \nL 17.828125 18.703125 \nL 11.1875 0 \nL 0.78125 0 \nz\n\" id=\"DejaVuSans-65\"/>\n      <path d=\"M 48.78125 52.59375 \nL 48.78125 44.1875 \nQ 44.96875 46.296875 41.140625 47.34375 \nQ 37.3125 48.390625 33.40625 48.390625 \nQ 24.65625 48.390625 19.8125 42.84375 \nQ 14.984375 37.3125 14.984375 27.296875 \nQ 14.984375 17.28125 19.8125 11.734375 \nQ 24.65625 6.203125 33.40625 6.203125 \nQ 37.3125 6.203125 41.140625 7.25 \nQ 44.96875 8.296875 48.78125 10.40625 \nL 48.78125 2.09375 \nQ 45.015625 0.34375 40.984375 -0.53125 \nQ 36.96875 -1.421875 32.421875 -1.421875 \nQ 20.0625 -1.421875 12.78125 6.34375 \nQ 5.515625 14.109375 5.515625 27.296875 \nQ 5.515625 40.671875 12.859375 48.328125 \nQ 20.21875 56 33.015625 56 \nQ 37.15625 56 41.109375 55.140625 \nQ 45.0625 54.296875 48.78125 52.59375 \nz\n\" id=\"DejaVuSans-99\"/>\n      <path d=\"M 18.3125 70.21875 \nL 18.3125 54.6875 \nL 36.8125 54.6875 \nL 36.8125 47.703125 \nL 18.3125 47.703125 \nL 18.3125 18.015625 \nQ 18.3125 11.328125 20.140625 9.421875 \nQ 21.96875 7.515625 27.59375 7.515625 \nL 36.8125 7.515625 \nL 36.8125 0 \nL 27.59375 0 \nQ 17.1875 0 13.234375 3.875 \nQ 9.28125 7.765625 9.28125 18.015625 \nL 9.28125 47.703125 \nL 2.6875 47.703125 \nL 2.6875 54.6875 \nL 9.28125 54.6875 \nL 9.28125 70.21875 \nz\n\" id=\"DejaVuSans-116\"/>\n      <path d=\"M 8.5 21.578125 \nL 8.5 54.6875 \nL 17.484375 54.6875 \nL 17.484375 21.921875 \nQ 17.484375 14.15625 20.5 10.265625 \nQ 23.53125 6.390625 29.59375 6.390625 \nQ 36.859375 6.390625 41.078125 11.03125 \nQ 45.3125 15.671875 45.3125 23.6875 \nL 45.3125 54.6875 \nL 54.296875 54.6875 \nL 54.296875 0 \nL 45.3125 0 \nL 45.3125 8.40625 \nQ 42.046875 3.421875 37.71875 1 \nQ 33.40625 -1.421875 27.6875 -1.421875 \nQ 18.265625 -1.421875 13.375 4.4375 \nQ 8.5 10.296875 8.5 21.578125 \nz\nM 31.109375 56 \nz\n\" id=\"DejaVuSans-117\"/>\n      <path d=\"M 34.28125 27.484375 \nQ 23.390625 27.484375 19.1875 25 \nQ 14.984375 22.515625 14.984375 16.5 \nQ 14.984375 11.71875 18.140625 8.90625 \nQ 21.296875 6.109375 26.703125 6.109375 \nQ 34.1875 6.109375 38.703125 11.40625 \nQ 43.21875 16.703125 43.21875 25.484375 \nL 43.21875 27.484375 \nz\nM 52.203125 31.203125 \nL 52.203125 0 \nL 43.21875 0 \nL 43.21875 8.296875 \nQ 40.140625 3.328125 35.546875 0.953125 \nQ 30.953125 -1.421875 24.3125 -1.421875 \nQ 15.921875 -1.421875 10.953125 3.296875 \nQ 6 8.015625 6 15.921875 \nQ 6 25.140625 12.171875 29.828125 \nQ 18.359375 34.515625 30.609375 34.515625 \nL 43.21875 34.515625 \nL 43.21875 35.40625 \nQ 43.21875 41.609375 39.140625 45 \nQ 35.0625 48.390625 27.6875 48.390625 \nQ 23 48.390625 18.546875 47.265625 \nQ 14.109375 46.140625 10.015625 43.890625 \nL 10.015625 52.203125 \nQ 14.9375 54.109375 19.578125 55.046875 \nQ 24.21875 56 28.609375 56 \nQ 40.484375 56 46.34375 49.84375 \nQ 52.203125 43.703125 52.203125 31.203125 \nz\n\" id=\"DejaVuSans-97\"/>\n      <path id=\"DejaVuSans-32\"/>\n      <path d=\"M 9.8125 72.90625 \nL 19.671875 72.90625 \nL 19.671875 42.09375 \nL 52.390625 72.90625 \nL 65.09375 72.90625 \nL 28.90625 38.921875 \nL 67.671875 0 \nL 54.6875 0 \nL 19.671875 35.109375 \nL 19.671875 0 \nL 9.8125 0 \nz\n\" id=\"DejaVuSans-75\"/>\n      <path d=\"M 9.421875 54.6875 \nL 18.40625 54.6875 \nL 18.40625 0 \nL 9.421875 0 \nz\nM 9.421875 75.984375 \nL 18.40625 75.984375 \nL 18.40625 64.59375 \nL 9.421875 64.59375 \nz\n\" id=\"DejaVuSans-105\"/>\n      <path d=\"M 8.015625 75.875 \nL 15.828125 75.875 \nQ 23.140625 64.359375 26.78125 53.3125 \nQ 30.421875 42.28125 30.421875 31.390625 \nQ 30.421875 20.453125 26.78125 9.375 \nQ 23.140625 -1.703125 15.828125 -13.1875 \nL 8.015625 -13.1875 \nQ 14.5 -2 17.703125 9.0625 \nQ 20.90625 20.125 20.90625 31.390625 \nQ 20.90625 42.671875 17.703125 53.65625 \nQ 14.5 64.65625 8.015625 75.875 \nz\n\" id=\"DejaVuSans-41\"/>\n      <path d=\"M 11.71875 12.40625 \nL 22.015625 12.40625 \nL 22.015625 4 \nL 14.015625 -11.625 \nL 7.71875 -11.625 \nL 11.71875 4 \nz\n\" id=\"DejaVuSans-44\"/>\n      <path d=\"M 8.5 -20.796875 \nL 8.5 54.6875 \nL 17.484375 54.6875 \nL 17.484375 20.703125 \nQ 17.484375 13.625 20.84375 10 \nQ 24.21875 6.390625 30.8125 6.390625 \nQ 38.03125 6.390625 41.671875 10.484375 \nQ 45.3125 14.59375 45.3125 22.796875 \nL 45.3125 54.6875 \nL 54.296875 54.6875 \nL 54.296875 12.59375 \nQ 54.296875 9.671875 55.140625 8.28125 \nQ 56 6.890625 57.8125 6.890625 \nQ 58.25 6.890625 59.03125 7.15625 \nQ 59.8125 7.421875 61.1875 8.015625 \nL 61.1875 0.78125 \nQ 59.1875 -0.34375 57.390625 -0.875 \nQ 55.609375 -1.421875 53.90625 -1.421875 \nQ 50.53125 -1.421875 48.53125 0.484375 \nQ 46.53125 2.390625 45.796875 6.296875 \nQ 43.359375 2.4375 39.8125 0.5 \nQ 36.28125 -1.421875 31.5 -1.421875 \nQ 26.515625 -1.421875 23.015625 0.484375 \nQ 19.53125 2.390625 17.484375 6.203125 \nL 17.484375 -20.796875 \nz\n\" id=\"DejaVuSans-956\"/>\n      <path d=\"M 9.8125 72.90625 \nL 24.515625 72.90625 \nL 43.109375 23.296875 \nL 61.8125 72.90625 \nL 76.515625 72.90625 \nL 76.515625 0 \nL 66.890625 0 \nL 66.890625 64.015625 \nL 48.09375 14.015625 \nL 38.1875 14.015625 \nL 19.390625 64.015625 \nL 19.390625 0 \nL 9.8125 0 \nz\n\" id=\"DejaVuSans-77\"/>\n     </defs>\n     <g transform=\"translate(159.452344 268.034687)scale(0.1 -0.1)\">\n      <use xlink:href=\"#DejaVuSans-108\"/>\n      <use x=\"27.783203\" xlink:href=\"#DejaVuSans-111\"/>\n      <use x=\"88.964844\" xlink:href=\"#DejaVuSans-103\"/>\n      <use x=\"152.441406\" xlink:href=\"#DejaVuSans-49\"/>\n      <use x=\"216.064453\" xlink:href=\"#DejaVuSans-48\"/>\n      <use x=\"279.6875\" xlink:href=\"#DejaVuSans-40\"/>\n      <use x=\"318.701172\" xlink:href=\"#DejaVuSans-65\"/>\n      <use x=\"387.09375\" xlink:href=\"#DejaVuSans-99\"/>\n      <use x=\"442.074219\" xlink:href=\"#DejaVuSans-116\"/>\n      <use x=\"481.283203\" xlink:href=\"#DejaVuSans-117\"/>\n      <use x=\"544.662109\" xlink:href=\"#DejaVuSans-97\"/>\n      <use x=\"605.941406\" xlink:href=\"#DejaVuSans-108\"/>\n      <use x=\"633.724609\" xlink:href=\"#DejaVuSans-32\"/>\n      <use x=\"665.511719\" xlink:href=\"#DejaVuSans-75\"/>\n      <use x=\"731.087891\" xlink:href=\"#DejaVuSans-105\"/>\n      <use x=\"758.871094\" xlink:href=\"#DejaVuSans-41\"/>\n      <use x=\"797.884766\" xlink:href=\"#DejaVuSans-44\"/>\n      <use x=\"829.671875\" xlink:href=\"#DejaVuSans-32\"/>\n      <use x=\"861.458984\" xlink:href=\"#DejaVuSans-956\"/>\n      <use x=\"925.082031\" xlink:href=\"#DejaVuSans-77\"/>\n     </g>\n    </g>\n   </g>\n   <g id=\"matplotlib.axis_2\">\n    <g id=\"ytick_1\">\n     <g id=\"line2d_8\">\n      <defs>\n       <path d=\"M 0 0 \nL -3.5 0 \n\" id=\"mf18fc8135e\" style=\"stroke:#000000;stroke-width:0.8;\"/>\n      </defs>\n      <g>\n       <use style=\"stroke:#000000;stroke-width:0.8;\" x=\"42.620313\" xlink:href=\"#mf18fc8135e\" y=\"219.598747\"/>\n      </g>\n     </g>\n     <g id=\"text_9\">\n      <!-- −4 -->\n      <g transform=\"translate(20.878125 223.397966)scale(0.1 -0.1)\">\n       <use xlink:href=\"#DejaVuSans-8722\"/>\n       <use x=\"83.789062\" xlink:href=\"#DejaVuSans-52\"/>\n      </g>\n     </g>\n    </g>\n    <g id=\"ytick_2\">\n     <g id=\"line2d_9\">\n      <g>\n       <use style=\"stroke:#000000;stroke-width:0.8;\" x=\"42.620313\" xlink:href=\"#mf18fc8135e\" y=\"183.674289\"/>\n      </g>\n     </g>\n     <g id=\"text_10\">\n      <!-- −3 -->\n      <g transform=\"translate(20.878125 187.473508)scale(0.1 -0.1)\">\n       <use xlink:href=\"#DejaVuSans-8722\"/>\n       <use x=\"83.789062\" xlink:href=\"#DejaVuSans-51\"/>\n      </g>\n     </g>\n    </g>\n    <g id=\"ytick_3\">\n     <g id=\"line2d_10\">\n      <g>\n       <use style=\"stroke:#000000;stroke-width:0.8;\" x=\"42.620313\" xlink:href=\"#mf18fc8135e\" y=\"147.749831\"/>\n      </g>\n     </g>\n     <g id=\"text_11\">\n      <!-- −2 -->\n      <g transform=\"translate(20.878125 151.549049)scale(0.1 -0.1)\">\n       <use xlink:href=\"#DejaVuSans-8722\"/>\n       <use x=\"83.789062\" xlink:href=\"#DejaVuSans-50\"/>\n      </g>\n     </g>\n    </g>\n    <g id=\"ytick_4\">\n     <g id=\"line2d_11\">\n      <g>\n       <use style=\"stroke:#000000;stroke-width:0.8;\" x=\"42.620313\" xlink:href=\"#mf18fc8135e\" y=\"111.825372\"/>\n      </g>\n     </g>\n     <g id=\"text_12\">\n      <!-- −1 -->\n      <g transform=\"translate(20.878125 115.624591)scale(0.1 -0.1)\">\n       <use xlink:href=\"#DejaVuSans-8722\"/>\n       <use x=\"83.789062\" xlink:href=\"#DejaVuSans-49\"/>\n      </g>\n     </g>\n    </g>\n    <g id=\"ytick_5\">\n     <g id=\"line2d_12\">\n      <g>\n       <use style=\"stroke:#000000;stroke-width:0.8;\" x=\"42.620313\" xlink:href=\"#mf18fc8135e\" y=\"75.900914\"/>\n      </g>\n     </g>\n     <g id=\"text_13\">\n      <!-- 0 -->\n      <g transform=\"translate(29.257813 79.700133)scale(0.1 -0.1)\">\n       <use xlink:href=\"#DejaVuSans-48\"/>\n      </g>\n     </g>\n    </g>\n    <g id=\"ytick_6\">\n     <g id=\"line2d_13\">\n      <g>\n       <use style=\"stroke:#000000;stroke-width:0.8;\" x=\"42.620313\" xlink:href=\"#mf18fc8135e\" y=\"39.976456\"/>\n      </g>\n     </g>\n     <g id=\"text_14\">\n      <!-- 1 -->\n      <g transform=\"translate(29.257813 43.775675)scale(0.1 -0.1)\">\n       <use xlink:href=\"#DejaVuSans-49\"/>\n      </g>\n     </g>\n    </g>\n    <g id=\"text_15\">\n     <!-- log10(Predicted Ki), μM -->\n     <defs>\n      <path d=\"M 19.671875 64.796875 \nL 19.671875 37.40625 \nL 32.078125 37.40625 \nQ 38.96875 37.40625 42.71875 40.96875 \nQ 46.484375 44.53125 46.484375 51.125 \nQ 46.484375 57.671875 42.71875 61.234375 \nQ 38.96875 64.796875 32.078125 64.796875 \nz\nM 9.8125 72.90625 \nL 32.078125 72.90625 \nQ 44.34375 72.90625 50.609375 67.359375 \nQ 56.890625 61.8125 56.890625 51.125 \nQ 56.890625 40.328125 50.609375 34.8125 \nQ 44.34375 29.296875 32.078125 29.296875 \nL 19.671875 29.296875 \nL 19.671875 0 \nL 9.8125 0 \nz\n\" id=\"DejaVuSans-80\"/>\n      <path d=\"M 41.109375 46.296875 \nQ 39.59375 47.171875 37.8125 47.578125 \nQ 36.03125 48 33.890625 48 \nQ 26.265625 48 22.1875 43.046875 \nQ 18.109375 38.09375 18.109375 28.8125 \nL 18.109375 0 \nL 9.078125 0 \nL 9.078125 54.6875 \nL 18.109375 54.6875 \nL 18.109375 46.1875 \nQ 20.953125 51.171875 25.484375 53.578125 \nQ 30.03125 56 36.53125 56 \nQ 37.453125 56 38.578125 55.875 \nQ 39.703125 55.765625 41.0625 55.515625 \nz\n\" id=\"DejaVuSans-114\"/>\n      <path d=\"M 56.203125 29.59375 \nL 56.203125 25.203125 \nL 14.890625 25.203125 \nQ 15.484375 15.921875 20.484375 11.0625 \nQ 25.484375 6.203125 34.421875 6.203125 \nQ 39.59375 6.203125 44.453125 7.46875 \nQ 49.3125 8.734375 54.109375 11.28125 \nL 54.109375 2.78125 \nQ 49.265625 0.734375 44.1875 -0.34375 \nQ 39.109375 -1.421875 33.890625 -1.421875 \nQ 20.796875 -1.421875 13.15625 6.1875 \nQ 5.515625 13.8125 5.515625 26.8125 \nQ 5.515625 40.234375 12.765625 48.109375 \nQ 20.015625 56 32.328125 56 \nQ 43.359375 56 49.78125 48.890625 \nQ 56.203125 41.796875 56.203125 29.59375 \nz\nM 47.21875 32.234375 \nQ 47.125 39.59375 43.09375 43.984375 \nQ 39.0625 48.390625 32.421875 48.390625 \nQ 24.90625 48.390625 20.390625 44.140625 \nQ 15.875 39.890625 15.1875 32.171875 \nz\n\" id=\"DejaVuSans-101\"/>\n      <path d=\"M 45.40625 46.390625 \nL 45.40625 75.984375 \nL 54.390625 75.984375 \nL 54.390625 0 \nL 45.40625 0 \nL 45.40625 8.203125 \nQ 42.578125 3.328125 38.25 0.953125 \nQ 33.9375 -1.421875 27.875 -1.421875 \nQ 17.96875 -1.421875 11.734375 6.484375 \nQ 5.515625 14.40625 5.515625 27.296875 \nQ 5.515625 40.1875 11.734375 48.09375 \nQ 17.96875 56 27.875 56 \nQ 33.9375 56 38.25 53.625 \nQ 42.578125 51.265625 45.40625 46.390625 \nz\nM 14.796875 27.296875 \nQ 14.796875 17.390625 18.875 11.75 \nQ 22.953125 6.109375 30.078125 6.109375 \nQ 37.203125 6.109375 41.296875 11.75 \nQ 45.40625 17.390625 45.40625 27.296875 \nQ 45.40625 37.203125 41.296875 42.84375 \nQ 37.203125 48.484375 30.078125 48.484375 \nQ 22.953125 48.484375 18.875 42.84375 \nQ 14.796875 37.203125 14.796875 27.296875 \nz\n\" id=\"DejaVuSans-100\"/>\n     </defs>\n     <g transform=\"translate(14.798438 189.523281)rotate(-90)scale(0.1 -0.1)\">\n      <use xlink:href=\"#DejaVuSans-108\"/>\n      <use x=\"27.783203\" xlink:href=\"#DejaVuSans-111\"/>\n      <use x=\"88.964844\" xlink:href=\"#DejaVuSans-103\"/>\n      <use x=\"152.441406\" xlink:href=\"#DejaVuSans-49\"/>\n      <use x=\"216.064453\" xlink:href=\"#DejaVuSans-48\"/>\n      <use x=\"279.6875\" xlink:href=\"#DejaVuSans-40\"/>\n      <use x=\"318.701172\" xlink:href=\"#DejaVuSans-80\"/>\n      <use x=\"378.988281\" xlink:href=\"#DejaVuSans-114\"/>\n      <use x=\"420.070312\" xlink:href=\"#DejaVuSans-101\"/>\n      <use x=\"481.59375\" xlink:href=\"#DejaVuSans-100\"/>\n      <use x=\"545.070312\" xlink:href=\"#DejaVuSans-105\"/>\n      <use x=\"572.853516\" xlink:href=\"#DejaVuSans-99\"/>\n      <use x=\"627.833984\" xlink:href=\"#DejaVuSans-116\"/>\n      <use x=\"667.042969\" xlink:href=\"#DejaVuSans-101\"/>\n      <use x=\"728.566406\" xlink:href=\"#DejaVuSans-100\"/>\n      <use x=\"792.042969\" xlink:href=\"#DejaVuSans-32\"/>\n      <use x=\"823.830078\" xlink:href=\"#DejaVuSans-75\"/>\n      <use x=\"889.40625\" xlink:href=\"#DejaVuSans-105\"/>\n      <use x=\"917.189453\" xlink:href=\"#DejaVuSans-41\"/>\n      <use x=\"956.203125\" xlink:href=\"#DejaVuSans-44\"/>\n      <use x=\"987.990234\" xlink:href=\"#DejaVuSans-32\"/>\n      <use x=\"1019.777344\" xlink:href=\"#DejaVuSans-956\"/>\n      <use x=\"1083.400391\" xlink:href=\"#DejaVuSans-77\"/>\n     </g>\n    </g>\n   </g>\n   <g id=\"patch_3\">\n    <path d=\"M 42.620313 239.758125 \nL 42.620313 22.318125 \n\" style=\"fill:none;stroke:#000000;stroke-linecap:square;stroke-linejoin:miter;stroke-width:0.8;\"/>\n   </g>\n   <g id=\"patch_4\">\n    <path d=\"M 377.420313 239.758125 \nL 377.420313 22.318125 \n\" style=\"fill:none;stroke:#000000;stroke-linecap:square;stroke-linejoin:miter;stroke-width:0.8;\"/>\n   </g>\n   <g id=\"patch_5\">\n    <path d=\"M 42.620312 239.758125 \nL 377.420313 239.758125 \n\" style=\"fill:none;stroke:#000000;stroke-linecap:square;stroke-linejoin:miter;stroke-width:0.8;\"/>\n   </g>\n   <g id=\"patch_6\">\n    <path d=\"M 42.620312 22.318125 \nL 377.420313 22.318125 \n\" style=\"fill:none;stroke:#000000;stroke-linecap:square;stroke-linejoin:miter;stroke-width:0.8;\"/>\n   </g>\n   <g id=\"text_16\">\n    <!-- SVM Validation Data -->\n    <defs>\n     <path d=\"M 53.515625 70.515625 \nL 53.515625 60.890625 \nQ 47.90625 63.578125 42.921875 64.890625 \nQ 37.9375 66.21875 33.296875 66.21875 \nQ 25.25 66.21875 20.875 63.09375 \nQ 16.5 59.96875 16.5 54.203125 \nQ 16.5 49.359375 19.40625 46.890625 \nQ 22.3125 44.4375 30.421875 42.921875 \nL 36.375 41.703125 \nQ 47.40625 39.59375 52.65625 34.296875 \nQ 57.90625 29 57.90625 20.125 \nQ 57.90625 9.515625 50.796875 4.046875 \nQ 43.703125 -1.421875 29.984375 -1.421875 \nQ 24.8125 -1.421875 18.96875 -0.25 \nQ 13.140625 0.921875 6.890625 3.21875 \nL 6.890625 13.375 \nQ 12.890625 10.015625 18.65625 8.296875 \nQ 24.421875 6.59375 29.984375 6.59375 \nQ 38.421875 6.59375 43.015625 9.90625 \nQ 47.609375 13.234375 47.609375 19.390625 \nQ 47.609375 24.75 44.3125 27.78125 \nQ 41.015625 30.8125 33.5 32.328125 \nL 27.484375 33.5 \nQ 16.453125 35.6875 11.515625 40.375 \nQ 6.59375 45.0625 6.59375 53.421875 \nQ 6.59375 63.09375 13.40625 68.65625 \nQ 20.21875 74.21875 32.171875 74.21875 \nQ 37.3125 74.21875 42.625 73.28125 \nQ 47.953125 72.359375 53.515625 70.515625 \nz\n\" id=\"DejaVuSans-83\"/>\n     <path d=\"M 28.609375 0 \nL 0.78125 72.90625 \nL 11.078125 72.90625 \nL 34.1875 11.53125 \nL 57.328125 72.90625 \nL 67.578125 72.90625 \nL 39.796875 0 \nz\n\" id=\"DejaVuSans-86\"/>\n     <path d=\"M 54.890625 33.015625 \nL 54.890625 0 \nL 45.90625 0 \nL 45.90625 32.71875 \nQ 45.90625 40.484375 42.875 44.328125 \nQ 39.84375 48.1875 33.796875 48.1875 \nQ 26.515625 48.1875 22.3125 43.546875 \nQ 18.109375 38.921875 18.109375 30.90625 \nL 18.109375 0 \nL 9.078125 0 \nL 9.078125 54.6875 \nL 18.109375 54.6875 \nL 18.109375 46.1875 \nQ 21.34375 51.125 25.703125 53.5625 \nQ 30.078125 56 35.796875 56 \nQ 45.21875 56 50.046875 50.171875 \nQ 54.890625 44.34375 54.890625 33.015625 \nz\n\" id=\"DejaVuSans-110\"/>\n     <path d=\"M 19.671875 64.796875 \nL 19.671875 8.109375 \nL 31.59375 8.109375 \nQ 46.6875 8.109375 53.6875 14.9375 \nQ 60.6875 21.78125 60.6875 36.53125 \nQ 60.6875 51.171875 53.6875 57.984375 \nQ 46.6875 64.796875 31.59375 64.796875 \nz\nM 9.8125 72.90625 \nL 30.078125 72.90625 \nQ 51.265625 72.90625 61.171875 64.09375 \nQ 71.09375 55.28125 71.09375 36.53125 \nQ 71.09375 17.671875 61.125 8.828125 \nQ 51.171875 0 30.078125 0 \nL 9.8125 0 \nz\n\" id=\"DejaVuSans-68\"/>\n    </defs>\n    <g transform=\"translate(148.703125 16.318125)scale(0.12 -0.12)\">\n     <use xlink:href=\"#DejaVuSans-83\"/>\n     <use x=\"63.476562\" xlink:href=\"#DejaVuSans-86\"/>\n     <use x=\"131.884766\" xlink:href=\"#DejaVuSans-77\"/>\n     <use x=\"218.164062\" xlink:href=\"#DejaVuSans-32\"/>\n     <use x=\"249.951172\" xlink:href=\"#DejaVuSans-86\"/>\n     <use x=\"318.25\" xlink:href=\"#DejaVuSans-97\"/>\n     <use x=\"379.529297\" xlink:href=\"#DejaVuSans-108\"/>\n     <use x=\"407.3125\" xlink:href=\"#DejaVuSans-105\"/>\n     <use x=\"435.095703\" xlink:href=\"#DejaVuSans-100\"/>\n     <use x=\"498.572266\" xlink:href=\"#DejaVuSans-97\"/>\n     <use x=\"559.851562\" xlink:href=\"#DejaVuSans-116\"/>\n     <use x=\"599.060547\" xlink:href=\"#DejaVuSans-105\"/>\n     <use x=\"626.84375\" xlink:href=\"#DejaVuSans-111\"/>\n     <use x=\"688.025391\" xlink:href=\"#DejaVuSans-110\"/>\n     <use x=\"751.404297\" xlink:href=\"#DejaVuSans-32\"/>\n     <use x=\"783.191406\" xlink:href=\"#DejaVuSans-68\"/>\n     <use x=\"860.193359\" xlink:href=\"#DejaVuSans-97\"/>\n     <use x=\"921.472656\" xlink:href=\"#DejaVuSans-116\"/>\n     <use x=\"960.681641\" xlink:href=\"#DejaVuSans-97\"/>\n    </g>\n   </g>\n  </g>\n </g>\n <defs>\n  <clipPath id=\"p3347c4b1ed\">\n   <rect height=\"217.44\" width=\"334.8\" x=\"42.620313\" y=\"22.318125\"/>\n  </clipPath>\n </defs>\n</svg>\n",
      "image/png": "[encoded data removed]"
     },
     "metadata": {
      "needs_background": "light"
     }
    }
   ],
   "source": [
    "#Run SVM regression using SKLearn on test set. Linear regression for prediction accuracy\n",
    "svmReg = make_pipeline(StandardScaler(), LinearSVR(random_state=0, tol=1e-5, C=c_param_SVR_test))\n",
    "svmReg.fit(train_X, train_y)\n",
    "\n",
    "pred = svmReg.predict(test_X)\n",
    "MSE = mean_squared_error(test_y, pred)\n",
    "RMSE = np.sqrt(MSE)\n",
    "print(\"SVR RMSE:{}\".format(RMSE))\n",
    "\n",
    "plt.scatter(test_y, pred)\n",
    "plt.xlabel('log10(Actual Ki), μM')\n",
    "plt.ylabel('log10(Predicted Ki), μM')\n",
    "plt.title('SVM Validation Data')\n",
    "\n",
    "corr = scipy.stats.pearsonr(test_y, pred)\n",
    "print(corr)"
   ]
  },
  {
   "cell_type": "code",
   "execution_count": 19,
   "metadata": {
    "tags": []
   },
   "outputs": [
    {
     "output_type": "stream",
     "name": "stderr",
     "text": "/Users/JacobUmans/opt/miniconda3/lib/python3.7/site-packages/sklearn/model_selection/_search.py:814: DeprecationWarning: The default of the `iid` parameter will change from True to False in version 0.22 and will be removed in 0.24. This will change numeric results when test-set sizes are unequal.\n  DeprecationWarning)\n"
    }
   ],
   "source": [
    "#SKLearn C parameter optimization\n",
    "Cs = np.logspace(-6, 2, 16)\n",
    "clf_full = GridSearchCV(estimator=LinearSVR(random_state=0, tol=1e-5), param_grid=dict(C=Cs), n_jobs=-1)\n",
    "clf_full.fit(X_assays, y_assays_logKi) \n",
    "c_param_full = clf_full.best_estimator_.C"
   ]
  },
  {
   "cell_type": "code",
   "execution_count": 20,
   "metadata": {},
   "outputs": [
    {
     "output_type": "execute_result",
     "data": {
      "text/plain": "0.018478497974222907"
     },
     "metadata": {},
     "execution_count": 20
    }
   ],
   "source": [
    "c_param_full "
   ]
  },
  {
   "cell_type": "code",
   "execution_count": 21,
   "metadata": {},
   "outputs": [],
   "source": [
    "#Run regressor (trained on full dataset)\n",
    "test_compounds = np.stack(active_screening_compounds.morgan_fingerprint)\n",
    "\n",
    "svmReg_full = make_pipeline(StandardScaler(), LinearSVR(random_state=0, tol=1e-5, C=c_param_full))\n",
    "svmReg_full.fit(X_assays, y_assays_logKi)\n",
    "pred_values = svmReg_full.predict(test_compounds)"
   ]
  },
  {
   "cell_type": "code",
   "execution_count": 22,
   "metadata": {},
   "outputs": [
    {
     "output_type": "execute_result",
     "data": {
      "text/plain": "         source                          name  \\\n10797   reframe                    Nafamostat   \n19603     broad                   substance-p   \n10749   reframe                      Camostat   \n4725   drugbank  Sar9, Met (O2)11-Substance P   \n10877     broad  [sar9,met(o2)11]-substance-p   \n10789   reframe                     RWJ-58643   \n10747   reframe           Sepimostat mesilate   \n2513   drugbank                     RWJ-56423   \n10791   reframe                    Telaprevir   \n19920     broad                    telaprevir   \n19919     broad                    telaprevir   \n4645   drugbank                    Telaprevir   \n10815   reframe                   atecegatran   \n2928   drugbank                     RWJ-51084   \n17038     broad                    nafamostat   \n17040     broad                    nafamostat   \n17039     broad                    nafamostat   \n8697   drugbank                    Nafamostat   \n20636     broad                   vasopressin   \n16384     broad                     lypressin   \n\n                                      morgan_fingerprint  predictions  \\\n10797  [0, 0, 0, 0, 0, 0, 0, 0, 0, 0, 0, 1, 0, 0, 0, ...          1.0   \n19603  [0, 1, 0, 0, 0, 0, 0, 0, 0, 0, 0, 1, 0, 0, 0, ...          1.0   \n10749  [0, 0, 0, 0, 0, 0, 0, 0, 0, 0, 0, 1, 0, 0, 0, ...          1.0   \n4725   [0, 1, 0, 0, 0, 0, 0, 0, 0, 0, 0, 0, 0, 0, 0, ...          1.0   \n10877  [0, 1, 0, 0, 0, 0, 0, 0, 0, 0, 0, 0, 0, 0, 0, ...          1.0   \n10789  [0, 1, 0, 0, 0, 0, 0, 0, 0, 0, 0, 0, 0, 0, 0, ...          1.0   \n10747  [0, 0, 0, 0, 0, 0, 0, 0, 0, 0, 0, 0, 0, 0, 0, ...          1.0   \n2513   [0, 1, 0, 0, 0, 0, 0, 0, 0, 0, 0, 0, 0, 0, 0, ...          1.0   \n10791  [0, 1, 1, 0, 0, 0, 0, 0, 0, 1, 0, 0, 0, 0, 0, ...          1.0   \n19920  [0, 1, 1, 0, 0, 0, 0, 0, 0, 1, 0, 0, 0, 0, 0, ...          1.0   \n19919  [0, 1, 1, 0, 0, 0, 0, 0, 0, 1, 0, 0, 0, 0, 0, ...          1.0   \n4645   [0, 1, 1, 0, 0, 0, 0, 0, 0, 1, 0, 0, 0, 0, 0, ...          1.0   \n10815  [0, 1, 0, 0, 0, 0, 0, 0, 0, 0, 0, 0, 0, 0, 0, ...          1.0   \n2928   [0, 1, 0, 0, 0, 0, 0, 0, 0, 0, 0, 0, 0, 0, 0, ...          1.0   \n17038  [0, 0, 0, 0, 0, 0, 0, 0, 0, 0, 0, 0, 0, 0, 0, ...          1.0   \n17040  [0, 0, 0, 0, 0, 0, 0, 0, 0, 0, 0, 0, 0, 0, 0, ...          1.0   \n17039  [0, 0, 0, 0, 0, 0, 0, 0, 0, 0, 0, 0, 0, 0, 0, ...          1.0   \n8697   [0, 0, 0, 0, 0, 0, 0, 0, 0, 0, 0, 0, 0, 0, 0, ...          1.0   \n20636  [0, 1, 0, 0, 0, 0, 0, 0, 0, 0, 0, 0, 0, 0, 0, ...          1.0   \n16384  [0, 1, 0, 0, 0, 0, 0, 0, 0, 0, 0, 0, 0, 0, 0, ...          1.0   \n\n       pred_value  \n10797   -4.573851  \n19603   -3.270026  \n10749   -3.063672  \n4725    -2.878899  \n10877   -2.878899  \n10789   -2.231559  \n10747   -2.119949  \n2513    -2.051680  \n10791   -2.013527  \n19920   -2.013527  \n19919   -2.013527  \n4645    -2.013527  \n10815   -1.981752  \n2928    -1.887822  \n17038   -1.866586  \n17040   -1.866586  \n17039   -1.866586  \n8697    -1.866586  \n20636   -1.845739  \n16384   -1.757209  ",
      "text/html": "<div>\n<style scoped>\n    .dataframe tbody tr th:only-of-type {\n        vertical-align: middle;\n    }\n\n    .dataframe tbody tr th {\n        vertical-align: top;\n    }\n\n    .dataframe thead th {\n        text-align: right;\n    }\n</style>\n<table border=\"1\" class=\"dataframe\">\n  <thead>\n    <tr style=\"text-align: right;\">\n      <th></th>\n      <th>source</th>\n      <th>name</th>\n      <th>morgan_fingerprint</th>\n      <th>predictions</th>\n      <th>pred_value</th>\n    </tr>\n  </thead>\n  <tbody>\n    <tr>\n      <td>10797</td>\n      <td>reframe</td>\n      <td>Nafamostat</td>\n      <td>[0, 0, 0, 0, 0, 0, 0, 0, 0, 0, 0, 1, 0, 0, 0, ...</td>\n      <td>1.0</td>\n      <td>-4.573851</td>\n    </tr>\n    <tr>\n      <td>19603</td>\n      <td>broad</td>\n      <td>substance-p</td>\n      <td>[0, 1, 0, 0, 0, 0, 0, 0, 0, 0, 0, 1, 0, 0, 0, ...</td>\n      <td>1.0</td>\n      <td>-3.270026</td>\n    </tr>\n    <tr>\n      <td>10749</td>\n      <td>reframe</td>\n      <td>Camostat</td>\n      <td>[0, 0, 0, 0, 0, 0, 0, 0, 0, 0, 0, 1, 0, 0, 0, ...</td>\n      <td>1.0</td>\n      <td>-3.063672</td>\n    </tr>\n    <tr>\n      <td>4725</td>\n      <td>drugbank</td>\n      <td>Sar9, Met (O2)11-Substance P</td>\n      <td>[0, 1, 0, 0, 0, 0, 0, 0, 0, 0, 0, 0, 0, 0, 0, ...</td>\n      <td>1.0</td>\n      <td>-2.878899</td>\n    </tr>\n    <tr>\n      <td>10877</td>\n      <td>broad</td>\n      <td>[sar9,met(o2)11]-substance-p</td>\n      <td>[0, 1, 0, 0, 0, 0, 0, 0, 0, 0, 0, 0, 0, 0, 0, ...</td>\n      <td>1.0</td>\n      <td>-2.878899</td>\n    </tr>\n    <tr>\n      <td>10789</td>\n      <td>reframe</td>\n      <td>RWJ-58643</td>\n      <td>[0, 1, 0, 0, 0, 0, 0, 0, 0, 0, 0, 0, 0, 0, 0, ...</td>\n      <td>1.0</td>\n      <td>-2.231559</td>\n    </tr>\n    <tr>\n      <td>10747</td>\n      <td>reframe</td>\n      <td>Sepimostat mesilate</td>\n      <td>[0, 0, 0, 0, 0, 0, 0, 0, 0, 0, 0, 0, 0, 0, 0, ...</td>\n      <td>1.0</td>\n      <td>-2.119949</td>\n    </tr>\n    <tr>\n      <td>2513</td>\n      <td>drugbank</td>\n      <td>RWJ-56423</td>\n      <td>[0, 1, 0, 0, 0, 0, 0, 0, 0, 0, 0, 0, 0, 0, 0, ...</td>\n      <td>1.0</td>\n      <td>-2.051680</td>\n    </tr>\n    <tr>\n      <td>10791</td>\n      <td>reframe</td>\n      <td>Telaprevir</td>\n      <td>[0, 1, 1, 0, 0, 0, 0, 0, 0, 1, 0, 0, 0, 0, 0, ...</td>\n      <td>1.0</td>\n      <td>-2.013527</td>\n    </tr>\n    <tr>\n      <td>19920</td>\n      <td>broad</td>\n      <td>telaprevir</td>\n      <td>[0, 1, 1, 0, 0, 0, 0, 0, 0, 1, 0, 0, 0, 0, 0, ...</td>\n      <td>1.0</td>\n      <td>-2.013527</td>\n    </tr>\n    <tr>\n      <td>19919</td>\n      <td>broad</td>\n      <td>telaprevir</td>\n      <td>[0, 1, 1, 0, 0, 0, 0, 0, 0, 1, 0, 0, 0, 0, 0, ...</td>\n      <td>1.0</td>\n      <td>-2.013527</td>\n    </tr>\n    <tr>\n      <td>4645</td>\n      <td>drugbank</td>\n      <td>Telaprevir</td>\n      <td>[0, 1, 1, 0, 0, 0, 0, 0, 0, 1, 0, 0, 0, 0, 0, ...</td>\n      <td>1.0</td>\n      <td>-2.013527</td>\n    </tr>\n    <tr>\n      <td>10815</td>\n      <td>reframe</td>\n      <td>atecegatran</td>\n      <td>[0, 1, 0, 0, 0, 0, 0, 0, 0, 0, 0, 0, 0, 0, 0, ...</td>\n      <td>1.0</td>\n      <td>-1.981752</td>\n    </tr>\n    <tr>\n      <td>2928</td>\n      <td>drugbank</td>\n      <td>RWJ-51084</td>\n      <td>[0, 1, 0, 0, 0, 0, 0, 0, 0, 0, 0, 0, 0, 0, 0, ...</td>\n      <td>1.0</td>\n      <td>-1.887822</td>\n    </tr>\n    <tr>\n      <td>17038</td>\n      <td>broad</td>\n      <td>nafamostat</td>\n      <td>[0, 0, 0, 0, 0, 0, 0, 0, 0, 0, 0, 0, 0, 0, 0, ...</td>\n      <td>1.0</td>\n      <td>-1.866586</td>\n    </tr>\n    <tr>\n      <td>17040</td>\n      <td>broad</td>\n      <td>nafamostat</td>\n      <td>[0, 0, 0, 0, 0, 0, 0, 0, 0, 0, 0, 0, 0, 0, 0, ...</td>\n      <td>1.0</td>\n      <td>-1.866586</td>\n    </tr>\n    <tr>\n      <td>17039</td>\n      <td>broad</td>\n      <td>nafamostat</td>\n      <td>[0, 0, 0, 0, 0, 0, 0, 0, 0, 0, 0, 0, 0, 0, 0, ...</td>\n      <td>1.0</td>\n      <td>-1.866586</td>\n    </tr>\n    <tr>\n      <td>8697</td>\n      <td>drugbank</td>\n      <td>Nafamostat</td>\n      <td>[0, 0, 0, 0, 0, 0, 0, 0, 0, 0, 0, 0, 0, 0, 0, ...</td>\n      <td>1.0</td>\n      <td>-1.866586</td>\n    </tr>\n    <tr>\n      <td>20636</td>\n      <td>broad</td>\n      <td>vasopressin</td>\n      <td>[0, 1, 0, 0, 0, 0, 0, 0, 0, 0, 0, 0, 0, 0, 0, ...</td>\n      <td>1.0</td>\n      <td>-1.845739</td>\n    </tr>\n    <tr>\n      <td>16384</td>\n      <td>broad</td>\n      <td>lypressin</td>\n      <td>[0, 1, 0, 0, 0, 0, 0, 0, 0, 0, 0, 0, 0, 0, 0, ...</td>\n      <td>1.0</td>\n      <td>-1.757209</td>\n    </tr>\n  </tbody>\n</table>\n</div>"
     },
     "metadata": {},
     "execution_count": 22
    }
   ],
   "source": [
    "#identify top hits\n",
    "active_screening_compounds['pred_value'] = pred_values\n",
    "active_screening_compounds.sort_values(by='pred_value').head(20)"
   ]
  },
  {
   "cell_type": "code",
   "execution_count": 23,
   "metadata": {},
   "outputs": [
    {
     "output_type": "execute_result",
     "data": {
      "text/plain": "(array([  1.,   0.,   2.,   2.,  14.,  27.,  78., 104.,  76.,  61.,  71.,\n         34.,  20.,   4.,   4.,   2.,   1.,   0.,   1.,   1.]),\n array([-4.57385111, -4.01866741, -3.46348372, -2.90830002, -2.35311633,\n        -1.79793263, -1.24274894, -0.68756524, -0.13238154,  0.42280215,\n         0.97798585,  1.53316954,  2.08835324,  2.64353694,  3.19872063,\n         3.75390433,  4.30908802,  4.86427172,  5.41945542,  5.97463911,\n         6.52982281]),\n <a list of 20 Patch objects>)"
     },
     "metadata": {},
     "execution_count": 23
    },
    {
     "output_type": "display_data",
     "data": {
      "text/plain": "<Figure size 432x288 with 1 Axes>",
      "image/svg+xml": "<?xml version=\"1.0\" encoding=\"utf-8\" standalone=\"no\"?>\n<!DOCTYPE svg PUBLIC \"-//W3C//DTD SVG 1.1//EN\"\n  \"http://www.w3.org/Graphics/SVG/1.1/DTD/svg11.dtd\">\n<!-- Created with matplotlib (https://matplotlib.org/) -->\n<svg height=\"248.518125pt\" version=\"1.1\" viewBox=\"0 0 375.2875 248.518125\" width=\"375.2875pt\" xmlns=\"http://www.w3.org/2000/svg\" xmlns:xlink=\"http://www.w3.org/1999/xlink\">\n <defs>\n  <style type=\"text/css\">\n*{stroke-linecap:butt;stroke-linejoin:round;}\n  </style>\n </defs>\n <g id=\"figure_1\">\n  <g id=\"patch_1\">\n   <path d=\"M 0 248.518125 \nL 375.2875 248.518125 \nL 375.2875 0 \nL 0 0 \nz\n\" style=\"fill:none;\"/>\n  </g>\n  <g id=\"axes_1\">\n   <g id=\"patch_2\">\n    <path d=\"M 33.2875 224.64 \nL 368.0875 224.64 \nL 368.0875 7.2 \nL 33.2875 7.2 \nz\n\" style=\"fill:#ffffff;\"/>\n   </g>\n   <g id=\"patch_3\">\n    <path clip-path=\"url(#p253952942a)\" d=\"M 48.505682 224.64 \nL 63.723864 224.64 \nL 63.723864 222.648791 \nL 48.505682 222.648791 \nz\n\" style=\"fill:#1f77b4;\"/>\n   </g>\n   <g id=\"patch_4\">\n    <path clip-path=\"url(#p253952942a)\" d=\"M 63.723864 224.64 \nL 78.942045 224.64 \nL 78.942045 224.64 \nL 63.723864 224.64 \nz\n\" style=\"fill:#1f77b4;\"/>\n   </g>\n   <g id=\"patch_5\">\n    <path clip-path=\"url(#p253952942a)\" d=\"M 78.942045 224.64 \nL 94.160227 224.64 \nL 94.160227 220.657582 \nL 78.942045 220.657582 \nz\n\" style=\"fill:#1f77b4;\"/>\n   </g>\n   <g id=\"patch_6\">\n    <path clip-path=\"url(#p253952942a)\" d=\"M 94.160227 224.64 \nL 109.378409 224.64 \nL 109.378409 220.657582 \nL 94.160227 220.657582 \nz\n\" style=\"fill:#1f77b4;\"/>\n   </g>\n   <g id=\"patch_7\">\n    <path clip-path=\"url(#p253952942a)\" d=\"M 109.378409 224.64 \nL 124.596591 224.64 \nL 124.596591 196.763077 \nL 109.378409 196.763077 \nz\n\" style=\"fill:#1f77b4;\"/>\n   </g>\n   <g id=\"patch_8\">\n    <path clip-path=\"url(#p253952942a)\" d=\"M 124.596591 224.64 \nL 139.814773 224.64 \nL 139.814773 170.877363 \nL 124.596591 170.877363 \nz\n\" style=\"fill:#1f77b4;\"/>\n   </g>\n   <g id=\"patch_9\">\n    <path clip-path=\"url(#p253952942a)\" d=\"M 139.814773 224.64 \nL 155.032955 224.64 \nL 155.032955 69.325714 \nL 139.814773 69.325714 \nz\n\" style=\"fill:#1f77b4;\"/>\n   </g>\n   <g id=\"patch_10\">\n    <path clip-path=\"url(#p253952942a)\" d=\"M 155.032955 224.64 \nL 170.251136 224.64 \nL 170.251136 17.554286 \nL 155.032955 17.554286 \nz\n\" style=\"fill:#1f77b4;\"/>\n   </g>\n   <g id=\"patch_11\">\n    <path clip-path=\"url(#p253952942a)\" d=\"M 170.251136 224.64 \nL 185.469318 224.64 \nL 185.469318 73.308132 \nL 170.251136 73.308132 \nz\n\" style=\"fill:#1f77b4;\"/>\n   </g>\n   <g id=\"patch_12\">\n    <path clip-path=\"url(#p253952942a)\" d=\"M 185.469318 224.64 \nL 200.6875 224.64 \nL 200.6875 103.176264 \nL 185.469318 103.176264 \nz\n\" style=\"fill:#1f77b4;\"/>\n   </g>\n   <g id=\"patch_13\">\n    <path clip-path=\"url(#p253952942a)\" d=\"M 200.6875 224.64 \nL 215.905682 224.64 \nL 215.905682 83.264176 \nL 200.6875 83.264176 \nz\n\" style=\"fill:#1f77b4;\"/>\n   </g>\n   <g id=\"patch_14\">\n    <path clip-path=\"url(#p253952942a)\" d=\"M 215.905682 224.64 \nL 231.123864 224.64 \nL 231.123864 156.938901 \nL 215.905682 156.938901 \nz\n\" style=\"fill:#1f77b4;\"/>\n   </g>\n   <g id=\"patch_15\">\n    <path clip-path=\"url(#p253952942a)\" d=\"M 231.123864 224.64 \nL 246.342045 224.64 \nL 246.342045 184.815824 \nL 231.123864 184.815824 \nz\n\" style=\"fill:#1f77b4;\"/>\n   </g>\n   <g id=\"patch_16\">\n    <path clip-path=\"url(#p253952942a)\" d=\"M 246.342045 224.64 \nL 261.560227 224.64 \nL 261.560227 216.675165 \nL 246.342045 216.675165 \nz\n\" style=\"fill:#1f77b4;\"/>\n   </g>\n   <g id=\"patch_17\">\n    <path clip-path=\"url(#p253952942a)\" d=\"M 261.560227 224.64 \nL 276.778409 224.64 \nL 276.778409 216.675165 \nL 261.560227 216.675165 \nz\n\" style=\"fill:#1f77b4;\"/>\n   </g>\n   <g id=\"patch_18\">\n    <path clip-path=\"url(#p253952942a)\" d=\"M 276.778409 224.64 \nL 291.996591 224.64 \nL 291.996591 220.657582 \nL 276.778409 220.657582 \nz\n\" style=\"fill:#1f77b4;\"/>\n   </g>\n   <g id=\"patch_19\">\n    <path clip-path=\"url(#p253952942a)\" d=\"M 291.996591 224.64 \nL 307.214773 224.64 \nL 307.214773 222.648791 \nL 291.996591 222.648791 \nz\n\" style=\"fill:#1f77b4;\"/>\n   </g>\n   <g id=\"patch_20\">\n    <path clip-path=\"url(#p253952942a)\" d=\"M 307.214773 224.64 \nL 322.432955 224.64 \nL 322.432955 224.64 \nL 307.214773 224.64 \nz\n\" style=\"fill:#1f77b4;\"/>\n   </g>\n   <g id=\"patch_21\">\n    <path clip-path=\"url(#p253952942a)\" d=\"M 322.432955 224.64 \nL 337.651136 224.64 \nL 337.651136 222.648791 \nL 322.432955 222.648791 \nz\n\" style=\"fill:#1f77b4;\"/>\n   </g>\n   <g id=\"patch_22\">\n    <path clip-path=\"url(#p253952942a)\" d=\"M 337.651136 224.64 \nL 352.869318 224.64 \nL 352.869318 222.648791 \nL 337.651136 222.648791 \nz\n\" style=\"fill:#1f77b4;\"/>\n   </g>\n   <g id=\"matplotlib.axis_1\">\n    <g id=\"xtick_1\">\n     <g id=\"line2d_1\">\n      <defs>\n       <path d=\"M 0 0 \nL 0 3.5 \n\" id=\"m5fdb5137ef\" style=\"stroke:#000000;stroke-width:0.8;\"/>\n      </defs>\n      <g>\n       <use style=\"stroke:#000000;stroke-width:0.8;\" x=\"64.235558\" xlink:href=\"#m5fdb5137ef\" y=\"224.64\"/>\n      </g>\n     </g>\n     <g id=\"text_1\">\n      <!-- −4 -->\n      <defs>\n       <path d=\"M 10.59375 35.5 \nL 73.1875 35.5 \nL 73.1875 27.203125 \nL 10.59375 27.203125 \nz\n\" id=\"DejaVuSans-8722\"/>\n       <path d=\"M 37.796875 64.3125 \nL 12.890625 25.390625 \nL 37.796875 25.390625 \nz\nM 35.203125 72.90625 \nL 47.609375 72.90625 \nL 47.609375 25.390625 \nL 58.015625 25.390625 \nL 58.015625 17.1875 \nL 47.609375 17.1875 \nL 47.609375 0 \nL 37.796875 0 \nL 37.796875 17.1875 \nL 4.890625 17.1875 \nL 4.890625 26.703125 \nz\n\" id=\"DejaVuSans-52\"/>\n      </defs>\n      <g transform=\"translate(56.864464 239.238437)scale(0.1 -0.1)\">\n       <use xlink:href=\"#DejaVuSans-8722\"/>\n       <use x=\"83.789062\" xlink:href=\"#DejaVuSans-52\"/>\n      </g>\n     </g>\n    </g>\n    <g id=\"xtick_2\">\n     <g id=\"line2d_2\">\n      <g>\n       <use style=\"stroke:#000000;stroke-width:0.8;\" x=\"119.057707\" xlink:href=\"#m5fdb5137ef\" y=\"224.64\"/>\n      </g>\n     </g>\n     <g id=\"text_2\">\n      <!-- −2 -->\n      <defs>\n       <path d=\"M 19.1875 8.296875 \nL 53.609375 8.296875 \nL 53.609375 0 \nL 7.328125 0 \nL 7.328125 8.296875 \nQ 12.9375 14.109375 22.625 23.890625 \nQ 32.328125 33.6875 34.8125 36.53125 \nQ 39.546875 41.84375 41.421875 45.53125 \nQ 43.3125 49.21875 43.3125 52.78125 \nQ 43.3125 58.59375 39.234375 62.25 \nQ 35.15625 65.921875 28.609375 65.921875 \nQ 23.96875 65.921875 18.8125 64.3125 \nQ 13.671875 62.703125 7.8125 59.421875 \nL 7.8125 69.390625 \nQ 13.765625 71.78125 18.9375 73 \nQ 24.125 74.21875 28.421875 74.21875 \nQ 39.75 74.21875 46.484375 68.546875 \nQ 53.21875 62.890625 53.21875 53.421875 \nQ 53.21875 48.921875 51.53125 44.890625 \nQ 49.859375 40.875 45.40625 35.40625 \nQ 44.1875 33.984375 37.640625 27.21875 \nQ 31.109375 20.453125 19.1875 8.296875 \nz\n\" id=\"DejaVuSans-50\"/>\n      </defs>\n      <g transform=\"translate(111.686613 239.238437)scale(0.1 -0.1)\">\n       <use xlink:href=\"#DejaVuSans-8722\"/>\n       <use x=\"83.789062\" xlink:href=\"#DejaVuSans-50\"/>\n      </g>\n     </g>\n    </g>\n    <g id=\"xtick_3\">\n     <g id=\"line2d_3\">\n      <g>\n       <use style=\"stroke:#000000;stroke-width:0.8;\" x=\"173.879857\" xlink:href=\"#m5fdb5137ef\" y=\"224.64\"/>\n      </g>\n     </g>\n     <g id=\"text_3\">\n      <!-- 0 -->\n      <defs>\n       <path d=\"M 31.78125 66.40625 \nQ 24.171875 66.40625 20.328125 58.90625 \nQ 16.5 51.421875 16.5 36.375 \nQ 16.5 21.390625 20.328125 13.890625 \nQ 24.171875 6.390625 31.78125 6.390625 \nQ 39.453125 6.390625 43.28125 13.890625 \nQ 47.125 21.390625 47.125 36.375 \nQ 47.125 51.421875 43.28125 58.90625 \nQ 39.453125 66.40625 31.78125 66.40625 \nz\nM 31.78125 74.21875 \nQ 44.046875 74.21875 50.515625 64.515625 \nQ 56.984375 54.828125 56.984375 36.375 \nQ 56.984375 17.96875 50.515625 8.265625 \nQ 44.046875 -1.421875 31.78125 -1.421875 \nQ 19.53125 -1.421875 13.0625 8.265625 \nQ 6.59375 17.96875 6.59375 36.375 \nQ 6.59375 54.828125 13.0625 64.515625 \nQ 19.53125 74.21875 31.78125 74.21875 \nz\n\" id=\"DejaVuSans-48\"/>\n      </defs>\n      <g transform=\"translate(170.698607 239.238437)scale(0.1 -0.1)\">\n       <use xlink:href=\"#DejaVuSans-48\"/>\n      </g>\n     </g>\n    </g>\n    <g id=\"xtick_4\">\n     <g id=\"line2d_4\">\n      <g>\n       <use style=\"stroke:#000000;stroke-width:0.8;\" x=\"228.702006\" xlink:href=\"#m5fdb5137ef\" y=\"224.64\"/>\n      </g>\n     </g>\n     <g id=\"text_4\">\n      <!-- 2 -->\n      <g transform=\"translate(225.520756 239.238437)scale(0.1 -0.1)\">\n       <use xlink:href=\"#DejaVuSans-50\"/>\n      </g>\n     </g>\n    </g>\n    <g id=\"xtick_5\">\n     <g id=\"line2d_5\">\n      <g>\n       <use style=\"stroke:#000000;stroke-width:0.8;\" x=\"283.524156\" xlink:href=\"#m5fdb5137ef\" y=\"224.64\"/>\n      </g>\n     </g>\n     <g id=\"text_5\">\n      <!-- 4 -->\n      <g transform=\"translate(280.342906 239.238437)scale(0.1 -0.1)\">\n       <use xlink:href=\"#DejaVuSans-52\"/>\n      </g>\n     </g>\n    </g>\n    <g id=\"xtick_6\">\n     <g id=\"line2d_6\">\n      <g>\n       <use style=\"stroke:#000000;stroke-width:0.8;\" x=\"338.346306\" xlink:href=\"#m5fdb5137ef\" y=\"224.64\"/>\n      </g>\n     </g>\n     <g id=\"text_6\">\n      <!-- 6 -->\n      <defs>\n       <path d=\"M 33.015625 40.375 \nQ 26.375 40.375 22.484375 35.828125 \nQ 18.609375 31.296875 18.609375 23.390625 \nQ 18.609375 15.53125 22.484375 10.953125 \nQ 26.375 6.390625 33.015625 6.390625 \nQ 39.65625 6.390625 43.53125 10.953125 \nQ 47.40625 15.53125 47.40625 23.390625 \nQ 47.40625 31.296875 43.53125 35.828125 \nQ 39.65625 40.375 33.015625 40.375 \nz\nM 52.59375 71.296875 \nL 52.59375 62.3125 \nQ 48.875 64.0625 45.09375 64.984375 \nQ 41.3125 65.921875 37.59375 65.921875 \nQ 27.828125 65.921875 22.671875 59.328125 \nQ 17.53125 52.734375 16.796875 39.40625 \nQ 19.671875 43.65625 24.015625 45.921875 \nQ 28.375 48.1875 33.59375 48.1875 \nQ 44.578125 48.1875 50.953125 41.515625 \nQ 57.328125 34.859375 57.328125 23.390625 \nQ 57.328125 12.15625 50.6875 5.359375 \nQ 44.046875 -1.421875 33.015625 -1.421875 \nQ 20.359375 -1.421875 13.671875 8.265625 \nQ 6.984375 17.96875 6.984375 36.375 \nQ 6.984375 53.65625 15.1875 63.9375 \nQ 23.390625 74.21875 37.203125 74.21875 \nQ 40.921875 74.21875 44.703125 73.484375 \nQ 48.484375 72.75 52.59375 71.296875 \nz\n\" id=\"DejaVuSans-54\"/>\n      </defs>\n      <g transform=\"translate(335.165056 239.238437)scale(0.1 -0.1)\">\n       <use xlink:href=\"#DejaVuSans-54\"/>\n      </g>\n     </g>\n    </g>\n   </g>\n   <g id=\"matplotlib.axis_2\">\n    <g id=\"ytick_1\">\n     <g id=\"line2d_7\">\n      <defs>\n       <path d=\"M 0 0 \nL -3.5 0 \n\" id=\"m91a3616b48\" style=\"stroke:#000000;stroke-width:0.8;\"/>\n      </defs>\n      <g>\n       <use style=\"stroke:#000000;stroke-width:0.8;\" x=\"33.2875\" xlink:href=\"#m91a3616b48\" y=\"224.64\"/>\n      </g>\n     </g>\n     <g id=\"text_7\">\n      <!-- 0 -->\n      <g transform=\"translate(19.925 228.439219)scale(0.1 -0.1)\">\n       <use xlink:href=\"#DejaVuSans-48\"/>\n      </g>\n     </g>\n    </g>\n    <g id=\"ytick_2\">\n     <g id=\"line2d_8\">\n      <g>\n       <use style=\"stroke:#000000;stroke-width:0.8;\" x=\"33.2875\" xlink:href=\"#m91a3616b48\" y=\"184.815824\"/>\n      </g>\n     </g>\n     <g id=\"text_8\">\n      <!-- 20 -->\n      <g transform=\"translate(13.5625 188.615043)scale(0.1 -0.1)\">\n       <use xlink:href=\"#DejaVuSans-50\"/>\n       <use x=\"63.623047\" xlink:href=\"#DejaVuSans-48\"/>\n      </g>\n     </g>\n    </g>\n    <g id=\"ytick_3\">\n     <g id=\"line2d_9\">\n      <g>\n       <use style=\"stroke:#000000;stroke-width:0.8;\" x=\"33.2875\" xlink:href=\"#m91a3616b48\" y=\"144.991648\"/>\n      </g>\n     </g>\n     <g id=\"text_9\">\n      <!-- 40 -->\n      <g transform=\"translate(13.5625 148.790867)scale(0.1 -0.1)\">\n       <use xlink:href=\"#DejaVuSans-52\"/>\n       <use x=\"63.623047\" xlink:href=\"#DejaVuSans-48\"/>\n      </g>\n     </g>\n    </g>\n    <g id=\"ytick_4\">\n     <g id=\"line2d_10\">\n      <g>\n       <use style=\"stroke:#000000;stroke-width:0.8;\" x=\"33.2875\" xlink:href=\"#m91a3616b48\" y=\"105.167473\"/>\n      </g>\n     </g>\n     <g id=\"text_10\">\n      <!-- 60 -->\n      <g transform=\"translate(13.5625 108.966691)scale(0.1 -0.1)\">\n       <use xlink:href=\"#DejaVuSans-54\"/>\n       <use x=\"63.623047\" xlink:href=\"#DejaVuSans-48\"/>\n      </g>\n     </g>\n    </g>\n    <g id=\"ytick_5\">\n     <g id=\"line2d_11\">\n      <g>\n       <use style=\"stroke:#000000;stroke-width:0.8;\" x=\"33.2875\" xlink:href=\"#m91a3616b48\" y=\"65.343297\"/>\n      </g>\n     </g>\n     <g id=\"text_11\">\n      <!-- 80 -->\n      <defs>\n       <path d=\"M 31.78125 34.625 \nQ 24.75 34.625 20.71875 30.859375 \nQ 16.703125 27.09375 16.703125 20.515625 \nQ 16.703125 13.921875 20.71875 10.15625 \nQ 24.75 6.390625 31.78125 6.390625 \nQ 38.8125 6.390625 42.859375 10.171875 \nQ 46.921875 13.96875 46.921875 20.515625 \nQ 46.921875 27.09375 42.890625 30.859375 \nQ 38.875 34.625 31.78125 34.625 \nz\nM 21.921875 38.8125 \nQ 15.578125 40.375 12.03125 44.71875 \nQ 8.5 49.078125 8.5 55.328125 \nQ 8.5 64.0625 14.71875 69.140625 \nQ 20.953125 74.21875 31.78125 74.21875 \nQ 42.671875 74.21875 48.875 69.140625 \nQ 55.078125 64.0625 55.078125 55.328125 \nQ 55.078125 49.078125 51.53125 44.71875 \nQ 48 40.375 41.703125 38.8125 \nQ 48.828125 37.15625 52.796875 32.3125 \nQ 56.78125 27.484375 56.78125 20.515625 \nQ 56.78125 9.90625 50.3125 4.234375 \nQ 43.84375 -1.421875 31.78125 -1.421875 \nQ 19.734375 -1.421875 13.25 4.234375 \nQ 6.78125 9.90625 6.78125 20.515625 \nQ 6.78125 27.484375 10.78125 32.3125 \nQ 14.796875 37.15625 21.921875 38.8125 \nz\nM 18.3125 54.390625 \nQ 18.3125 48.734375 21.84375 45.5625 \nQ 25.390625 42.390625 31.78125 42.390625 \nQ 38.140625 42.390625 41.71875 45.5625 \nQ 45.3125 48.734375 45.3125 54.390625 \nQ 45.3125 60.0625 41.71875 63.234375 \nQ 38.140625 66.40625 31.78125 66.40625 \nQ 25.390625 66.40625 21.84375 63.234375 \nQ 18.3125 60.0625 18.3125 54.390625 \nz\n\" id=\"DejaVuSans-56\"/>\n      </defs>\n      <g transform=\"translate(13.5625 69.142515)scale(0.1 -0.1)\">\n       <use xlink:href=\"#DejaVuSans-56\"/>\n       <use x=\"63.623047\" xlink:href=\"#DejaVuSans-48\"/>\n      </g>\n     </g>\n    </g>\n    <g id=\"ytick_6\">\n     <g id=\"line2d_12\">\n      <g>\n       <use style=\"stroke:#000000;stroke-width:0.8;\" x=\"33.2875\" xlink:href=\"#m91a3616b48\" y=\"25.519121\"/>\n      </g>\n     </g>\n     <g id=\"text_12\">\n      <!-- 100 -->\n      <defs>\n       <path d=\"M 12.40625 8.296875 \nL 28.515625 8.296875 \nL 28.515625 63.921875 \nL 10.984375 60.40625 \nL 10.984375 69.390625 \nL 28.421875 72.90625 \nL 38.28125 72.90625 \nL 38.28125 8.296875 \nL 54.390625 8.296875 \nL 54.390625 0 \nL 12.40625 0 \nz\n\" id=\"DejaVuSans-49\"/>\n      </defs>\n      <g transform=\"translate(7.2 29.31834)scale(0.1 -0.1)\">\n       <use xlink:href=\"#DejaVuSans-49\"/>\n       <use x=\"63.623047\" xlink:href=\"#DejaVuSans-48\"/>\n       <use x=\"127.246094\" xlink:href=\"#DejaVuSans-48\"/>\n      </g>\n     </g>\n    </g>\n   </g>\n   <g id=\"patch_23\">\n    <path d=\"M 33.2875 224.64 \nL 33.2875 7.2 \n\" style=\"fill:none;stroke:#000000;stroke-linecap:square;stroke-linejoin:miter;stroke-width:0.8;\"/>\n   </g>\n   <g id=\"patch_24\">\n    <path d=\"M 368.0875 224.64 \nL 368.0875 7.2 \n\" style=\"fill:none;stroke:#000000;stroke-linecap:square;stroke-linejoin:miter;stroke-width:0.8;\"/>\n   </g>\n   <g id=\"patch_25\">\n    <path d=\"M 33.2875 224.64 \nL 368.0875 224.64 \n\" style=\"fill:none;stroke:#000000;stroke-linecap:square;stroke-linejoin:miter;stroke-width:0.8;\"/>\n   </g>\n   <g id=\"patch_26\">\n    <path d=\"M 33.2875 7.2 \nL 368.0875 7.2 \n\" style=\"fill:none;stroke:#000000;stroke-linecap:square;stroke-linejoin:miter;stroke-width:0.8;\"/>\n   </g>\n  </g>\n </g>\n <defs>\n  <clipPath id=\"p253952942a\">\n   <rect height=\"217.44\" width=\"334.8\" x=\"33.2875\" y=\"7.2\"/>\n  </clipPath>\n </defs>\n</svg>\n",
      "image/png": "[encoded data removed]"
     },
     "metadata": {
      "needs_background": "light"
     }
    }
   ],
   "source": [
    "plt.hist(active_screening_compounds.pred_value, bins = 20)"
   ]
  },
  {
   "cell_type": "code",
   "execution_count": 24,
   "metadata": {
    "tags": []
   },
   "outputs": [
    {
     "output_type": "execute_result",
     "data": {
      "text/plain": "         source        name  \\\n8697   drugbank  Nafamostat   \n10797   reframe  Nafamostat   \n\n                                      morgan_fingerprint  predictions  \\\n8697   [0, 0, 0, 0, 0, 0, 0, 0, 0, 0, 0, 0, 0, 0, 0, ...          1.0   \n10797  [0, 0, 0, 0, 0, 0, 0, 0, 0, 0, 0, 1, 0, 0, 0, ...          1.0   \n\n       pred_value  \n8697    -1.866586  \n10797   -4.573851  ",
      "text/html": "<div>\n<style scoped>\n    .dataframe tbody tr th:only-of-type {\n        vertical-align: middle;\n    }\n\n    .dataframe tbody tr th {\n        vertical-align: top;\n    }\n\n    .dataframe thead th {\n        text-align: right;\n    }\n</style>\n<table border=\"1\" class=\"dataframe\">\n  <thead>\n    <tr style=\"text-align: right;\">\n      <th></th>\n      <th>source</th>\n      <th>name</th>\n      <th>morgan_fingerprint</th>\n      <th>predictions</th>\n      <th>pred_value</th>\n    </tr>\n  </thead>\n  <tbody>\n    <tr>\n      <td>8697</td>\n      <td>drugbank</td>\n      <td>Nafamostat</td>\n      <td>[0, 0, 0, 0, 0, 0, 0, 0, 0, 0, 0, 0, 0, 0, 0, ...</td>\n      <td>1.0</td>\n      <td>-1.866586</td>\n    </tr>\n    <tr>\n      <td>10797</td>\n      <td>reframe</td>\n      <td>Nafamostat</td>\n      <td>[0, 0, 0, 0, 0, 0, 0, 0, 0, 0, 0, 1, 0, 0, 0, ...</td>\n      <td>1.0</td>\n      <td>-4.573851</td>\n    </tr>\n  </tbody>\n</table>\n</div>"
     },
     "metadata": {},
     "execution_count": 24
    }
   ],
   "source": [
    "i=active_screening_compounds[active_screening_compounds['name']=='Nafamostat']\n",
    "i"
   ]
  },
  {
   "cell_type": "code",
   "execution_count": 25,
   "metadata": {},
   "outputs": [],
   "source": [
    "active_screening_compounds_sorted = active_screening_compounds.sort_values(by='pred_value')\n",
    "active_screening_compounds_sorted.to_csv('active_screening_compounds_sorted.zip')"
   ]
  },
  {
   "cell_type": "code",
   "execution_count": 27,
   "metadata": {},
   "outputs": [],
   "source": [
    "active_screening_compounds_sorted[\"name\"].str.lower()\n",
    "active_screening_compounds_sorted.drop_duplicates(subset=['name'], keep='first')\n",
    "active_screening_compounds_sorted.to_csv('active_screening_compounds_sorted_no_duplicate_names.zip')"
   ]
  },
  {
   "cell_type": "code",
   "execution_count": null,
   "metadata": {},
   "outputs": [],
   "source": []
  }
 ],
 "metadata": {
  "kernelspec": {
   "display_name": "Python 3",
   "language": "python",
   "name": "python3"
  },
  "language_info": {
   "codemirror_mode": {
    "name": "ipython",
    "version": 3
   },
   "file_extension": ".py",
   "mimetype": "text/x-python",
   "name": "python",
   "nbconvert_exporter": "python",
   "pygments_lexer": "ipython3",
   "version": "3.7.7-final"
  }
 },
 "nbformat": 4,
 "nbformat_minor": 4
}