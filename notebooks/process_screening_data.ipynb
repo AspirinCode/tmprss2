{
 "cells": [
  {
   "cell_type": "markdown",
   "metadata": {},
   "source": [
    "## Summary\n",
    "This notebook reworks code Shanna wrote to process the screening data. It does the following:\n",
    "\n",
    "1. Load data from DrugBank, ReFRAME, and Broad\n",
    "2. Creates RDkit molecules from the SMILES, standardizes and sanitizes the molecules by removing salts\n",
    "3. Calculate Morgan Fingerprints.\n",
    "4. Save fingerints, molecule names, and source dataset."
   ]
  },
  {
   "cell_type": "code",
   "execution_count": null,
   "metadata": {},
   "outputs": [],
   "source": [
    "import numpy as np\n",
    "import pandas as pd\n",
    "import rdkit\n",
    "\n",
    "from molvs import Standardizer\n",
    "from rdkit.Chem import PandasTools, SaltRemover, rdMolDescriptors, MolFromSmiles\n",
    "from rdkit import RDLogger\n",
    "RDLogger.DisableLog('rdApp.*')  # suppresses annoying RDKIT errors and warnings\n",
    "\n",
    "from tqdm import tqdm\n",
    "tqdm.pandas()"
   ]
  },
  {
   "cell_type": "markdown",
   "metadata": {},
   "source": [
    "### 1. Load Data"
   ]
  },
  {
   "cell_type": "code",
   "execution_count": null,
   "metadata": {},
   "outputs": [],
   "source": [
    "drugbank = PandasTools.LoadSDF('../data/screening_data/drugbank.sdf') #auto-sanitize function; don't need to do again\n",
    "reframe = pd.read_csv('../data/screening_data/reframe.csv', encoding='latin1')\n",
    "broad = pd.read_csv('../data/screening_data/broad.csv', delimiter=\"\\t\")\n",
    "print('len(drugbank) =', len(drugbank))\n",
    "print('len(reframe) =', len(reframe))\n",
    "print('len(broad) =', len(broad))"
   ]
  },
  {
   "cell_type": "code",
   "execution_count": null,
   "metadata": {},
   "outputs": [],
   "source": [
    "# combine into one dataframe\n",
    "screening_data = pd.DataFrame(columns=['source', 'name', 'smiles'])\n",
    "screening_data.source = ['drugbank']*len(drugbank) + ['reframe']*len(reframe) + ['broad']*len(broad)\n",
    "screening_data.name = pd.concat([drugbank.GENERIC_NAME, reframe.Name, broad.pert_iname], ignore_index=True)\n",
    "screening_data.smiles = pd.concat([drugbank.SMILES, reframe.SMILES, broad.smiles], ignore_index=True)\n",
    "\n",
    "print(f\"Dropping {screening_data['smiles'].isna().sum()} rows with missing SMILES\")\n",
    "screening_data.dropna(inplace=True)"
   ]
  },
  {
   "cell_type": "markdown",
   "metadata": {},
   "source": [
    "### 2. Create, standardize and sanitize molecules"
   ]
  },
  {
   "cell_type": "code",
   "execution_count": null,
   "metadata": {
    "scrolled": true
   },
   "outputs": [],
   "source": [
    "screening_data['rdkit_mol'] = screening_data['smiles'].progress_apply(MolFromSmiles)\n",
    "print(f\"Dropping {screening_data['rdkit_mol'].isna().sum()} rows which failed molecule creation\")\n",
    "screening_data.dropna(inplace=True)"
   ]
  },
  {
   "cell_type": "code",
   "execution_count": null,
   "metadata": {},
   "outputs": [],
   "source": [
    "# standardize molecules\n",
    "screening_data['rdkit_mol'] = screening_data['rdkit_mol'].progress_apply(Standardizer().standardize)"
   ]
  },
  {
   "cell_type": "code",
   "execution_count": null,
   "metadata": {},
   "outputs": [],
   "source": [
    "# remove salts\n",
    "screening_data['rdkit_mol'] = screening_data['rdkit_mol'].progress_apply(SaltRemover.SaltRemover().StripMol)"
   ]
  },
  {
   "cell_type": "markdown",
   "metadata": {},
   "source": [
    "### 3. Calculate Morgan Fingerprints"
   ]
  },
  {
   "cell_type": "code",
   "execution_count": null,
   "metadata": {},
   "outputs": [],
   "source": [
    "def calculate_morgan_fingerprint(mol):\n",
    "    fp = rdMolDescriptors.GetMorganFingerprintAsBitVect(mol, radius=2, useChirality=True)\n",
    "    bit_string = fp.ToBitString()\n",
    "    return np.array([int(char) for char in bit_string], dtype=np.uint8)\n",
    "screening_data['morgan_fingerprint'] = screening_data['rdkit_mol'].progress_apply(calculate_morgan_fingerprint)"
   ]
  },
  {
   "cell_type": "markdown",
   "metadata": {},
   "source": [
    "### 4. Save Results"
   ]
  },
  {
   "cell_type": "code",
   "execution_count": null,
   "metadata": {},
   "outputs": [],
   "source": [
    "assert not screening_data.isna().values.any()  # confirm clean data\n",
    "screening_data.drop(columns=['smiles', 'rdkit_mol']).to_pickle('../processed_data/screening_data_processed.pkl')"
   ]
  }
 ],
 "metadata": {
  "kernelspec": {
   "display_name": "Python 3",
   "language": "python",
   "name": "python3"
  },
  "language_info": {
   "codemirror_mode": {
    "name": "ipython",
    "version": 3
   },
   "file_extension": ".py",
   "mimetype": "text/x-python",
   "name": "python",
   "nbconvert_exporter": "python",
   "pygments_lexer": "ipython3",
   "version": "3.6.10"
  }
 },
 "nbformat": 4,
 "nbformat_minor": 4
}
