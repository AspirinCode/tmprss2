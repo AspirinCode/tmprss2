{
 "cells": [
  {
   "cell_type": "code",
   "execution_count": 1,
   "metadata": {},
   "outputs": [
    {
     "data": {
      "text/html": [
       "<div>\n",
       "<style scoped>\n",
       "    .dataframe tbody tr th:only-of-type {\n",
       "        vertical-align: middle;\n",
       "    }\n",
       "\n",
       "    .dataframe tbody tr th {\n",
       "        vertical-align: top;\n",
       "    }\n",
       "\n",
       "    .dataframe thead th {\n",
       "        text-align: right;\n",
       "    }\n",
       "</style>\n",
       "<table border=\"1\" class=\"dataframe\">\n",
       "  <thead>\n",
       "    <tr style=\"text-align: right;\">\n",
       "      <th></th>\n",
       "      <th>cid</th>\n",
       "      <th>acvalue</th>\n",
       "      <th>activity</th>\n",
       "      <th>smiles</th>\n",
       "    </tr>\n",
       "  </thead>\n",
       "  <tbody>\n",
       "    <tr>\n",
       "      <th>3</th>\n",
       "      <td>71460447</td>\n",
       "      <td>8.900</td>\n",
       "      <td>Active</td>\n",
       "      <td>C1=CC(=CC(=C1)S(=O)(=O)NCCC(=O)NCC2=CC=C(C=C2)...</td>\n",
       "    </tr>\n",
       "    <tr>\n",
       "      <th>4</th>\n",
       "      <td>71458616</td>\n",
       "      <td>7.600</td>\n",
       "      <td>Active</td>\n",
       "      <td>CC(C)(C)OC(=O)C1=CC=C(C=C1)NC(=O)CCNS(=O)(=O)C...</td>\n",
       "    </tr>\n",
       "    <tr>\n",
       "      <th>5</th>\n",
       "      <td>71462144</td>\n",
       "      <td>16.300</td>\n",
       "      <td>Active</td>\n",
       "      <td>C1=CC=C(C=C1)C[C@@H](C(=O)NCC2=CC=C(C=C2)C(=[N...</td>\n",
       "    </tr>\n",
       "    <tr>\n",
       "      <th>6</th>\n",
       "      <td>71454977</td>\n",
       "      <td>25.300</td>\n",
       "      <td>Active</td>\n",
       "      <td>C1=CC=C(C=C1)COC[C@@H](C(=O)NCC2=CC=C(C=C2)C(=...</td>\n",
       "    </tr>\n",
       "    <tr>\n",
       "      <th>7</th>\n",
       "      <td>71454982</td>\n",
       "      <td>22.000</td>\n",
       "      <td>Active</td>\n",
       "      <td>C1=CC(=CC=C1CNC(=O)CNS(=O)(=O)C2=CC=C(C=C2)C(=...</td>\n",
       "    </tr>\n",
       "    <tr>\n",
       "      <th>...</th>\n",
       "      <td>...</td>\n",
       "      <td>...</td>\n",
       "      <td>...</td>\n",
       "      <td>...</td>\n",
       "    </tr>\n",
       "    <tr>\n",
       "      <th>87</th>\n",
       "      <td>90666144</td>\n",
       "      <td>0.013</td>\n",
       "      <td>Active</td>\n",
       "      <td>CNC(=O)NCCC1CCN(CC1)C(=O)[C@H](CC2=CC(=CC=C2)C...</td>\n",
       "    </tr>\n",
       "    <tr>\n",
       "      <th>88</th>\n",
       "      <td>90666145</td>\n",
       "      <td>0.011</td>\n",
       "      <td>Active</td>\n",
       "      <td>CNC(=O)NCCC1CCN(CC1)C(=O)[C@H](CC2=CC(=CC=C2)C...</td>\n",
       "    </tr>\n",
       "    <tr>\n",
       "      <th>89</th>\n",
       "      <td>90666146</td>\n",
       "      <td>0.003</td>\n",
       "      <td>Active</td>\n",
       "      <td>COC1=CC(=C(C=C1)C2=CC(=CC=C2)S(=O)(=O)N[C@@H](...</td>\n",
       "    </tr>\n",
       "    <tr>\n",
       "      <th>90</th>\n",
       "      <td>90666147</td>\n",
       "      <td>0.005</td>\n",
       "      <td>Active</td>\n",
       "      <td>C1CCC(CC1)NC(=O)NC2CCN(CC2)C(=O)[C@H](CC3=CC(=...</td>\n",
       "    </tr>\n",
       "    <tr>\n",
       "      <th>91</th>\n",
       "      <td>-27</td>\n",
       "      <td>0.044</td>\n",
       "      <td>Active</td>\n",
       "      <td>N=C(C1=CC=C(C=C1)CNC([C@@H]2CCCN2C([C@@H](CCC3...</td>\n",
       "    </tr>\n",
       "  </tbody>\n",
       "</table>\n",
       "<p>769 rows × 4 columns</p>\n",
       "</div>"
      ],
      "text/plain": [
       "         cid  acvalue activity  \\\n",
       "3   71460447    8.900   Active   \n",
       "4   71458616    7.600   Active   \n",
       "5   71462144   16.300   Active   \n",
       "6   71454977   25.300   Active   \n",
       "7   71454982   22.000   Active   \n",
       "..       ...      ...      ...   \n",
       "87  90666144    0.013   Active   \n",
       "88  90666145    0.011   Active   \n",
       "89  90666146    0.003   Active   \n",
       "90  90666147    0.005   Active   \n",
       "91       -27    0.044   Active   \n",
       "\n",
       "                                               smiles  \n",
       "3   C1=CC(=CC(=C1)S(=O)(=O)NCCC(=O)NCC2=CC=C(C=C2)...  \n",
       "4   CC(C)(C)OC(=O)C1=CC=C(C=C1)NC(=O)CCNS(=O)(=O)C...  \n",
       "5   C1=CC=C(C=C1)C[C@@H](C(=O)NCC2=CC=C(C=C2)C(=[N...  \n",
       "6   C1=CC=C(C=C1)COC[C@@H](C(=O)NCC2=CC=C(C=C2)C(=...  \n",
       "7   C1=CC(=CC=C1CNC(=O)CNS(=O)(=O)C2=CC=C(C=C2)C(=...  \n",
       "..                                                ...  \n",
       "87  CNC(=O)NCCC1CCN(CC1)C(=O)[C@H](CC2=CC(=CC=C2)C...  \n",
       "88  CNC(=O)NCCC1CCN(CC1)C(=O)[C@H](CC2=CC(=CC=C2)C...  \n",
       "89  COC1=CC(=C(C=C1)C2=CC(=CC=C2)S(=O)(=O)N[C@@H](...  \n",
       "90  C1CCC(CC1)NC(=O)NC2CCN(CC2)C(=O)[C@H](CC3=CC(=...  \n",
       "91  N=C(C1=CC=C(C=C1)CNC([C@@H]2CCCN2C([C@@H](CCC3...  \n",
       "\n",
       "[769 rows x 4 columns]"
      ]
     },
     "execution_count": 1,
     "metadata": {},
     "output_type": "execute_result"
    }
   ],
   "source": [
    "import pandas as pd\n",
    "import itertools\n",
    "from sklearn.ensemble import RandomForestClassifier, RandomForestRegressor\n",
    "from sklearn.model_selection import train_test_split\n",
    "from sklearn.inspection import permutation_importance\n",
    "from sklearn.metrics import classification_report, confusion_matrix\n",
    "\n",
    "import matplotlib.pyplot as plt\n",
    "import numpy as np\n",
    "\n",
    "#load data labels and RDkit fingerprints\n",
    "#naively assign data for all proteins to one giant array\n",
    "f_truth = pd.read_csv('TMPRSS2_processed.csv')\n",
    "f_tmpss11d = pd.read_csv('TMPRSS11D_processed.csv')\n",
    "f_st14 = pd.read_csv('ST14_processed.csv')\n",
    "f_tmprss6 = pd.read_csv('TMPRSS6_processed.csv')\n",
    "f_klkb1 = pd.read_csv('KLKB1_processed.csv')\n",
    "fp_dark=np.load('DarkChemicalMatter_morgan_fingerprints.npz')\n",
    "fp_dark=fp_dark['fps']\n",
    "fp_tmprss11d = np.load('TMPRSS11D_morgan_fingerprints.npz')\n",
    "fp_st14 = np.load('ST14_morgan_fingerprints.npz')\n",
    "fp_tmprss6= np.load('TMPRSS6_morgan_fingerprints.npz')\n",
    "fp_klkb1=np.load('KLKB1_morgan_fingerprints.npz')\n",
    "fp_truth=np.load('TMPRSS2_morgan_fingerprints.npz')\n",
    "f_truth= f_truth.assign(cid= [int(lkey) for lkey in list(fp_truth.keys())]) #reassign 0 cids\n",
    "#TODO: use combined dataset for training with xcorr vals\n",
    "#method 1: try to concat all datasets together\n",
    "features=pd.concat([f_tmprss6, f_klkb1, f_st14, f_tmpss11d, f_truth]) #concat datasets in order of closeness to tmprss2, from Doug's analysis\n",
    "features.drop_duplicates(subset='cid', keep='last') #prioritize activity from tmprss2 dataset"
   ]
  },
  {
   "cell_type": "code",
   "execution_count": 34,
   "metadata": {},
   "outputs": [
    {
     "name": "stdout",
     "output_type": "stream",
     "text": [
      "KeysView(<numpy.lib.npyio.NpzFile object at 0x11dbe16d0>)\n"
     ]
    }
   ],
   "source": [
    "print(list(fp_dark.keys()))"
   ]
  },
  {
   "cell_type": "code",
   "execution_count": 2,
   "metadata": {},
   "outputs": [],
   "source": [
    "features.head(5) #inspect data\n",
    "fps_merged = []\n",
    "ac_merged = []\n",
    "activity=[]\n",
    "cids=[]\n",
    "datalabels=[]\n",
    "#function to merge npz arrays\n",
    "def merge_keys(in_xarray, in_yarray, in_y2array, in_fp, in_data, in_cids,datalabel):\n",
    "     for i in range(len(in_fp.keys())):\n",
    "            if not int(list(in_fp.keys())[i]) in in_cids:\n",
    "                in_cids.append(int(list(in_fp.keys())[i]))\n",
    "                acval=in_data.loc[in_data['cid']==int(list(in_fp.keys())[i]), 'acvalue'].iloc[0]\n",
    "                active=in_data.loc[in_data['cid']==int(list(in_fp.keys())[i]), 'activity'].iloc[0]\n",
    "                in_yarray.append(acval)\n",
    "                in_xarray.append(in_fp[list(in_fp.keys())[i]])\n",
    "                if active == 'Active':\n",
    "                    in_y2array.append(1)\n",
    "                else:\n",
    "                    in_y2array.append(0)\n",
    "                datalabels.append(datalabel)\n",
    "     return in_xarray, in_yarray, in_y2array, in_cids, datalabels\n",
    "            "
   ]
  },
  {
   "cell_type": "code",
   "execution_count": 3,
   "metadata": {},
   "outputs": [],
   "source": [
    "#merge in order of similarity\n",
    "fps_merged, ac_merged, activity,cids,datalabels=merge_keys(fps_merged, ac_merged, activity, fp_truth, features, cids,datalabel='tmprss2')\n",
    "fps_merged, ac_merged, activity,cids,datalabels=merge_keys(fps_merged, ac_merged, activity, fp_tmprss11d, features,cids,datalabel='tmprss11d')\n",
    "fps_merged, ac_merged, activity,cids,datalabels=merge_keys(fps_merged, ac_merged, activity, fp_st14, features,cids,datalabel='st14')\n",
    "fps_merged, ac_merged, activity,cids,datalabels=merge_keys(fps_merged, ac_merged, activity, fp_klkb1, features,cids,datalabel='klkb1')\n",
    "fps_merged, ac_merged, activity,cids,datalabels=merge_keys(fps_merged, ac_merged, activity, fp_tmprss6, features,cids, datalabel='tmprss6')"
   ]
  },
  {
   "cell_type": "code",
   "execution_count": 5,
   "metadata": {},
   "outputs": [
    {
     "name": "stdout",
     "output_type": "stream",
     "text": [
      "[ 2.08092191  1.4202164   1.39794001  1.88605665  1.35654732  1.30103\n",
      "  0.77469072  0.79588002  1.27572413  1.4436975   0.49214413  0.47495519\n",
      "  0.40560745  0.50723961 -0.21298618 -0.21404868 -0.15381486  1.74472749\n",
      "  1.60205999  1.30103     1.28399666  1.16749109  1.16749109  0.84466396\n",
      "  0.67778071  0.5654311   0.38827669  0.13194364  0.30189945 -1.\n",
      "  0.69464863  0.73754891  1.13667714  0.65560773  0.82681373  0.80134291\n",
      "  0.67778071  1.16749109  0.86966623  1.76955108  1.36653154  1.4202164\n",
      "  1.69897     1.04575749  0.74472749  0.65757732 -0.462398    1.22184875\n",
      " -0.30103    -0.51851394 -0.5797836  -0.5797836   2.09691001  0.74472749\n",
      " -1.30103     0.13667714 -0.51851394 -0.59106461 -0.07918125 -0.11394335\n",
      "  0.33724217 -0.38021124 -0.2787536  -0.11394335 -0.25527251  0.10237291\n",
      "  1.74472749 -0.04139269  0.95860731  0.45593196  0.50863831  0.11350927\n",
      "  0.67778071  0.12493874  2.18708664  1.58502665  1.537602    0.39794001\n",
      " -0.11394335  0.23657201 -0.20411998 -0.50514998 -0.64345268 -0.32221929\n",
      " -0.47712125 -0.50514998  0.88605665  0.74472749  1.13667714 -0.15228834\n",
      "  0.02687215  1.35654732  1.1079054   1.63827216  1.46852108  1.32790214\n",
      "  1.65757732  1.46852108  0.29073004  1.52287875  1.29242982  1.24412514\n",
      "  0.37468755  1.85387196  0.36653154  0.27164622  0.69036983  0.71896663\n",
      " -0.65321251 -0.06445799 -1.14612804 -0.8573325   1.05060999  1.05551733\n",
      "  1.37675071  0.79588002  0.61978876  0.92081875  0.16115091  0.95860731\n",
      "  1.30103     0.85387196  1.88605665  1.34678749  1.58502665  0.39794001\n",
      "  0.13667714  2.82390874  0.16115091  1.67778071  1.27572413  1.4202164\n",
      "  1.88605665  1.27572413  2.06048075  1.55284197  1.05060999  0.69897\n",
      "  0.60205999  2.40893539  1.21467016  1.21467016  0.67778071  0.46852108\n",
      "  1.08618615  2.37675071  1.1426675   0.85387196  0.48148606  0.4202164\n",
      "  1.          1.12493874  1.18708664  1.01772877 -0.17609126  4.09691001\n",
      "  1.55284197  1.25181197  0.838632    2.1739252   2.62893214  0.92628165\n",
      "  1.92081875  2.26760624  2.60205999  1.88605665  2.79588002  1.04095861\n",
      "  1.32790214  3.06048075 -1.          1.38721614  0.74472749  0.9788107\n",
      "  2.24412514  1.22184875  0.32790214  1.         -0.38021124  2.21467016\n",
      "  1.43770714  1.76955108  1.18708664  0.74472749  0.59345982  2.20065945\n",
      "  1.27572413  1.27572413  1.51215488  0.82390874 -1.04139269  2.16749109\n",
      "  1.90135627  1.48811664 -0.51188336 -1.         -1.          0.74472749\n",
      "  0.42596873  4.05551733  2.02227639  2.85387196 -0.98227123 -0.462398\n",
      "  0.69897     0.69897     0.39794001 -0.07918125  0.69897     1.39794001\n",
      "  0.30103     0.22184875  1.39794001  1.          1.39794001  0.5214335\n",
      "  0.69036983  0.85078089  1.02687215 -0.25285303  3.         -0.0534626\n",
      " -0.3079237  -0.20871002  0.13667714  0.22841252  0.2636035   1.21467016\n",
      "  0.32790214 -0.02530587  0.38615818 -0.07261748  0.22767829  0.11350927\n",
      " -0.26717173  0.51570016  1.74472749  1.74472749  0.93554201  1.39794001\n",
      "  1.63827216  2.52287875 -0.29710365  0.08407279  2.22184875  0.10072681\n",
      "  0.58502665 -0.22993769  2.52287875  4.09691001  4.21467016  3.85387196\n",
      "  1.8706324   1.68214551  1.60484841  2.98716278  2.59176003  2.70333481\n",
      "  1.45842076  3.04095861  2.85387196  1.16115091  0.98296666  4.69897\n",
      "  2.03621217 -0.52504481 -0.85612444  0.20760831 -0.07918125  0.31875876\n",
      " -0.25527251 -1.17318627 -0.8260748   0.11918641 -0.66275783 -0.39794001\n",
      " -0.17609126  0.52287875 -0.41497335 -0.32221929  0.09691001 -0.68124124\n",
      "  0.30103     3.15490196  4.16115091  1.00877392  2.37675071  0.60906489\n",
      "  1.66154351  0.88605665  1.61083392  1.61978876  1.50863831  1.79588002\n",
      " -1.38021124  2.09151498  1.06048075  1.35163999  1.95860731  1.62893214\n",
      "  3.30980392  0.32790214  0.23657201  0.55284197 -0.10720997  0.08092191\n",
      "  0.07058107  0.09151498  0.45593196 -0.17897695  0.48148606  0.28399666\n",
      "  0.07058107 -0.18752072 -1.60745502 -1.68930886  0.27572413  0.29242982\n",
      " -1.13033377 -1.18752072 -0.64246452  0.27901426 -0.75587486 -0.71600334\n",
      "  0.3400838   2.85387196 -3.          0.07109231 -0.52244423 -0.38560627\n",
      " -0.13672057 -0.13033377  0.39794001  0.63827216  0.36051351 -0.4345689\n",
      " -0.63346846  0.838632    0.95078198 -1.17609126 -0.51851394 -0.86332286\n",
      " -1.34242268 -1.43136376 -0.69897    -1.54406804  1.55284197  2.69897\n",
      " -1.1903317   0.30103     2.39794001  1.05060999  2.30103     1.21467016\n",
      "  1.23657201 -1.2787536  -1.462398   -0.88081359 -1.5563025  -1.25527251\n",
      " -1.14612804 -1.07918125  0.24412514  0.95860731  2.7212464   0.09691001\n",
      " -0.11394335 -0.11394335 -0.68124124  0.22184875  1.88605665  2.22184875\n",
      "  2.39794001  2.52287875  2.09691001  2.52287875  1.92081875  2.30103\n",
      "  2.22184875  1.43179828  2.          1.18708664  3.30103     2.22184875\n",
      "  1.74472749  1.56863624 -1.63346846  1.43179828 -0.          1.34678749\n",
      " -0.92726768 -0.94939001 -0.47712125 -1.14612804 -0.79365072 -1.04139269\n",
      "  2.61978876  2.02687215  1.1739252   1.59859946  1.99567863  1.57511836\n",
      "  2.49485002  0.49485002 -0.462398    2.33724217  2.52287875  2.04575749\n",
      "  2.6216021   3.          0.11633856 -0.1172713   0.04095861  0.03621217\n",
      "  0.02687215 -0.58206336 -0.72181062 -0.27921051  1.69897     1.30103\n",
      " -0.70096318 -0.65321251 -0.13353891 -0.06818586 -0.16731733 -0.74350976\n",
      "  2.30103     2.69897    -0.53655844 -0.34576569  2.69897     0.48148606\n",
      " -0.28420507  1.22184875  0.65757732  1.34678749  2.09691001 -0.68304704\n",
      "  1.61978876  0.61978876  1.38721614  2.15490196 -0.5563025   1.30103\n",
      " -0.66275783 -0.23044892  1.69897     1.74472749  0.49485002  0.09474395\n",
      "  0.49894074  0.56863624  1.63827216  0.92081875  1.4436975   1.69897\n",
      "  1.61978876  0.95860731  0.45593196  0.61978876  1.55284197  0.67778071\n",
      "  0.88605665  1.22914799  1.25963731  2.12493874  0.46852108  0.76955108\n",
      "  1.33724217  0.82390874  1.37675071  0.25963731 -0.26717173  0.28399666\n",
      "  1.11350927  3.25181197  1.4202164   0.81107152  1.5941416   0.4710833\n",
      "  1.40571797 -0.58081097  1.66614985  0.17457388  2.52287875  1.22184875\n",
      " -0.30685375  3.          2.30103     2.52870829  1.30980392 -0.96932271\n",
      "  1.21853186  2.64397414  1.88605665  0.56735134 -0.11958577  0.29998894\n",
      "  1.28399666  2.39794001  0.86327943  3.          2.50863831 -0.59328607\n",
      "  2.16430943  0.70774393  0.97061622  1.05551733  2.39794001  0.66958623\n",
      "  1.537602    0.90343756  1.58502665  0.70136522  2.40893539  1.39794001\n",
      "  2.22184875 -0.78146814  0.83445892  1.34678749  0.01188716  2.52287875\n",
      "  1.57691804  1.80631897  1.3000756   3.          3.          1.55268689\n",
      "  0.28183059  0.78304279  2.4424928   0.44105155  2.12436006  0.13147311\n",
      "  2.24565166  2.69897     3.          2.05207638  2.69897     1.84436037\n",
      "  1.27572413 -0.01157044  1.16749109  2.4828041   1.82390874 -0.5276299\n",
      "  1.7212464   1.54196681  0.11441264  1.32790214  0.31569335  1.82390874\n",
      "  3.          0.92848619  2.39794001  2.22184875  1.18045606  1.76145211\n",
      "  2.69897     1.75995023  1.64685345  1.93554201  1.03962437  0.94846161\n",
      "  2.74714697 -0.29402509  0.3397988   2.31605287  0.72723041  2.69897\n",
      " -0.07918125  1.68151927  0.92996213  0.74714697 -0.14550717  0.90974195\n",
      "  1.39340369  2.09691001  3.          1.85387196  1.24825913  1.82390874\n",
      "  0.76700389  0.88605665  0.45345734  3.          0.96657624  2.19111413\n",
      "  1.7212464  -0.0374265   2.11013828  2.95467702  2.52287875  2.4710833\n",
      "  2.30103    -0.380573    0.9277501   0.50863831  1.65757732  2.52287875\n",
      "  1.92081875  2.15490196  1.4436975   0.7619539   1.29964247  1.52128924\n",
      "  2.          2.15490196  1.33724217  0.9788107   2.52287875  2.52287875\n",
      "  0.84405698  2.69897     2.15490196 -0.97639584  1.66414109  2.52287875\n",
      "  2.39794001  2.00130484  1.31875876  0.67305001  1.1739252   2.11182051\n",
      "  1.79642323  1.4202164   2.81815641  1.69723629  0.74088416  2.48811664\n",
      "  2.52287875  0.96697856  3.          2.40782324  2.23657201  1.20065945\n",
      "  0.51855737  1.62305824  1.32422166  1.35605409  0.52724355 -0.03941412\n",
      "  2.09691001  0.94309515  2.30103     0.62342304  3.         -0.51174971\n",
      "  2.30103     0.71444269  2.52287875  3.          2.40782324  3.\n",
      "  1.71556927  0.54333037  1.79588002  1.54196681  2.39794001  2.61618463\n",
      "  2.52287875  1.49894074  2.18976748  0.27205229 -1.0374265   2.60032628\n",
      "  1.74472749  1.63526144  1.56129947  1.55284197  1.65757732  1.7212464\n",
      "  1.45593196  1.48148606  2.          1.43179828  1.49485002         nan\n",
      "         nan -1.98677173 -1.76342799 -3.         -2.67760695 -2.88479536\n",
      " -3.         -2.8893017  -3.         -2.23044892 -1.30103    -2.91169016\n",
      " -2.76789762 -2.6009729  -1.89762709 -1.69897    -1.69897    -1.69897\n",
      " -1.69897    -1.69897    -1.69897    -1.69897    -1.69897    -1.28780173\n",
      " -0.36172784 -0.36172784 -0.36172784 -1.91907809 -0.44715803 -1.\n",
      " -1.20411998 -1.         -0.77815125 -1.03342376 -0.77815125 -0.77815125\n",
      " -1.03342376 -3.51851394 -2.50514998 -1.04139269 -0.77815125 -0.77815125\n",
      " -1.30103    -0.77815125 -0.77815125 -0.         -0.         -1.11461098\n",
      " -1.11461098 -0.94939001 -0.88081359 -1.2121876  -1.40312052 -1.34242268\n",
      " -1.38021124 -1.2787536  -1.43136376 -1.07188201 -1.60205999 -1.43136376\n",
      " -1.38021124 -1.62324929 -1.02938378 -1.60205999 -1.2787536  -1.68124124\n",
      " -1.09691001 -0.56584782 -0.79448805 -0.06445799 -2.33645973 -1.71600334\n",
      " -1.84509804 -2.1903317  -2.29225607 -2.31806333 -1.69897    -2.2121876\n",
      " -2.1430148  -1.91381385 -2.31597035 -1.81291336 -1.80617997 -1.81291336\n",
      " -2.13672057 -2.12057393 -1.94448267 -2.06069784 -2.2121876  -2.27184161\n",
      " -2.17026172]\n"
     ]
    }
   ],
   "source": [
    "#convert to array\n",
    "fps_merged=np.array(fps_merged)\n",
    "activity=np.array(activity)\n",
    "ac_merged=np.array(ac_merged)\n",
    "ac_merged=-np.log10(ac_merged)"
   ]
  },
  {
   "cell_type": "code",
   "execution_count": 6,
   "metadata": {},
   "outputs": [],
   "source": [
    "#split train and test \n",
    "#half of tmprss2 active compounds to each set\n",
    "import random\n",
    "s=np.arange(len(list(fp_truth.keys())))\n",
    "random.shuffle(s)\n",
    "cut=41\n",
    "test=s[0:cut]\n",
    "train=s[cut::]\n",
    "\n",
    "#add dark data. here we generate 1 test set that includes only data from TMPRSS2 dataset + negative examples\n",
    "#and training data culled from all protein datasets, + negative examples that are not in the test set.\n",
    "#the samples from TMPRSS2, and negative examples are sampled randomly to be about 50 percent.\n",
    "s=np.arange(len(fp_dark))\n",
    "random.shuffle(s)\n",
    "cut=round(len(fp_dark)/2)\n",
    "test_dark=s[0:cut]\n",
    "train_dark=s[cut::]\n",
    "X_test=np.concatenate((fps_merged[test], fp_dark[test_dark]))\n",
    "X_train=np.concatenate((fps_merged[train], fps_merged[92::], fp_dark[train_dark]))\n",
    "y_train=np.concatenate((activity[train], activity[92::], np.zeros([len(train_dark)])))\n",
    "y2_train=np.concatenate((ac_merged[train], ac_merged[92::], np.zeros([len(train_dark)])))\n",
    "y_test=np.concatenate((activity[test], np.zeros([len(test_dark)])))\n",
    "y2_test=np.concatenate((ac_merged[test],np.zeros([len(test_dark)])))"
   ]
  },
  {
   "cell_type": "code",
   "execution_count": 61,
   "metadata": {
    "scrolled": true
   },
   "outputs": [
    {
     "name": "stderr",
     "output_type": "stream",
     "text": [
      "[Parallel(n_jobs=1)]: Using backend SequentialBackend with 1 concurrent workers.\n"
     ]
    },
    {
     "name": "stdout",
     "output_type": "stream",
     "text": [
      "building tree 1 of 100\n"
     ]
    },
    {
     "name": "stderr",
     "output_type": "stream",
     "text": [
      "[Parallel(n_jobs=1)]: Done   1 out of   1 | elapsed:    0.8s remaining:    0.0s\n"
     ]
    },
    {
     "name": "stdout",
     "output_type": "stream",
     "text": [
      "building tree 2 of 100\n",
      "building tree 3 of 100\n",
      "building tree 4 of 100\n",
      "building tree 5 of 100\n",
      "building tree 6 of 100\n",
      "building tree 7 of 100\n",
      "building tree 8 of 100\n",
      "building tree 9 of 100\n",
      "building tree 10 of 100\n",
      "building tree 11 of 100\n",
      "building tree 12 of 100\n",
      "building tree 13 of 100\n",
      "building tree 14 of 100\n",
      "building tree 15 of 100\n",
      "building tree 16 of 100\n",
      "building tree 17 of 100\n",
      "building tree 18 of 100\n",
      "building tree 19 of 100\n",
      "building tree 20 of 100\n",
      "building tree 21 of 100\n",
      "building tree 22 of 100\n",
      "building tree 23 of 100\n",
      "building tree 24 of 100\n",
      "building tree 25 of 100\n",
      "building tree 26 of 100\n",
      "building tree 27 of 100\n",
      "building tree 28 of 100\n",
      "building tree 29 of 100\n",
      "building tree 30 of 100\n",
      "building tree 31 of 100\n",
      "building tree 32 of 100\n",
      "building tree 33 of 100\n",
      "building tree 34 of 100\n",
      "building tree 35 of 100\n",
      "building tree 36 of 100\n",
      "building tree 37 of 100\n",
      "building tree 38 of 100\n",
      "building tree 39 of 100\n",
      "building tree 40 of 100\n",
      "building tree 41 of 100\n",
      "building tree 42 of 100\n",
      "building tree 43 of 100\n",
      "building tree 44 of 100\n",
      "building tree 45 of 100\n",
      "building tree 46 of 100\n",
      "building tree 47 of 100\n",
      "building tree 48 of 100\n",
      "building tree 49 of 100\n",
      "building tree 50 of 100\n",
      "building tree 51 of 100\n",
      "building tree 52 of 100\n",
      "building tree 53 of 100\n",
      "building tree 54 of 100\n",
      "building tree 55 of 100\n",
      "building tree 56 of 100\n",
      "building tree 57 of 100\n",
      "building tree 58 of 100\n",
      "building tree 59 of 100\n",
      "building tree 60 of 100\n",
      "building tree 61 of 100\n",
      "building tree 62 of 100\n",
      "building tree 63 of 100\n",
      "building tree 64 of 100\n",
      "building tree 65 of 100\n",
      "building tree 66 of 100\n",
      "building tree 67 of 100\n",
      "building tree 68 of 100\n",
      "building tree 69 of 100\n",
      "building tree 70 of 100\n",
      "building tree 71 of 100\n",
      "building tree 72 of 100\n",
      "building tree 73 of 100\n",
      "building tree 74 of 100\n",
      "building tree 75 of 100\n",
      "building tree 76 of 100\n",
      "building tree 77 of 100\n",
      "building tree 78 of 100\n",
      "building tree 79 of 100\n",
      "building tree 80 of 100\n",
      "building tree 81 of 100\n",
      "building tree 82 of 100\n",
      "building tree 83 of 100\n",
      "building tree 84 of 100\n",
      "building tree 85 of 100\n",
      "building tree 86 of 100\n",
      "building tree 87 of 100\n",
      "building tree 88 of 100\n",
      "building tree 89 of 100\n",
      "building tree 90 of 100\n",
      "building tree 91 of 100\n",
      "building tree 92 of 100\n",
      "building tree 93 of 100\n",
      "building tree 94 of 100\n",
      "building tree 95 of 100\n",
      "building tree 96 of 100\n",
      "building tree 97 of 100\n",
      "building tree 98 of 100\n",
      "building tree 99 of 100\n",
      "building tree 100 of 100\n"
     ]
    },
    {
     "name": "stderr",
     "output_type": "stream",
     "text": [
      "[Parallel(n_jobs=1)]: Done 100 out of 100 | elapsed:  1.4min finished\n"
     ]
    },
    {
     "data": {
      "text/plain": [
       "RandomForestClassifier(bootstrap=True, ccp_alpha=0.0, class_weight=None,\n",
       "                       criterion='gini', max_depth=None, max_features='auto',\n",
       "                       max_leaf_nodes=None, max_samples=None,\n",
       "                       min_impurity_decrease=0.0, min_impurity_split=None,\n",
       "                       min_samples_leaf=1, min_samples_split=2,\n",
       "                       min_weight_fraction_leaf=0.0, n_estimators=100,\n",
       "                       n_jobs=None, oob_score=False, random_state=111,\n",
       "                       verbose=2, warm_start=False)"
      ]
     },
     "execution_count": 61,
     "metadata": {},
     "output_type": "execute_result"
    }
   ],
   "source": [
    "#split training and test set, keep random_state to be an integer for reproducibility\n",
    "#train the forest (this can take a while)\n",
    "#in the example, about 2/3 go to training and 1/3 go to test\n",
    "#X_train, X_test, y_train, y_test = train_test_split(fps_merged,activity, test_size=0.33, random_state=39)\n",
    "rf=RandomForestClassifier(verbose=2, n_estimators=100, random_state=111)\n",
    "#rg=RandomForestRegressor(verbose=2, n_estimators=100, random_state=111)\n",
    "rf.fit(np.asarray(X_train), np.asarray(y_train))"
   ]
  },
  {
   "cell_type": "code",
   "execution_count": 62,
   "metadata": {},
   "outputs": [
    {
     "name": "stderr",
     "output_type": "stream",
     "text": [
      "[Parallel(n_jobs=1)]: Using backend SequentialBackend with 1 concurrent workers.\n",
      "[Parallel(n_jobs=1)]: Done   1 out of   1 | elapsed:    0.0s remaining:    0.0s\n",
      "[Parallel(n_jobs=1)]: Done 100 out of 100 | elapsed:    1.4s finished\n",
      "[Parallel(n_jobs=1)]: Using backend SequentialBackend with 1 concurrent workers.\n",
      "[Parallel(n_jobs=1)]: Done   1 out of   1 | elapsed:    0.0s remaining:    0.0s\n"
     ]
    },
    {
     "name": "stdout",
     "output_type": "stream",
     "text": [
      "0.999971310123223\n"
     ]
    },
    {
     "name": "stderr",
     "output_type": "stream",
     "text": [
      "[Parallel(n_jobs=1)]: Done 100 out of 100 | elapsed:    1.5s finished\n"
     ]
    }
   ],
   "source": [
    "y_pred=rf.predict(X_test)\n",
    "#print(y_pred)\n",
    "#show probabilities; print(rf.predict_proba(X_test))\n",
    "print(rf.score(X_test, y_test))"
   ]
  },
  {
   "cell_type": "code",
   "execution_count": 63,
   "metadata": {},
   "outputs": [
    {
     "data": {
      "image/png": "[encoded data removed]",
      "text/plain": [
       "<Figure size 432x288 with 1 Axes>"
      ]
     },
     "metadata": {
      "needs_background": "light"
     },
     "output_type": "display_data"
    },
    {
     "name": "stdout",
     "output_type": "stream",
     "text": [
      "              precision    recall  f1-score   support\n",
      "\n",
      "         0.0       1.00      1.00      1.00     69670\n",
      "         1.0       0.95      1.00      0.98        41\n",
      "\n",
      "    accuracy                           1.00     69711\n",
      "   macro avg       0.98      1.00      0.99     69711\n",
      "weighted avg       1.00      1.00      1.00     69711\n",
      "\n"
     ]
    }
   ],
   "source": [
    "#get the index of the features (of RDkit fingerprint) that were important\n",
    "importances = rf.feature_importances_\n",
    "featurenums = np.array([str(x).zfill(2) for x in range(len(importances))])\n",
    "indices = np.argsort(importances)[::-1][0:25]#get the 25 most important features\n",
    "plt.title('Feature Importances (train set)')\n",
    "plt.bar(range(len(indices)), importances[indices], align='center')\n",
    "plt.ylabel('Relative Importance')\n",
    "plt.xticks(range(len(indices)), featurenums[indices], rotation=90)\n",
    "plt.show()\n",
    "#output metrics\n",
    "print(classification_report(y_test, y_pred))\n"
   ]
  },
  {
   "cell_type": "code",
   "execution_count": 79,
   "metadata": {},
   "outputs": [
    {
     "name": "stdout",
     "output_type": "stream",
     "text": [
      "(array([], dtype=int64),)\n",
      "70395\n"
     ]
    }
   ],
   "source": [
    "nan_array=np.isnan(y2_train)\n",
    "X_train2=X_train[~nan_array]\n",
    "y2_train2=y2_train[~nan_array]"
   ]
  },
  {
   "cell_type": "code",
   "execution_count": 80,
   "metadata": {},
   "outputs": [
    {
     "name": "stderr",
     "output_type": "stream",
     "text": [
      "[Parallel(n_jobs=1)]: Using backend SequentialBackend with 1 concurrent workers.\n"
     ]
    },
    {
     "name": "stdout",
     "output_type": "stream",
     "text": [
      "building tree 1 of 100\n"
     ]
    },
    {
     "name": "stderr",
     "output_type": "stream",
     "text": [
      "[Parallel(n_jobs=1)]: Done   1 out of   1 | elapsed:   52.2s remaining:    0.0s\n"
     ]
    },
    {
     "name": "stdout",
     "output_type": "stream",
     "text": [
      "building tree 2 of 100\n",
      "building tree 3 of 100\n",
      "building tree 4 of 100\n",
      "building tree 5 of 100\n",
      "building tree 6 of 100\n",
      "building tree 7 of 100\n",
      "building tree 8 of 100\n",
      "building tree 9 of 100\n",
      "building tree 10 of 100\n",
      "building tree 11 of 100\n",
      "building tree 12 of 100\n",
      "building tree 13 of 100\n",
      "building tree 14 of 100\n",
      "building tree 15 of 100\n",
      "building tree 16 of 100\n",
      "building tree 17 of 100\n",
      "building tree 18 of 100\n",
      "building tree 19 of 100\n",
      "building tree 20 of 100\n",
      "building tree 21 of 100\n",
      "building tree 22 of 100\n",
      "building tree 23 of 100\n",
      "building tree 24 of 100\n",
      "building tree 25 of 100\n",
      "building tree 26 of 100\n",
      "building tree 27 of 100\n",
      "building tree 28 of 100\n",
      "building tree 29 of 100\n",
      "building tree 30 of 100\n",
      "building tree 31 of 100\n",
      "building tree 32 of 100\n",
      "building tree 33 of 100\n",
      "building tree 34 of 100\n",
      "building tree 35 of 100\n",
      "building tree 36 of 100\n",
      "building tree 37 of 100\n",
      "building tree 38 of 100\n",
      "building tree 39 of 100\n",
      "building tree 40 of 100\n",
      "building tree 41 of 100\n",
      "building tree 42 of 100\n",
      "building tree 43 of 100\n",
      "building tree 44 of 100\n",
      "building tree 45 of 100\n",
      "building tree 46 of 100\n",
      "building tree 47 of 100\n",
      "building tree 48 of 100\n",
      "building tree 49 of 100\n",
      "building tree 50 of 100\n",
      "building tree 51 of 100\n",
      "building tree 52 of 100\n",
      "building tree 53 of 100\n",
      "building tree 54 of 100\n",
      "building tree 55 of 100\n",
      "building tree 56 of 100\n",
      "building tree 57 of 100\n",
      "building tree 58 of 100\n",
      "building tree 59 of 100\n",
      "building tree 60 of 100\n",
      "building tree 61 of 100\n",
      "building tree 62 of 100\n",
      "building tree 63 of 100\n",
      "building tree 64 of 100\n",
      "building tree 65 of 100\n",
      "building tree 66 of 100\n",
      "building tree 67 of 100\n",
      "building tree 68 of 100\n",
      "building tree 69 of 100\n",
      "building tree 70 of 100\n",
      "building tree 71 of 100\n",
      "building tree 72 of 100\n",
      "building tree 73 of 100\n",
      "building tree 74 of 100\n",
      "building tree 75 of 100\n",
      "building tree 76 of 100\n",
      "building tree 77 of 100\n",
      "building tree 78 of 100\n",
      "building tree 79 of 100\n",
      "building tree 80 of 100\n",
      "building tree 81 of 100\n",
      "building tree 82 of 100\n",
      "building tree 83 of 100\n",
      "building tree 84 of 100\n",
      "building tree 85 of 100\n",
      "building tree 86 of 100\n",
      "building tree 87 of 100\n",
      "building tree 88 of 100\n",
      "building tree 89 of 100\n",
      "building tree 90 of 100\n",
      "building tree 91 of 100\n",
      "building tree 92 of 100\n",
      "building tree 93 of 100\n",
      "building tree 94 of 100\n",
      "building tree 95 of 100\n",
      "building tree 96 of 100\n",
      "building tree 97 of 100\n",
      "building tree 98 of 100\n",
      "building tree 99 of 100\n",
      "building tree 100 of 100\n"
     ]
    },
    {
     "name": "stderr",
     "output_type": "stream",
     "text": [
      "[Parallel(n_jobs=1)]: Done 100 out of 100 | elapsed: 69.8min finished\n"
     ]
    },
    {
     "data": {
      "text/plain": [
       "RandomForestRegressor(bootstrap=True, ccp_alpha=0.0, criterion='mse',\n",
       "                      max_depth=None, max_features='auto', max_leaf_nodes=None,\n",
       "                      max_samples=None, min_impurity_decrease=0.0,\n",
       "                      min_impurity_split=None, min_samples_leaf=1,\n",
       "                      min_samples_split=2, min_weight_fraction_leaf=0.0,\n",
       "                      n_estimators=100, n_jobs=None, oob_score=False,\n",
       "                      random_state=111, verbose=2, warm_start=False)"
      ]
     },
     "execution_count": 80,
     "metadata": {},
     "output_type": "execute_result"
    }
   ],
   "source": [
    "#now train the regressor, which is to predict the activity value itself\n",
    "#takes about 1 hour to run\n",
    "rg.fit(np.asarray(X_train2), np.asarray(y2_train2))"
   ]
  },
  {
   "cell_type": "code",
   "execution_count": 7,
   "metadata": {},
   "outputs": [
    {
     "name": "stderr",
     "output_type": "stream",
     "text": [
      "[Parallel(n_jobs=1)]: Using backend SequentialBackend with 1 concurrent workers.\n",
      "[Parallel(n_jobs=1)]: Done   1 out of   1 | elapsed:    0.1s remaining:    0.0s\n"
     ]
    },
    {
     "name": "stdout",
     "output_type": "stream",
     "text": [
      "building tree 1 of 50\n",
      "building tree 2 of 50\n",
      "building tree 3 of 50\n",
      "building tree 4 of 50\n",
      "building tree 5 of 50\n",
      "building tree 6 of 50\n",
      "building tree 7 of 50\n",
      "building tree 8 of 50\n",
      "building tree 9 of 50\n",
      "building tree 10 of 50\n",
      "building tree 11 of 50\n",
      "building tree 12 of 50\n",
      "building tree 13 of 50\n",
      "building tree 14 of 50\n",
      "building tree 15 of 50\n",
      "building tree 16 of 50\n",
      "building tree 17 of 50\n",
      "building tree 18 of 50\n",
      "building tree 19 of 50\n",
      "building tree 20 of 50\n",
      "building tree 21 of 50\n",
      "building tree 22 of 50\n",
      "building tree 23 of 50\n",
      "building tree 24 of 50\n",
      "building tree 25 of 50\n",
      "building tree 26 of 50\n",
      "building tree 27 of 50\n",
      "building tree 28 of 50\n",
      "building tree 29 of 50\n",
      "building tree 30 of 50\n",
      "building tree 31 of 50\n",
      "building tree 32 of 50\n",
      "building tree 33 of 50\n",
      "building tree 34 of 50\n",
      "building tree 35 of 50\n",
      "building tree 36 of 50\n",
      "building tree 37 of 50\n",
      "building tree 38 of 50\n",
      "building tree 39 of 50\n",
      "building tree 40 of 50\n",
      "building tree 41 of 50\n",
      "building tree 42 of 50\n",
      "building tree 43 of 50\n",
      "building tree 44 of 50\n",
      "building tree 45 of 50\n",
      "building tree 46 of 50\n",
      "building tree 47 of 50\n",
      "building tree 48 of 50\n",
      "building tree 49 of 50\n",
      "building tree 50 of 50\n"
     ]
    },
    {
     "name": "stderr",
     "output_type": "stream",
     "text": [
      "[Parallel(n_jobs=1)]: Done  50 out of  50 | elapsed:    3.3s finished\n"
     ]
    },
    {
     "data": {
      "text/plain": [
       "RandomForestRegressor(bootstrap=True, ccp_alpha=0.0, criterion='mse',\n",
       "                      max_depth=None, max_features='auto', max_leaf_nodes=None,\n",
       "                      max_samples=None, min_impurity_decrease=0.0,\n",
       "                      min_impurity_split=None, min_samples_leaf=1,\n",
       "                      min_samples_split=2, min_weight_fraction_leaf=0.0,\n",
       "                      n_estimators=50, n_jobs=None, oob_score=False,\n",
       "                      random_state=111, verbose=2, warm_start=False)"
      ]
     },
     "execution_count": 7,
     "metadata": {},
     "output_type": "execute_result"
    }
   ],
   "source": [
    "X_test_reg=fps_merged[test]\n",
    "X_train_reg=np.concatenate((fps_merged[train], fps_merged[92::]))\n",
    "y2_train_reg=np.concatenate((ac_merged[train], ac_merged[92::]))\n",
    "y2_test_reg=ac_merged[test]\n",
    "nan_array=np.isnan(y2_train_reg)\n",
    "X_train_reg=X_train_reg[~nan_array]\n",
    "y2_train_reg=y2_train_reg[~nan_array]\n",
    "rg=RandomForestRegressor(verbose=2, n_estimators=50, random_state=111)\n",
    "rg.fit(np.asarray(X_train_reg), np.asarray(y2_train_reg))"
   ]
  },
  {
   "cell_type": "code",
   "execution_count": 8,
   "metadata": {},
   "outputs": [
    {
     "name": "stderr",
     "output_type": "stream",
     "text": [
      "[Parallel(n_jobs=1)]: Using backend SequentialBackend with 1 concurrent workers.\n",
      "[Parallel(n_jobs=1)]: Done   1 out of   1 | elapsed:    0.0s remaining:    0.0s\n"
     ]
    },
    {
     "name": "stdout",
     "output_type": "stream",
     "text": [
      "-661.8812329931134\n"
     ]
    },
    {
     "name": "stderr",
     "output_type": "stream",
     "text": [
      "[Parallel(n_jobs=1)]: Done  50 out of  50 | elapsed:    1.0s finished\n"
     ]
    }
   ],
   "source": [
    "y_pred_regr=rg.predict(X_test)\n",
    "from sklearn.metrics import r2_score\n",
    "print(r2_score(y2_test, y_pred_regr))"
   ]
  },
  {
   "cell_type": "code",
   "execution_count": 9,
   "metadata": {},
   "outputs": [
    {
     "name": "stdout",
     "output_type": "stream",
     "text": [
      "-0.38381997637138743\n"
     ]
    },
    {
     "name": "stderr",
     "output_type": "stream",
     "text": [
      "[Parallel(n_jobs=1)]: Using backend SequentialBackend with 1 concurrent workers.\n",
      "[Parallel(n_jobs=1)]: Done   1 out of   1 | elapsed:    0.0s remaining:    0.0s\n",
      "[Parallel(n_jobs=1)]: Done  50 out of  50 | elapsed:    0.0s finished\n"
     ]
    }
   ],
   "source": [
    "y_pred_reg_noneg=rg.predict(X_test_reg)\n",
    "print(r2_score(y2_test_reg, y_pred_reg_noneg))"
   ]
  },
  {
   "cell_type": "code",
   "execution_count": 90,
   "metadata": {},
   "outputs": [
    {
     "data": {
      "image/png": "[encoded data removed]",
      "text/plain": [
       "<Figure size 432x288 with 1 Axes>"
      ]
     },
     "metadata": {
      "needs_background": "light"
     },
     "output_type": "display_data"
    }
   ],
   "source": [
    "importances = rg.feature_importances_\n",
    "featurenums = np.array([str(x).zfill(2) for x in range(len(importances))])\n",
    "indices = np.argsort(importances)[::-1][0:25]#get the 25 most important features\n",
    "plt.title('Feature Importances (train set)')\n",
    "plt.bar(range(len(indices)), importances[indices], align='center')\n",
    "plt.ylabel('Relative Importance')\n",
    "plt.xticks(range(len(indices)), featurenums[indices], rotation=90)\n",
    "plt.show()"
   ]
  },
  {
   "cell_type": "code",
   "execution_count": 10,
   "metadata": {},
   "outputs": [
    {
     "data": {
      "image/png": "[encoded data removed]",
      "text/plain": [
       "<Figure size 432x288 with 1 Axes>"
      ]
     },
     "metadata": {
      "needs_background": "light"
     },
     "output_type": "display_data"
    }
   ],
   "source": [
    "# Dataframe with predictions and dates\n",
    "plt.plot(y2_test_reg, 'b.', label = 'actual')\n",
    "# Plot the predicted values\n",
    "plt.plot(y_pred_reg_noneg, 'ro', label = 'prediction')\n",
    "plt.xticks(rotation = '60'); \n",
    "\n",
    "# Graph labels\n",
    "plt.ylabel('activity value'); plt.title('Actual and Predicted Values');"
   ]
  },
  {
   "cell_type": "code",
   "execution_count": null,
   "metadata": {},
   "outputs": [],
   "source": []
  }
 ],
 "metadata": {
  "kernelspec": {
   "display_name": "Python 3",
   "language": "python",
   "name": "python3"
  },
  "language_info": {
   "codemirror_mode": {
    "name": "ipython",
    "version": 3
   },
   "file_extension": ".py",
   "mimetype": "text/x-python",
   "name": "python",
   "nbconvert_exporter": "python",
   "pygments_lexer": "ipython3",
   "version": "3.7.6"
  },
  "varInspector": {
   "cols": {
    "lenName": 16,
    "lenType": 16,
    "lenVar": 40
   },
   "kernels_config": {
    "python": {
     "delete_cmd_postfix": "",
     "delete_cmd_prefix": "del ",
     "library": "var_list.py",
     "varRefreshCmd": "print(var_dic_list())"
    },
    "r": {
     "delete_cmd_postfix": ") ",
     "delete_cmd_prefix": "rm(",
     "library": "var_list.r",
     "varRefreshCmd": "cat(var_dic_list()) "
    }
   },
   "position": {
    "height": "402px",
    "left": "823px",
    "right": "20px",
    "top": "75px",
    "width": "300px"
   },
   "types_to_exclude": [
    "module",
    "function",
    "builtin_function_or_method",
    "instance",
    "_Feature"
   ],
   "window_display": false
  }
 },
 "nbformat": 4,
 "nbformat_minor": 4
}
